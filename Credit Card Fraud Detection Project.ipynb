{
 "cells": [
  {
   "cell_type": "markdown",
   "id": "58d6fa4b",
   "metadata": {},
   "source": [
    "### Import Libraries"
   ]
  },
  {
   "cell_type": "code",
   "execution_count": 1,
   "id": "d9f2b535",
   "metadata": {},
   "outputs": [],
   "source": [
    "import pandas as pd\n",
    "import seaborn as sns\n",
    "import numpy as np # linear algebra\n",
    "import pandas as pd # data processing, CSV file I/O (e.g. pd.read_csv)\n",
    "import matplotlib.pyplot as plt # for data visualization purposes\n",
    "import seaborn as sns # for statistical data visualization\n",
    "%matplotlib inline\n",
    "from collections import Counter\n",
    "import itertools\n",
    "from sklearn.preprocessing import StandardScaler\n",
    "from sklearn.model_selection import train_test_split\n",
    "from sklearn.linear_model import LogisticRegression\n",
    "from sklearn.tree import DecisionTreeClassifier\n",
    "from sklearn.ensemble import RandomForestClassifier\n",
    "from sklearn.neighbors import KNeighborsClassifier\n",
    "from sklearn.svm import LinearSVC\n",
    "from sklearn.naive_bayes import GaussianNB\n",
    "from sklearn.metrics import accuracy_score, classification_report ,confusion_matrix, ConfusionMatrixDisplay, roc_curve, roc_auc_score"
   ]
  },
  {
   "cell_type": "markdown",
   "id": "a7c7030f",
   "metadata": {},
   "source": [
    "### Import dataset"
   ]
  },
  {
   "cell_type": "code",
   "execution_count": 2,
   "id": "44e19058",
   "metadata": {},
   "outputs": [],
   "source": [
    "# Import dataset\n",
    "df = pd.read_csv(\"creditcard.csv\")"
   ]
  },
  {
   "cell_type": "markdown",
   "id": "df0d310b",
   "metadata": {},
   "source": [
    "### Exploratory data analysis"
   ]
  },
  {
   "cell_type": "code",
   "execution_count": 3,
   "id": "a538408d",
   "metadata": {},
   "outputs": [
    {
     "data": {
      "text/plain": [
       "(284807, 31)"
      ]
     },
     "execution_count": 3,
     "metadata": {},
     "output_type": "execute_result"
    }
   ],
   "source": [
    "# view dimensions of the dataset\n",
    "\n",
    "df.shape"
   ]
  },
  {
   "cell_type": "markdown",
   "id": "ba66c664",
   "metadata": {},
   "source": [
    "We can see that there are 284807 instances and 31 attributes in the data set."
   ]
  },
  {
   "cell_type": "code",
   "execution_count": 4,
   "id": "400138c1",
   "metadata": {},
   "outputs": [
    {
     "data": {
      "text/html": [
       "<div>\n",
       "<style scoped>\n",
       "    .dataframe tbody tr th:only-of-type {\n",
       "        vertical-align: middle;\n",
       "    }\n",
       "\n",
       "    .dataframe tbody tr th {\n",
       "        vertical-align: top;\n",
       "    }\n",
       "\n",
       "    .dataframe thead th {\n",
       "        text-align: right;\n",
       "    }\n",
       "</style>\n",
       "<table border=\"1\" class=\"dataframe\">\n",
       "  <thead>\n",
       "    <tr style=\"text-align: right;\">\n",
       "      <th></th>\n",
       "      <th>Time</th>\n",
       "      <th>V1</th>\n",
       "      <th>V2</th>\n",
       "      <th>V3</th>\n",
       "      <th>V4</th>\n",
       "      <th>V5</th>\n",
       "      <th>V6</th>\n",
       "      <th>V7</th>\n",
       "      <th>V8</th>\n",
       "      <th>V9</th>\n",
       "      <th>...</th>\n",
       "      <th>V21</th>\n",
       "      <th>V22</th>\n",
       "      <th>V23</th>\n",
       "      <th>V24</th>\n",
       "      <th>V25</th>\n",
       "      <th>V26</th>\n",
       "      <th>V27</th>\n",
       "      <th>V28</th>\n",
       "      <th>Amount</th>\n",
       "      <th>Class</th>\n",
       "    </tr>\n",
       "  </thead>\n",
       "  <tbody>\n",
       "    <tr>\n",
       "      <th>0</th>\n",
       "      <td>0.0</td>\n",
       "      <td>-1.359807</td>\n",
       "      <td>-0.072781</td>\n",
       "      <td>2.536347</td>\n",
       "      <td>1.378155</td>\n",
       "      <td>-0.338321</td>\n",
       "      <td>0.462388</td>\n",
       "      <td>0.239599</td>\n",
       "      <td>0.098698</td>\n",
       "      <td>0.363787</td>\n",
       "      <td>...</td>\n",
       "      <td>-0.018307</td>\n",
       "      <td>0.277838</td>\n",
       "      <td>-0.110474</td>\n",
       "      <td>0.066928</td>\n",
       "      <td>0.128539</td>\n",
       "      <td>-0.189115</td>\n",
       "      <td>0.133558</td>\n",
       "      <td>-0.021053</td>\n",
       "      <td>149.62</td>\n",
       "      <td>0</td>\n",
       "    </tr>\n",
       "    <tr>\n",
       "      <th>1</th>\n",
       "      <td>0.0</td>\n",
       "      <td>1.191857</td>\n",
       "      <td>0.266151</td>\n",
       "      <td>0.166480</td>\n",
       "      <td>0.448154</td>\n",
       "      <td>0.060018</td>\n",
       "      <td>-0.082361</td>\n",
       "      <td>-0.078803</td>\n",
       "      <td>0.085102</td>\n",
       "      <td>-0.255425</td>\n",
       "      <td>...</td>\n",
       "      <td>-0.225775</td>\n",
       "      <td>-0.638672</td>\n",
       "      <td>0.101288</td>\n",
       "      <td>-0.339846</td>\n",
       "      <td>0.167170</td>\n",
       "      <td>0.125895</td>\n",
       "      <td>-0.008983</td>\n",
       "      <td>0.014724</td>\n",
       "      <td>2.69</td>\n",
       "      <td>0</td>\n",
       "    </tr>\n",
       "    <tr>\n",
       "      <th>2</th>\n",
       "      <td>1.0</td>\n",
       "      <td>-1.358354</td>\n",
       "      <td>-1.340163</td>\n",
       "      <td>1.773209</td>\n",
       "      <td>0.379780</td>\n",
       "      <td>-0.503198</td>\n",
       "      <td>1.800499</td>\n",
       "      <td>0.791461</td>\n",
       "      <td>0.247676</td>\n",
       "      <td>-1.514654</td>\n",
       "      <td>...</td>\n",
       "      <td>0.247998</td>\n",
       "      <td>0.771679</td>\n",
       "      <td>0.909412</td>\n",
       "      <td>-0.689281</td>\n",
       "      <td>-0.327642</td>\n",
       "      <td>-0.139097</td>\n",
       "      <td>-0.055353</td>\n",
       "      <td>-0.059752</td>\n",
       "      <td>378.66</td>\n",
       "      <td>0</td>\n",
       "    </tr>\n",
       "    <tr>\n",
       "      <th>3</th>\n",
       "      <td>1.0</td>\n",
       "      <td>-0.966272</td>\n",
       "      <td>-0.185226</td>\n",
       "      <td>1.792993</td>\n",
       "      <td>-0.863291</td>\n",
       "      <td>-0.010309</td>\n",
       "      <td>1.247203</td>\n",
       "      <td>0.237609</td>\n",
       "      <td>0.377436</td>\n",
       "      <td>-1.387024</td>\n",
       "      <td>...</td>\n",
       "      <td>-0.108300</td>\n",
       "      <td>0.005274</td>\n",
       "      <td>-0.190321</td>\n",
       "      <td>-1.175575</td>\n",
       "      <td>0.647376</td>\n",
       "      <td>-0.221929</td>\n",
       "      <td>0.062723</td>\n",
       "      <td>0.061458</td>\n",
       "      <td>123.50</td>\n",
       "      <td>0</td>\n",
       "    </tr>\n",
       "    <tr>\n",
       "      <th>4</th>\n",
       "      <td>2.0</td>\n",
       "      <td>-1.158233</td>\n",
       "      <td>0.877737</td>\n",
       "      <td>1.548718</td>\n",
       "      <td>0.403034</td>\n",
       "      <td>-0.407193</td>\n",
       "      <td>0.095921</td>\n",
       "      <td>0.592941</td>\n",
       "      <td>-0.270533</td>\n",
       "      <td>0.817739</td>\n",
       "      <td>...</td>\n",
       "      <td>-0.009431</td>\n",
       "      <td>0.798278</td>\n",
       "      <td>-0.137458</td>\n",
       "      <td>0.141267</td>\n",
       "      <td>-0.206010</td>\n",
       "      <td>0.502292</td>\n",
       "      <td>0.219422</td>\n",
       "      <td>0.215153</td>\n",
       "      <td>69.99</td>\n",
       "      <td>0</td>\n",
       "    </tr>\n",
       "  </tbody>\n",
       "</table>\n",
       "<p>5 rows × 31 columns</p>\n",
       "</div>"
      ],
      "text/plain": [
       "   Time        V1        V2        V3        V4        V5        V6        V7  \\\n",
       "0   0.0 -1.359807 -0.072781  2.536347  1.378155 -0.338321  0.462388  0.239599   \n",
       "1   0.0  1.191857  0.266151  0.166480  0.448154  0.060018 -0.082361 -0.078803   \n",
       "2   1.0 -1.358354 -1.340163  1.773209  0.379780 -0.503198  1.800499  0.791461   \n",
       "3   1.0 -0.966272 -0.185226  1.792993 -0.863291 -0.010309  1.247203  0.237609   \n",
       "4   2.0 -1.158233  0.877737  1.548718  0.403034 -0.407193  0.095921  0.592941   \n",
       "\n",
       "         V8        V9  ...       V21       V22       V23       V24       V25  \\\n",
       "0  0.098698  0.363787  ... -0.018307  0.277838 -0.110474  0.066928  0.128539   \n",
       "1  0.085102 -0.255425  ... -0.225775 -0.638672  0.101288 -0.339846  0.167170   \n",
       "2  0.247676 -1.514654  ...  0.247998  0.771679  0.909412 -0.689281 -0.327642   \n",
       "3  0.377436 -1.387024  ... -0.108300  0.005274 -0.190321 -1.175575  0.647376   \n",
       "4 -0.270533  0.817739  ... -0.009431  0.798278 -0.137458  0.141267 -0.206010   \n",
       "\n",
       "        V26       V27       V28  Amount  Class  \n",
       "0 -0.189115  0.133558 -0.021053  149.62      0  \n",
       "1  0.125895 -0.008983  0.014724    2.69      0  \n",
       "2 -0.139097 -0.055353 -0.059752  378.66      0  \n",
       "3 -0.221929  0.062723  0.061458  123.50      0  \n",
       "4  0.502292  0.219422  0.215153   69.99      0  \n",
       "\n",
       "[5 rows x 31 columns]"
      ]
     },
     "execution_count": 4,
     "metadata": {},
     "output_type": "execute_result"
    }
   ],
   "source": [
    "# preview the dataset\n",
    "\n",
    "df.head()"
   ]
  },
  {
   "cell_type": "code",
   "execution_count": 5,
   "id": "e63d78df",
   "metadata": {},
   "outputs": [
    {
     "name": "stdout",
     "output_type": "stream",
     "text": [
      "<class 'pandas.core.frame.DataFrame'>\n",
      "RangeIndex: 284807 entries, 0 to 284806\n",
      "Data columns (total 31 columns):\n",
      " #   Column  Non-Null Count   Dtype  \n",
      "---  ------  --------------   -----  \n",
      " 0   Time    284807 non-null  float64\n",
      " 1   V1      284807 non-null  float64\n",
      " 2   V2      284807 non-null  float64\n",
      " 3   V3      284807 non-null  float64\n",
      " 4   V4      284807 non-null  float64\n",
      " 5   V5      284807 non-null  float64\n",
      " 6   V6      284807 non-null  float64\n",
      " 7   V7      284807 non-null  float64\n",
      " 8   V8      284807 non-null  float64\n",
      " 9   V9      284807 non-null  float64\n",
      " 10  V10     284807 non-null  float64\n",
      " 11  V11     284807 non-null  float64\n",
      " 12  V12     284807 non-null  float64\n",
      " 13  V13     284807 non-null  float64\n",
      " 14  V14     284807 non-null  float64\n",
      " 15  V15     284807 non-null  float64\n",
      " 16  V16     284807 non-null  float64\n",
      " 17  V17     284807 non-null  float64\n",
      " 18  V18     284807 non-null  float64\n",
      " 19  V19     284807 non-null  float64\n",
      " 20  V20     284807 non-null  float64\n",
      " 21  V21     284807 non-null  float64\n",
      " 22  V22     284807 non-null  float64\n",
      " 23  V23     284807 non-null  float64\n",
      " 24  V24     284807 non-null  float64\n",
      " 25  V25     284807 non-null  float64\n",
      " 26  V26     284807 non-null  float64\n",
      " 27  V27     284807 non-null  float64\n",
      " 28  V28     284807 non-null  float64\n",
      " 29  Amount  284807 non-null  float64\n",
      " 30  Class   284807 non-null  int64  \n",
      "dtypes: float64(30), int64(1)\n",
      "memory usage: 67.4 MB\n"
     ]
    }
   ],
   "source": [
    "# summary of the dataset\n",
    "\n",
    "df.info()"
   ]
  },
  {
   "cell_type": "markdown",
   "id": "02b64e34",
   "metadata": {},
   "source": [
    "We can see that there are no missing values in the dataset and the data is of the correct type"
   ]
  },
  {
   "cell_type": "code",
   "execution_count": 6,
   "id": "0feef899",
   "metadata": {},
   "outputs": [
    {
     "data": {
      "text/html": [
       "<div>\n",
       "<style scoped>\n",
       "    .dataframe tbody tr th:only-of-type {\n",
       "        vertical-align: middle;\n",
       "    }\n",
       "\n",
       "    .dataframe tbody tr th {\n",
       "        vertical-align: top;\n",
       "    }\n",
       "\n",
       "    .dataframe thead th {\n",
       "        text-align: right;\n",
       "    }\n",
       "</style>\n",
       "<table border=\"1\" class=\"dataframe\">\n",
       "  <thead>\n",
       "    <tr style=\"text-align: right;\">\n",
       "      <th></th>\n",
       "      <th>Time</th>\n",
       "      <th>V1</th>\n",
       "      <th>V2</th>\n",
       "      <th>V3</th>\n",
       "      <th>V4</th>\n",
       "      <th>V5</th>\n",
       "      <th>V6</th>\n",
       "      <th>V7</th>\n",
       "      <th>V8</th>\n",
       "      <th>V9</th>\n",
       "      <th>...</th>\n",
       "      <th>V21</th>\n",
       "      <th>V22</th>\n",
       "      <th>V23</th>\n",
       "      <th>V24</th>\n",
       "      <th>V25</th>\n",
       "      <th>V26</th>\n",
       "      <th>V27</th>\n",
       "      <th>V28</th>\n",
       "      <th>Amount</th>\n",
       "      <th>Class</th>\n",
       "    </tr>\n",
       "  </thead>\n",
       "  <tbody>\n",
       "    <tr>\n",
       "      <th>count</th>\n",
       "      <td>284807.000000</td>\n",
       "      <td>2.848070e+05</td>\n",
       "      <td>2.848070e+05</td>\n",
       "      <td>2.848070e+05</td>\n",
       "      <td>2.848070e+05</td>\n",
       "      <td>2.848070e+05</td>\n",
       "      <td>2.848070e+05</td>\n",
       "      <td>2.848070e+05</td>\n",
       "      <td>2.848070e+05</td>\n",
       "      <td>2.848070e+05</td>\n",
       "      <td>...</td>\n",
       "      <td>2.848070e+05</td>\n",
       "      <td>2.848070e+05</td>\n",
       "      <td>2.848070e+05</td>\n",
       "      <td>2.848070e+05</td>\n",
       "      <td>2.848070e+05</td>\n",
       "      <td>2.848070e+05</td>\n",
       "      <td>2.848070e+05</td>\n",
       "      <td>2.848070e+05</td>\n",
       "      <td>284807.000000</td>\n",
       "      <td>284807.000000</td>\n",
       "    </tr>\n",
       "    <tr>\n",
       "      <th>mean</th>\n",
       "      <td>94813.859575</td>\n",
       "      <td>3.918649e-15</td>\n",
       "      <td>5.682686e-16</td>\n",
       "      <td>-8.761736e-15</td>\n",
       "      <td>2.811118e-15</td>\n",
       "      <td>-1.552103e-15</td>\n",
       "      <td>2.040130e-15</td>\n",
       "      <td>-1.698953e-15</td>\n",
       "      <td>-1.893285e-16</td>\n",
       "      <td>-3.147640e-15</td>\n",
       "      <td>...</td>\n",
       "      <td>1.473120e-16</td>\n",
       "      <td>8.042109e-16</td>\n",
       "      <td>5.282512e-16</td>\n",
       "      <td>4.456271e-15</td>\n",
       "      <td>1.426896e-15</td>\n",
       "      <td>1.701640e-15</td>\n",
       "      <td>-3.662252e-16</td>\n",
       "      <td>-1.217809e-16</td>\n",
       "      <td>88.349619</td>\n",
       "      <td>0.001727</td>\n",
       "    </tr>\n",
       "    <tr>\n",
       "      <th>std</th>\n",
       "      <td>47488.145955</td>\n",
       "      <td>1.958696e+00</td>\n",
       "      <td>1.651309e+00</td>\n",
       "      <td>1.516255e+00</td>\n",
       "      <td>1.415869e+00</td>\n",
       "      <td>1.380247e+00</td>\n",
       "      <td>1.332271e+00</td>\n",
       "      <td>1.237094e+00</td>\n",
       "      <td>1.194353e+00</td>\n",
       "      <td>1.098632e+00</td>\n",
       "      <td>...</td>\n",
       "      <td>7.345240e-01</td>\n",
       "      <td>7.257016e-01</td>\n",
       "      <td>6.244603e-01</td>\n",
       "      <td>6.056471e-01</td>\n",
       "      <td>5.212781e-01</td>\n",
       "      <td>4.822270e-01</td>\n",
       "      <td>4.036325e-01</td>\n",
       "      <td>3.300833e-01</td>\n",
       "      <td>250.120109</td>\n",
       "      <td>0.041527</td>\n",
       "    </tr>\n",
       "    <tr>\n",
       "      <th>min</th>\n",
       "      <td>0.000000</td>\n",
       "      <td>-5.640751e+01</td>\n",
       "      <td>-7.271573e+01</td>\n",
       "      <td>-4.832559e+01</td>\n",
       "      <td>-5.683171e+00</td>\n",
       "      <td>-1.137433e+02</td>\n",
       "      <td>-2.616051e+01</td>\n",
       "      <td>-4.355724e+01</td>\n",
       "      <td>-7.321672e+01</td>\n",
       "      <td>-1.343407e+01</td>\n",
       "      <td>...</td>\n",
       "      <td>-3.483038e+01</td>\n",
       "      <td>-1.093314e+01</td>\n",
       "      <td>-4.480774e+01</td>\n",
       "      <td>-2.836627e+00</td>\n",
       "      <td>-1.029540e+01</td>\n",
       "      <td>-2.604551e+00</td>\n",
       "      <td>-2.256568e+01</td>\n",
       "      <td>-1.543008e+01</td>\n",
       "      <td>0.000000</td>\n",
       "      <td>0.000000</td>\n",
       "    </tr>\n",
       "    <tr>\n",
       "      <th>25%</th>\n",
       "      <td>54201.500000</td>\n",
       "      <td>-9.203734e-01</td>\n",
       "      <td>-5.985499e-01</td>\n",
       "      <td>-8.903648e-01</td>\n",
       "      <td>-8.486401e-01</td>\n",
       "      <td>-6.915971e-01</td>\n",
       "      <td>-7.682956e-01</td>\n",
       "      <td>-5.540759e-01</td>\n",
       "      <td>-2.086297e-01</td>\n",
       "      <td>-6.430976e-01</td>\n",
       "      <td>...</td>\n",
       "      <td>-2.283949e-01</td>\n",
       "      <td>-5.423504e-01</td>\n",
       "      <td>-1.618463e-01</td>\n",
       "      <td>-3.545861e-01</td>\n",
       "      <td>-3.171451e-01</td>\n",
       "      <td>-3.269839e-01</td>\n",
       "      <td>-7.083953e-02</td>\n",
       "      <td>-5.295979e-02</td>\n",
       "      <td>5.600000</td>\n",
       "      <td>0.000000</td>\n",
       "    </tr>\n",
       "    <tr>\n",
       "      <th>50%</th>\n",
       "      <td>84692.000000</td>\n",
       "      <td>1.810880e-02</td>\n",
       "      <td>6.548556e-02</td>\n",
       "      <td>1.798463e-01</td>\n",
       "      <td>-1.984653e-02</td>\n",
       "      <td>-5.433583e-02</td>\n",
       "      <td>-2.741871e-01</td>\n",
       "      <td>4.010308e-02</td>\n",
       "      <td>2.235804e-02</td>\n",
       "      <td>-5.142873e-02</td>\n",
       "      <td>...</td>\n",
       "      <td>-2.945017e-02</td>\n",
       "      <td>6.781943e-03</td>\n",
       "      <td>-1.119293e-02</td>\n",
       "      <td>4.097606e-02</td>\n",
       "      <td>1.659350e-02</td>\n",
       "      <td>-5.213911e-02</td>\n",
       "      <td>1.342146e-03</td>\n",
       "      <td>1.124383e-02</td>\n",
       "      <td>22.000000</td>\n",
       "      <td>0.000000</td>\n",
       "    </tr>\n",
       "    <tr>\n",
       "      <th>75%</th>\n",
       "      <td>139320.500000</td>\n",
       "      <td>1.315642e+00</td>\n",
       "      <td>8.037239e-01</td>\n",
       "      <td>1.027196e+00</td>\n",
       "      <td>7.433413e-01</td>\n",
       "      <td>6.119264e-01</td>\n",
       "      <td>3.985649e-01</td>\n",
       "      <td>5.704361e-01</td>\n",
       "      <td>3.273459e-01</td>\n",
       "      <td>5.971390e-01</td>\n",
       "      <td>...</td>\n",
       "      <td>1.863772e-01</td>\n",
       "      <td>5.285536e-01</td>\n",
       "      <td>1.476421e-01</td>\n",
       "      <td>4.395266e-01</td>\n",
       "      <td>3.507156e-01</td>\n",
       "      <td>2.409522e-01</td>\n",
       "      <td>9.104512e-02</td>\n",
       "      <td>7.827995e-02</td>\n",
       "      <td>77.165000</td>\n",
       "      <td>0.000000</td>\n",
       "    </tr>\n",
       "    <tr>\n",
       "      <th>max</th>\n",
       "      <td>172792.000000</td>\n",
       "      <td>2.454930e+00</td>\n",
       "      <td>2.205773e+01</td>\n",
       "      <td>9.382558e+00</td>\n",
       "      <td>1.687534e+01</td>\n",
       "      <td>3.480167e+01</td>\n",
       "      <td>7.330163e+01</td>\n",
       "      <td>1.205895e+02</td>\n",
       "      <td>2.000721e+01</td>\n",
       "      <td>1.559499e+01</td>\n",
       "      <td>...</td>\n",
       "      <td>2.720284e+01</td>\n",
       "      <td>1.050309e+01</td>\n",
       "      <td>2.252841e+01</td>\n",
       "      <td>4.584549e+00</td>\n",
       "      <td>7.519589e+00</td>\n",
       "      <td>3.517346e+00</td>\n",
       "      <td>3.161220e+01</td>\n",
       "      <td>3.384781e+01</td>\n",
       "      <td>25691.160000</td>\n",
       "      <td>1.000000</td>\n",
       "    </tr>\n",
       "  </tbody>\n",
       "</table>\n",
       "<p>8 rows × 31 columns</p>\n",
       "</div>"
      ],
      "text/plain": [
       "                Time            V1            V2            V3            V4  \\\n",
       "count  284807.000000  2.848070e+05  2.848070e+05  2.848070e+05  2.848070e+05   \n",
       "mean    94813.859575  3.918649e-15  5.682686e-16 -8.761736e-15  2.811118e-15   \n",
       "std     47488.145955  1.958696e+00  1.651309e+00  1.516255e+00  1.415869e+00   \n",
       "min         0.000000 -5.640751e+01 -7.271573e+01 -4.832559e+01 -5.683171e+00   \n",
       "25%     54201.500000 -9.203734e-01 -5.985499e-01 -8.903648e-01 -8.486401e-01   \n",
       "50%     84692.000000  1.810880e-02  6.548556e-02  1.798463e-01 -1.984653e-02   \n",
       "75%    139320.500000  1.315642e+00  8.037239e-01  1.027196e+00  7.433413e-01   \n",
       "max    172792.000000  2.454930e+00  2.205773e+01  9.382558e+00  1.687534e+01   \n",
       "\n",
       "                 V5            V6            V7            V8            V9  \\\n",
       "count  2.848070e+05  2.848070e+05  2.848070e+05  2.848070e+05  2.848070e+05   \n",
       "mean  -1.552103e-15  2.040130e-15 -1.698953e-15 -1.893285e-16 -3.147640e-15   \n",
       "std    1.380247e+00  1.332271e+00  1.237094e+00  1.194353e+00  1.098632e+00   \n",
       "min   -1.137433e+02 -2.616051e+01 -4.355724e+01 -7.321672e+01 -1.343407e+01   \n",
       "25%   -6.915971e-01 -7.682956e-01 -5.540759e-01 -2.086297e-01 -6.430976e-01   \n",
       "50%   -5.433583e-02 -2.741871e-01  4.010308e-02  2.235804e-02 -5.142873e-02   \n",
       "75%    6.119264e-01  3.985649e-01  5.704361e-01  3.273459e-01  5.971390e-01   \n",
       "max    3.480167e+01  7.330163e+01  1.205895e+02  2.000721e+01  1.559499e+01   \n",
       "\n",
       "       ...           V21           V22           V23           V24  \\\n",
       "count  ...  2.848070e+05  2.848070e+05  2.848070e+05  2.848070e+05   \n",
       "mean   ...  1.473120e-16  8.042109e-16  5.282512e-16  4.456271e-15   \n",
       "std    ...  7.345240e-01  7.257016e-01  6.244603e-01  6.056471e-01   \n",
       "min    ... -3.483038e+01 -1.093314e+01 -4.480774e+01 -2.836627e+00   \n",
       "25%    ... -2.283949e-01 -5.423504e-01 -1.618463e-01 -3.545861e-01   \n",
       "50%    ... -2.945017e-02  6.781943e-03 -1.119293e-02  4.097606e-02   \n",
       "75%    ...  1.863772e-01  5.285536e-01  1.476421e-01  4.395266e-01   \n",
       "max    ...  2.720284e+01  1.050309e+01  2.252841e+01  4.584549e+00   \n",
       "\n",
       "                V25           V26           V27           V28         Amount  \\\n",
       "count  2.848070e+05  2.848070e+05  2.848070e+05  2.848070e+05  284807.000000   \n",
       "mean   1.426896e-15  1.701640e-15 -3.662252e-16 -1.217809e-16      88.349619   \n",
       "std    5.212781e-01  4.822270e-01  4.036325e-01  3.300833e-01     250.120109   \n",
       "min   -1.029540e+01 -2.604551e+00 -2.256568e+01 -1.543008e+01       0.000000   \n",
       "25%   -3.171451e-01 -3.269839e-01 -7.083953e-02 -5.295979e-02       5.600000   \n",
       "50%    1.659350e-02 -5.213911e-02  1.342146e-03  1.124383e-02      22.000000   \n",
       "75%    3.507156e-01  2.409522e-01  9.104512e-02  7.827995e-02      77.165000   \n",
       "max    7.519589e+00  3.517346e+00  3.161220e+01  3.384781e+01   25691.160000   \n",
       "\n",
       "               Class  \n",
       "count  284807.000000  \n",
       "mean        0.001727  \n",
       "std         0.041527  \n",
       "min         0.000000  \n",
       "25%         0.000000  \n",
       "50%         0.000000  \n",
       "75%         0.000000  \n",
       "max         1.000000  \n",
       "\n",
       "[8 rows x 31 columns]"
      ]
     },
     "execution_count": 6,
     "metadata": {},
     "output_type": "execute_result"
    }
   ],
   "source": [
    "# statistical summary of the dataset\n",
    "\n",
    "df.describe(include='all')"
   ]
  },
  {
   "cell_type": "markdown",
   "id": "92b0fa1c",
   "metadata": {},
   "source": [
    "### Types of variables"
   ]
  },
  {
   "cell_type": "code",
   "execution_count": 7,
   "id": "08d4dfba",
   "metadata": {},
   "outputs": [
    {
     "name": "stdout",
     "output_type": "stream",
     "text": [
      "There are 0 categorical variables\n",
      "\n",
      "The categorical variables are :\n",
      "\n",
      " []\n"
     ]
    }
   ],
   "source": [
    "# Explore variables in the dataset\n",
    "\n",
    "# find categorical variables\n",
    "\n",
    "categorical = [var for var in df.columns if df[var].dtype=='O']\n",
    "\n",
    "print('There are {} categorical variables\\n'.format(len(categorical)))\n",
    "\n",
    "print('The categorical variables are :\\n\\n', categorical)"
   ]
  },
  {
   "cell_type": "markdown",
   "id": "7563bccb",
   "metadata": {},
   "source": [
    "As we can see, the dataset does not have any categorical variables"
   ]
  },
  {
   "cell_type": "code",
   "execution_count": 8,
   "id": "c406492d",
   "metadata": {},
   "outputs": [
    {
     "name": "stdout",
     "output_type": "stream",
     "text": [
      "There are 31 numerical variables\n",
      "\n",
      "The numerical variables are : ['Time', 'V1', 'V2', 'V3', 'V4', 'V5', 'V6', 'V7', 'V8', 'V9', 'V10', 'V11', 'V12', 'V13', 'V14', 'V15', 'V16', 'V17', 'V18', 'V19', 'V20', 'V21', 'V22', 'V23', 'V24', 'V25', 'V26', 'V27', 'V28', 'Amount', 'Class']\n"
     ]
    }
   ],
   "source": [
    "# find numerical variables\n",
    "\n",
    "numerical = [var for var in df.columns if df[var].dtype!='O']\n",
    "\n",
    "print('There are {} numerical variables\\n'.format(len(numerical)))\n",
    "\n",
    "print('The numerical variables are :', numerical)"
   ]
  },
  {
   "cell_type": "code",
   "execution_count": 9,
   "id": "a7b9314f",
   "metadata": {},
   "outputs": [
    {
     "data": {
      "text/html": [
       "<div>\n",
       "<style scoped>\n",
       "    .dataframe tbody tr th:only-of-type {\n",
       "        vertical-align: middle;\n",
       "    }\n",
       "\n",
       "    .dataframe tbody tr th {\n",
       "        vertical-align: top;\n",
       "    }\n",
       "\n",
       "    .dataframe thead th {\n",
       "        text-align: right;\n",
       "    }\n",
       "</style>\n",
       "<table border=\"1\" class=\"dataframe\">\n",
       "  <thead>\n",
       "    <tr style=\"text-align: right;\">\n",
       "      <th></th>\n",
       "      <th>Time</th>\n",
       "      <th>V1</th>\n",
       "      <th>V2</th>\n",
       "      <th>V3</th>\n",
       "      <th>V4</th>\n",
       "      <th>V5</th>\n",
       "      <th>V6</th>\n",
       "      <th>V7</th>\n",
       "      <th>V8</th>\n",
       "      <th>V9</th>\n",
       "      <th>...</th>\n",
       "      <th>V21</th>\n",
       "      <th>V22</th>\n",
       "      <th>V23</th>\n",
       "      <th>V24</th>\n",
       "      <th>V25</th>\n",
       "      <th>V26</th>\n",
       "      <th>V27</th>\n",
       "      <th>V28</th>\n",
       "      <th>Amount</th>\n",
       "      <th>Class</th>\n",
       "    </tr>\n",
       "  </thead>\n",
       "  <tbody>\n",
       "    <tr>\n",
       "      <th>0</th>\n",
       "      <td>0.0</td>\n",
       "      <td>-1.359807</td>\n",
       "      <td>-0.072781</td>\n",
       "      <td>2.536347</td>\n",
       "      <td>1.378155</td>\n",
       "      <td>-0.338321</td>\n",
       "      <td>0.462388</td>\n",
       "      <td>0.239599</td>\n",
       "      <td>0.098698</td>\n",
       "      <td>0.363787</td>\n",
       "      <td>...</td>\n",
       "      <td>-0.018307</td>\n",
       "      <td>0.277838</td>\n",
       "      <td>-0.110474</td>\n",
       "      <td>0.066928</td>\n",
       "      <td>0.128539</td>\n",
       "      <td>-0.189115</td>\n",
       "      <td>0.133558</td>\n",
       "      <td>-0.021053</td>\n",
       "      <td>149.62</td>\n",
       "      <td>0</td>\n",
       "    </tr>\n",
       "    <tr>\n",
       "      <th>1</th>\n",
       "      <td>0.0</td>\n",
       "      <td>1.191857</td>\n",
       "      <td>0.266151</td>\n",
       "      <td>0.166480</td>\n",
       "      <td>0.448154</td>\n",
       "      <td>0.060018</td>\n",
       "      <td>-0.082361</td>\n",
       "      <td>-0.078803</td>\n",
       "      <td>0.085102</td>\n",
       "      <td>-0.255425</td>\n",
       "      <td>...</td>\n",
       "      <td>-0.225775</td>\n",
       "      <td>-0.638672</td>\n",
       "      <td>0.101288</td>\n",
       "      <td>-0.339846</td>\n",
       "      <td>0.167170</td>\n",
       "      <td>0.125895</td>\n",
       "      <td>-0.008983</td>\n",
       "      <td>0.014724</td>\n",
       "      <td>2.69</td>\n",
       "      <td>0</td>\n",
       "    </tr>\n",
       "    <tr>\n",
       "      <th>2</th>\n",
       "      <td>1.0</td>\n",
       "      <td>-1.358354</td>\n",
       "      <td>-1.340163</td>\n",
       "      <td>1.773209</td>\n",
       "      <td>0.379780</td>\n",
       "      <td>-0.503198</td>\n",
       "      <td>1.800499</td>\n",
       "      <td>0.791461</td>\n",
       "      <td>0.247676</td>\n",
       "      <td>-1.514654</td>\n",
       "      <td>...</td>\n",
       "      <td>0.247998</td>\n",
       "      <td>0.771679</td>\n",
       "      <td>0.909412</td>\n",
       "      <td>-0.689281</td>\n",
       "      <td>-0.327642</td>\n",
       "      <td>-0.139097</td>\n",
       "      <td>-0.055353</td>\n",
       "      <td>-0.059752</td>\n",
       "      <td>378.66</td>\n",
       "      <td>0</td>\n",
       "    </tr>\n",
       "    <tr>\n",
       "      <th>3</th>\n",
       "      <td>1.0</td>\n",
       "      <td>-0.966272</td>\n",
       "      <td>-0.185226</td>\n",
       "      <td>1.792993</td>\n",
       "      <td>-0.863291</td>\n",
       "      <td>-0.010309</td>\n",
       "      <td>1.247203</td>\n",
       "      <td>0.237609</td>\n",
       "      <td>0.377436</td>\n",
       "      <td>-1.387024</td>\n",
       "      <td>...</td>\n",
       "      <td>-0.108300</td>\n",
       "      <td>0.005274</td>\n",
       "      <td>-0.190321</td>\n",
       "      <td>-1.175575</td>\n",
       "      <td>0.647376</td>\n",
       "      <td>-0.221929</td>\n",
       "      <td>0.062723</td>\n",
       "      <td>0.061458</td>\n",
       "      <td>123.50</td>\n",
       "      <td>0</td>\n",
       "    </tr>\n",
       "    <tr>\n",
       "      <th>4</th>\n",
       "      <td>2.0</td>\n",
       "      <td>-1.158233</td>\n",
       "      <td>0.877737</td>\n",
       "      <td>1.548718</td>\n",
       "      <td>0.403034</td>\n",
       "      <td>-0.407193</td>\n",
       "      <td>0.095921</td>\n",
       "      <td>0.592941</td>\n",
       "      <td>-0.270533</td>\n",
       "      <td>0.817739</td>\n",
       "      <td>...</td>\n",
       "      <td>-0.009431</td>\n",
       "      <td>0.798278</td>\n",
       "      <td>-0.137458</td>\n",
       "      <td>0.141267</td>\n",
       "      <td>-0.206010</td>\n",
       "      <td>0.502292</td>\n",
       "      <td>0.219422</td>\n",
       "      <td>0.215153</td>\n",
       "      <td>69.99</td>\n",
       "      <td>0</td>\n",
       "    </tr>\n",
       "  </tbody>\n",
       "</table>\n",
       "<p>5 rows × 31 columns</p>\n",
       "</div>"
      ],
      "text/plain": [
       "   Time        V1        V2        V3        V4        V5        V6        V7  \\\n",
       "0   0.0 -1.359807 -0.072781  2.536347  1.378155 -0.338321  0.462388  0.239599   \n",
       "1   0.0  1.191857  0.266151  0.166480  0.448154  0.060018 -0.082361 -0.078803   \n",
       "2   1.0 -1.358354 -1.340163  1.773209  0.379780 -0.503198  1.800499  0.791461   \n",
       "3   1.0 -0.966272 -0.185226  1.792993 -0.863291 -0.010309  1.247203  0.237609   \n",
       "4   2.0 -1.158233  0.877737  1.548718  0.403034 -0.407193  0.095921  0.592941   \n",
       "\n",
       "         V8        V9  ...       V21       V22       V23       V24       V25  \\\n",
       "0  0.098698  0.363787  ... -0.018307  0.277838 -0.110474  0.066928  0.128539   \n",
       "1  0.085102 -0.255425  ... -0.225775 -0.638672  0.101288 -0.339846  0.167170   \n",
       "2  0.247676 -1.514654  ...  0.247998  0.771679  0.909412 -0.689281 -0.327642   \n",
       "3  0.377436 -1.387024  ... -0.108300  0.005274 -0.190321 -1.175575  0.647376   \n",
       "4 -0.270533  0.817739  ... -0.009431  0.798278 -0.137458  0.141267 -0.206010   \n",
       "\n",
       "        V26       V27       V28  Amount  Class  \n",
       "0 -0.189115  0.133558 -0.021053  149.62      0  \n",
       "1  0.125895 -0.008983  0.014724    2.69      0  \n",
       "2 -0.139097 -0.055353 -0.059752  378.66      0  \n",
       "3 -0.221929  0.062723  0.061458  123.50      0  \n",
       "4  0.502292  0.219422  0.215153   69.99      0  \n",
       "\n",
       "[5 rows x 31 columns]"
      ]
     },
     "execution_count": 9,
     "metadata": {},
     "output_type": "execute_result"
    }
   ],
   "source": [
    "# view the numerical variables\n",
    "\n",
    "df[numerical].head()"
   ]
  },
  {
   "cell_type": "markdown",
   "id": "7d2a6518",
   "metadata": {},
   "source": [
    "Summary of numerical variables\n",
    "\n",
    "(a) There are 6 numerical variables.\n",
    "\n",
    "(b) All of the numerical variables are of float64 data type, with 30 of these variable being floats and only one variable being an integer.\n"
   ]
  },
  {
   "cell_type": "code",
   "execution_count": 10,
   "id": "3d93caea",
   "metadata": {},
   "outputs": [
    {
     "data": {
      "text/plain": [
       "Time      0\n",
       "V1        0\n",
       "V2        0\n",
       "V3        0\n",
       "V4        0\n",
       "V5        0\n",
       "V6        0\n",
       "V7        0\n",
       "V8        0\n",
       "V9        0\n",
       "V10       0\n",
       "V11       0\n",
       "V12       0\n",
       "V13       0\n",
       "V14       0\n",
       "V15       0\n",
       "V16       0\n",
       "V17       0\n",
       "V18       0\n",
       "V19       0\n",
       "V20       0\n",
       "V21       0\n",
       "V22       0\n",
       "V23       0\n",
       "V24       0\n",
       "V25       0\n",
       "V26       0\n",
       "V27       0\n",
       "V28       0\n",
       "Amount    0\n",
       "Class     0\n",
       "dtype: int64"
      ]
     },
     "execution_count": 10,
     "metadata": {},
     "output_type": "execute_result"
    }
   ],
   "source": [
    "# check missing values in numerical variables\n",
    "\n",
    "df[numerical].isnull().sum()"
   ]
  },
  {
   "cell_type": "markdown",
   "id": "3ccdebb3",
   "metadata": {},
   "source": [
    "We can see that all the 31 numerical variables do not contain missing values."
   ]
  },
  {
   "cell_type": "markdown",
   "id": "53b1441e",
   "metadata": {},
   "source": [
    "### Declare feature vector and target variable"
   ]
  },
  {
   "cell_type": "code",
   "execution_count": 11,
   "id": "7cce6d30",
   "metadata": {},
   "outputs": [],
   "source": [
    "# declare feature vector and target variable\n",
    "\n",
    "X = df.drop(['Class'], axis=1)\n",
    "\n",
    "y = df['Class']"
   ]
  },
  {
   "cell_type": "code",
   "execution_count": 12,
   "id": "3ee5053e",
   "metadata": {},
   "outputs": [
    {
     "name": "stdout",
     "output_type": "stream",
     "text": [
      "Number of Genuine transactions:  284315\n",
      "Number of Fraud transactions:  492\n",
      "Percentage of Fraud transactions: 0.1727\n"
     ]
    }
   ],
   "source": [
    "# let’s check the number of occurrences of each class label and plot the information using matplotlib.\n",
    "\n",
    "non_fraud = len(df[df.Class == 0])\n",
    "fraud = len(df[df.Class == 1])\n",
    "fraud_percent = (fraud / (fraud + non_fraud)) * 100\n",
    "print(\"Number of Genuine transactions: \", non_fraud)\n",
    "print(\"Number of Fraud transactions: \", fraud)\n",
    "print(\"Percentage of Fraud transactions: {:.4f}\".format(fraud_percent))"
   ]
  },
  {
   "cell_type": "code",
   "execution_count": 13,
   "id": "9a2591d2",
   "metadata": {},
   "outputs": [
    {
     "data": {
      "image/png": "[encoded data removed]",
      "text/plain": [
       "<Figure size 432x288 with 1 Axes>"
      ]
     },
     "metadata": {
      "needs_background": "light"
     },
     "output_type": "display_data"
    }
   ],
   "source": [
    "import matplotlib.pyplot as plt\n",
    "labels = [\"Genuine\", \"Fraud\"]\n",
    "count_classes = df.value_counts(df['Class'], sort= True)\n",
    "count_classes.plot(kind = \"bar\", rot = 0)\n",
    "plt.title(\"Visualization of Labels\")\n",
    "plt.ylabel(\"Count\")\n",
    "plt.xticks(range(2), labels)\n",
    "plt.show()"
   ]
  },
  {
   "cell_type": "markdown",
   "id": "619e6009",
   "metadata": {},
   "source": [
    "We can observe that the genuine transactions are over 99%! This is not good."
   ]
  },
  {
   "cell_type": "code",
   "execution_count": 14,
   "id": "fdac12a3",
   "metadata": {},
   "outputs": [],
   "source": [
    "# Let’s apply scaling techniques on the “Amount” feature to transform the range of values. We drop the original “Amount” column and add a new column with the scaled values. We also drop the “Time” column as it is irrelevant.\n",
    "\n",
    "scaler = StandardScaler()\n",
    "df[\"NormalizedAmount\"] = scaler.fit_transform(df[\"Amount\"].values.reshape(-1, 1))\n",
    "df.drop([\"Amount\", \"Time\"], inplace= True, axis= 1)"
   ]
  },
  {
   "cell_type": "markdown",
   "id": "52260f93",
   "metadata": {},
   "source": [
    "### Data Visualization "
   ]
  },
  {
   "cell_type": "code",
   "execution_count": 17,
   "id": "4d2863ea",
   "metadata": {},
   "outputs": [
    {
     "data": {
      "text/plain": [
       "['V1',\n",
       " 'V2',\n",
       " 'V3',\n",
       " 'V4',\n",
       " 'V5',\n",
       " 'V6',\n",
       " 'V7',\n",
       " 'V8',\n",
       " 'V9',\n",
       " 'V10',\n",
       " 'V11',\n",
       " 'V12',\n",
       " 'V13',\n",
       " 'V14',\n",
       " 'V15',\n",
       " 'V16',\n",
       " 'V17',\n",
       " 'V18',\n",
       " 'V19',\n",
       " 'V20',\n",
       " 'V21',\n",
       " 'V22',\n",
       " 'V23',\n",
       " 'V24',\n",
       " 'V25',\n",
       " 'V26',\n",
       " 'V27',\n",
       " 'V28',\n",
       " 'Class',\n",
       " 'NormalizedAmount']"
      ]
     },
     "execution_count": 17,
     "metadata": {},
     "output_type": "execute_result"
    }
   ],
   "source": [
    "#List of all numeric columns\n",
    "num = df.select_dtypes('number').columns.to_list()\n",
    "num"
   ]
  },
  {
   "cell_type": "code",
   "execution_count": 22,
   "id": "0cfbb03f",
   "metadata": {},
   "outputs": [
    {
     "data": {
      "text/html": [
       "<div>\n",
       "<style scoped>\n",
       "    .dataframe tbody tr th:only-of-type {\n",
       "        vertical-align: middle;\n",
       "    }\n",
       "\n",
       "    .dataframe tbody tr th {\n",
       "        vertical-align: top;\n",
       "    }\n",
       "\n",
       "    .dataframe thead th {\n",
       "        text-align: right;\n",
       "    }\n",
       "</style>\n",
       "<table border=\"1\" class=\"dataframe\">\n",
       "  <thead>\n",
       "    <tr style=\"text-align: right;\">\n",
       "      <th></th>\n",
       "      <th>V1</th>\n",
       "      <th>V2</th>\n",
       "      <th>V3</th>\n",
       "      <th>V4</th>\n",
       "      <th>V5</th>\n",
       "      <th>V6</th>\n",
       "      <th>V7</th>\n",
       "      <th>V8</th>\n",
       "      <th>V9</th>\n",
       "      <th>V10</th>\n",
       "      <th>...</th>\n",
       "      <th>V21</th>\n",
       "      <th>V22</th>\n",
       "      <th>V23</th>\n",
       "      <th>V24</th>\n",
       "      <th>V25</th>\n",
       "      <th>V26</th>\n",
       "      <th>V27</th>\n",
       "      <th>V28</th>\n",
       "      <th>Class</th>\n",
       "      <th>NormalizedAmount</th>\n",
       "    </tr>\n",
       "  </thead>\n",
       "  <tbody>\n",
       "    <tr>\n",
       "      <th>0</th>\n",
       "      <td>-1.359807</td>\n",
       "      <td>-0.072781</td>\n",
       "      <td>2.536347</td>\n",
       "      <td>1.378155</td>\n",
       "      <td>-0.338321</td>\n",
       "      <td>0.462388</td>\n",
       "      <td>0.239599</td>\n",
       "      <td>0.098698</td>\n",
       "      <td>0.363787</td>\n",
       "      <td>0.090794</td>\n",
       "      <td>...</td>\n",
       "      <td>-0.018307</td>\n",
       "      <td>0.277838</td>\n",
       "      <td>-0.110474</td>\n",
       "      <td>0.066928</td>\n",
       "      <td>0.128539</td>\n",
       "      <td>-0.189115</td>\n",
       "      <td>0.133558</td>\n",
       "      <td>-0.021053</td>\n",
       "      <td>0</td>\n",
       "      <td>0.244964</td>\n",
       "    </tr>\n",
       "    <tr>\n",
       "      <th>1</th>\n",
       "      <td>1.191857</td>\n",
       "      <td>0.266151</td>\n",
       "      <td>0.166480</td>\n",
       "      <td>0.448154</td>\n",
       "      <td>0.060018</td>\n",
       "      <td>-0.082361</td>\n",
       "      <td>-0.078803</td>\n",
       "      <td>0.085102</td>\n",
       "      <td>-0.255425</td>\n",
       "      <td>-0.166974</td>\n",
       "      <td>...</td>\n",
       "      <td>-0.225775</td>\n",
       "      <td>-0.638672</td>\n",
       "      <td>0.101288</td>\n",
       "      <td>-0.339846</td>\n",
       "      <td>0.167170</td>\n",
       "      <td>0.125895</td>\n",
       "      <td>-0.008983</td>\n",
       "      <td>0.014724</td>\n",
       "      <td>0</td>\n",
       "      <td>-0.342475</td>\n",
       "    </tr>\n",
       "    <tr>\n",
       "      <th>2</th>\n",
       "      <td>-1.358354</td>\n",
       "      <td>-1.340163</td>\n",
       "      <td>1.773209</td>\n",
       "      <td>0.379780</td>\n",
       "      <td>-0.503198</td>\n",
       "      <td>1.800499</td>\n",
       "      <td>0.791461</td>\n",
       "      <td>0.247676</td>\n",
       "      <td>-1.514654</td>\n",
       "      <td>0.207643</td>\n",
       "      <td>...</td>\n",
       "      <td>0.247998</td>\n",
       "      <td>0.771679</td>\n",
       "      <td>0.909412</td>\n",
       "      <td>-0.689281</td>\n",
       "      <td>-0.327642</td>\n",
       "      <td>-0.139097</td>\n",
       "      <td>-0.055353</td>\n",
       "      <td>-0.059752</td>\n",
       "      <td>0</td>\n",
       "      <td>1.160686</td>\n",
       "    </tr>\n",
       "    <tr>\n",
       "      <th>3</th>\n",
       "      <td>-0.966272</td>\n",
       "      <td>-0.185226</td>\n",
       "      <td>1.792993</td>\n",
       "      <td>-0.863291</td>\n",
       "      <td>-0.010309</td>\n",
       "      <td>1.247203</td>\n",
       "      <td>0.237609</td>\n",
       "      <td>0.377436</td>\n",
       "      <td>-1.387024</td>\n",
       "      <td>-0.054952</td>\n",
       "      <td>...</td>\n",
       "      <td>-0.108300</td>\n",
       "      <td>0.005274</td>\n",
       "      <td>-0.190321</td>\n",
       "      <td>-1.175575</td>\n",
       "      <td>0.647376</td>\n",
       "      <td>-0.221929</td>\n",
       "      <td>0.062723</td>\n",
       "      <td>0.061458</td>\n",
       "      <td>0</td>\n",
       "      <td>0.140534</td>\n",
       "    </tr>\n",
       "    <tr>\n",
       "      <th>4</th>\n",
       "      <td>-1.158233</td>\n",
       "      <td>0.877737</td>\n",
       "      <td>1.548718</td>\n",
       "      <td>0.403034</td>\n",
       "      <td>-0.407193</td>\n",
       "      <td>0.095921</td>\n",
       "      <td>0.592941</td>\n",
       "      <td>-0.270533</td>\n",
       "      <td>0.817739</td>\n",
       "      <td>0.753074</td>\n",
       "      <td>...</td>\n",
       "      <td>-0.009431</td>\n",
       "      <td>0.798278</td>\n",
       "      <td>-0.137458</td>\n",
       "      <td>0.141267</td>\n",
       "      <td>-0.206010</td>\n",
       "      <td>0.502292</td>\n",
       "      <td>0.219422</td>\n",
       "      <td>0.215153</td>\n",
       "      <td>0</td>\n",
       "      <td>-0.073403</td>\n",
       "    </tr>\n",
       "    <tr>\n",
       "      <th>...</th>\n",
       "      <td>...</td>\n",
       "      <td>...</td>\n",
       "      <td>...</td>\n",
       "      <td>...</td>\n",
       "      <td>...</td>\n",
       "      <td>...</td>\n",
       "      <td>...</td>\n",
       "      <td>...</td>\n",
       "      <td>...</td>\n",
       "      <td>...</td>\n",
       "      <td>...</td>\n",
       "      <td>...</td>\n",
       "      <td>...</td>\n",
       "      <td>...</td>\n",
       "      <td>...</td>\n",
       "      <td>...</td>\n",
       "      <td>...</td>\n",
       "      <td>...</td>\n",
       "      <td>...</td>\n",
       "      <td>...</td>\n",
       "      <td>...</td>\n",
       "    </tr>\n",
       "    <tr>\n",
       "      <th>284802</th>\n",
       "      <td>-11.881118</td>\n",
       "      <td>10.071785</td>\n",
       "      <td>-9.834783</td>\n",
       "      <td>-2.066656</td>\n",
       "      <td>-5.364473</td>\n",
       "      <td>-2.606837</td>\n",
       "      <td>-4.918215</td>\n",
       "      <td>7.305334</td>\n",
       "      <td>1.914428</td>\n",
       "      <td>4.356170</td>\n",
       "      <td>...</td>\n",
       "      <td>0.213454</td>\n",
       "      <td>0.111864</td>\n",
       "      <td>1.014480</td>\n",
       "      <td>-0.509348</td>\n",
       "      <td>1.436807</td>\n",
       "      <td>0.250034</td>\n",
       "      <td>0.943651</td>\n",
       "      <td>0.823731</td>\n",
       "      <td>0</td>\n",
       "      <td>-0.350151</td>\n",
       "    </tr>\n",
       "    <tr>\n",
       "      <th>284803</th>\n",
       "      <td>-0.732789</td>\n",
       "      <td>-0.055080</td>\n",
       "      <td>2.035030</td>\n",
       "      <td>-0.738589</td>\n",
       "      <td>0.868229</td>\n",
       "      <td>1.058415</td>\n",
       "      <td>0.024330</td>\n",
       "      <td>0.294869</td>\n",
       "      <td>0.584800</td>\n",
       "      <td>-0.975926</td>\n",
       "      <td>...</td>\n",
       "      <td>0.214205</td>\n",
       "      <td>0.924384</td>\n",
       "      <td>0.012463</td>\n",
       "      <td>-1.016226</td>\n",
       "      <td>-0.606624</td>\n",
       "      <td>-0.395255</td>\n",
       "      <td>0.068472</td>\n",
       "      <td>-0.053527</td>\n",
       "      <td>0</td>\n",
       "      <td>-0.254117</td>\n",
       "    </tr>\n",
       "    <tr>\n",
       "      <th>284804</th>\n",
       "      <td>1.919565</td>\n",
       "      <td>-0.301254</td>\n",
       "      <td>-3.249640</td>\n",
       "      <td>-0.557828</td>\n",
       "      <td>2.630515</td>\n",
       "      <td>3.031260</td>\n",
       "      <td>-0.296827</td>\n",
       "      <td>0.708417</td>\n",
       "      <td>0.432454</td>\n",
       "      <td>-0.484782</td>\n",
       "      <td>...</td>\n",
       "      <td>0.232045</td>\n",
       "      <td>0.578229</td>\n",
       "      <td>-0.037501</td>\n",
       "      <td>0.640134</td>\n",
       "      <td>0.265745</td>\n",
       "      <td>-0.087371</td>\n",
       "      <td>0.004455</td>\n",
       "      <td>-0.026561</td>\n",
       "      <td>0</td>\n",
       "      <td>-0.081839</td>\n",
       "    </tr>\n",
       "    <tr>\n",
       "      <th>284805</th>\n",
       "      <td>-0.240440</td>\n",
       "      <td>0.530483</td>\n",
       "      <td>0.702510</td>\n",
       "      <td>0.689799</td>\n",
       "      <td>-0.377961</td>\n",
       "      <td>0.623708</td>\n",
       "      <td>-0.686180</td>\n",
       "      <td>0.679145</td>\n",
       "      <td>0.392087</td>\n",
       "      <td>-0.399126</td>\n",
       "      <td>...</td>\n",
       "      <td>0.265245</td>\n",
       "      <td>0.800049</td>\n",
       "      <td>-0.163298</td>\n",
       "      <td>0.123205</td>\n",
       "      <td>-0.569159</td>\n",
       "      <td>0.546668</td>\n",
       "      <td>0.108821</td>\n",
       "      <td>0.104533</td>\n",
       "      <td>0</td>\n",
       "      <td>-0.313249</td>\n",
       "    </tr>\n",
       "    <tr>\n",
       "      <th>284806</th>\n",
       "      <td>-0.533413</td>\n",
       "      <td>-0.189733</td>\n",
       "      <td>0.703337</td>\n",
       "      <td>-0.506271</td>\n",
       "      <td>-0.012546</td>\n",
       "      <td>-0.649617</td>\n",
       "      <td>1.577006</td>\n",
       "      <td>-0.414650</td>\n",
       "      <td>0.486180</td>\n",
       "      <td>-0.915427</td>\n",
       "      <td>...</td>\n",
       "      <td>0.261057</td>\n",
       "      <td>0.643078</td>\n",
       "      <td>0.376777</td>\n",
       "      <td>0.008797</td>\n",
       "      <td>-0.473649</td>\n",
       "      <td>-0.818267</td>\n",
       "      <td>-0.002415</td>\n",
       "      <td>0.013649</td>\n",
       "      <td>0</td>\n",
       "      <td>0.514355</td>\n",
       "    </tr>\n",
       "  </tbody>\n",
       "</table>\n",
       "<p>284807 rows × 30 columns</p>\n",
       "</div>"
      ],
      "text/plain": [
       "               V1         V2        V3        V4        V5        V6  \\\n",
       "0       -1.359807  -0.072781  2.536347  1.378155 -0.338321  0.462388   \n",
       "1        1.191857   0.266151  0.166480  0.448154  0.060018 -0.082361   \n",
       "2       -1.358354  -1.340163  1.773209  0.379780 -0.503198  1.800499   \n",
       "3       -0.966272  -0.185226  1.792993 -0.863291 -0.010309  1.247203   \n",
       "4       -1.158233   0.877737  1.548718  0.403034 -0.407193  0.095921   \n",
       "...           ...        ...       ...       ...       ...       ...   \n",
       "284802 -11.881118  10.071785 -9.834783 -2.066656 -5.364473 -2.606837   \n",
       "284803  -0.732789  -0.055080  2.035030 -0.738589  0.868229  1.058415   \n",
       "284804   1.919565  -0.301254 -3.249640 -0.557828  2.630515  3.031260   \n",
       "284805  -0.240440   0.530483  0.702510  0.689799 -0.377961  0.623708   \n",
       "284806  -0.533413  -0.189733  0.703337 -0.506271 -0.012546 -0.649617   \n",
       "\n",
       "              V7        V8        V9       V10  ...       V21       V22  \\\n",
       "0       0.239599  0.098698  0.363787  0.090794  ... -0.018307  0.277838   \n",
       "1      -0.078803  0.085102 -0.255425 -0.166974  ... -0.225775 -0.638672   \n",
       "2       0.791461  0.247676 -1.514654  0.207643  ...  0.247998  0.771679   \n",
       "3       0.237609  0.377436 -1.387024 -0.054952  ... -0.108300  0.005274   \n",
       "4       0.592941 -0.270533  0.817739  0.753074  ... -0.009431  0.798278   \n",
       "...          ...       ...       ...       ...  ...       ...       ...   \n",
       "284802 -4.918215  7.305334  1.914428  4.356170  ...  0.213454  0.111864   \n",
       "284803  0.024330  0.294869  0.584800 -0.975926  ...  0.214205  0.924384   \n",
       "284804 -0.296827  0.708417  0.432454 -0.484782  ...  0.232045  0.578229   \n",
       "284805 -0.686180  0.679145  0.392087 -0.399126  ...  0.265245  0.800049   \n",
       "284806  1.577006 -0.414650  0.486180 -0.915427  ...  0.261057  0.643078   \n",
       "\n",
       "             V23       V24       V25       V26       V27       V28  Class  \\\n",
       "0      -0.110474  0.066928  0.128539 -0.189115  0.133558 -0.021053      0   \n",
       "1       0.101288 -0.339846  0.167170  0.125895 -0.008983  0.014724      0   \n",
       "2       0.909412 -0.689281 -0.327642 -0.139097 -0.055353 -0.059752      0   \n",
       "3      -0.190321 -1.175575  0.647376 -0.221929  0.062723  0.061458      0   \n",
       "4      -0.137458  0.141267 -0.206010  0.502292  0.219422  0.215153      0   \n",
       "...          ...       ...       ...       ...       ...       ...    ...   \n",
       "284802  1.014480 -0.509348  1.436807  0.250034  0.943651  0.823731      0   \n",
       "284803  0.012463 -1.016226 -0.606624 -0.395255  0.068472 -0.053527      0   \n",
       "284804 -0.037501  0.640134  0.265745 -0.087371  0.004455 -0.026561      0   \n",
       "284805 -0.163298  0.123205 -0.569159  0.546668  0.108821  0.104533      0   \n",
       "284806  0.376777  0.008797 -0.473649 -0.818267 -0.002415  0.013649      0   \n",
       "\n",
       "        NormalizedAmount  \n",
       "0               0.244964  \n",
       "1              -0.342475  \n",
       "2               1.160686  \n",
       "3               0.140534  \n",
       "4              -0.073403  \n",
       "...                  ...  \n",
       "284802         -0.350151  \n",
       "284803         -0.254117  \n",
       "284804         -0.081839  \n",
       "284805         -0.313249  \n",
       "284806          0.514355  \n",
       "\n",
       "[284807 rows x 30 columns]"
      ]
     },
     "execution_count": 22,
     "metadata": {},
     "output_type": "execute_result"
    }
   ],
   "source": [
    "# numeric df\n",
    "credit_num =  df[num]\n",
    "credit_num"
   ]
  },
  {
   "cell_type": "code",
   "execution_count": 23,
   "id": "53a22ffa",
   "metadata": {},
   "outputs": [
    {
     "data": {
      "image/png": "[encoded data removed]",
      "text/plain": [
       "<Figure size 432x288 with 1 Axes>"
      ]
     },
     "metadata": {
      "needs_background": "light"
     },
     "output_type": "display_data"
    },
    {
     "data": {
      "image/png": "[encoded data removed]",
      "text/plain": [
       "<Figure size 432x288 with 1 Axes>"
      ]
     },
     "metadata": {
      "needs_background": "light"
     },
     "output_type": "display_data"
    },
    {
     "data": {
      "image/png": "[encoded data removed]",
      "text/plain": [
       "<Figure size 432x288 with 1 Axes>"
      ]
     },
     "metadata": {
      "needs_background": "light"
     },
     "output_type": "display_data"
    },
    {
     "data": {
      "image/png": "[encoded data removed]",
      "text/plain": [
       "<Figure size 432x288 with 1 Axes>"
      ]
     },
     "metadata": {
      "needs_background": "light"
     },
     "output_type": "display_data"
    },
    {
     "data": {
      "image/png": "[encoded data removed]",
      "text/plain": [
       "<Figure size 432x288 with 1 Axes>"
      ]
     },
     "metadata": {
      "needs_background": "light"
     },
     "output_type": "display_data"
    },
    {
     "data": {
      "image/png": "[encoded data removed]",
      "text/plain": [
       "<Figure size 432x288 with 1 Axes>"
      ]
     },
     "metadata": {
      "needs_background": "light"
     },
     "output_type": "display_data"
    },
    {
     "data": {
      "image/png": "[encoded data removed]",
      "text/plain": [
       "<Figure size 432x288 with 1 Axes>"
      ]
     },
     "metadata": {
      "needs_background": "light"
     },
     "output_type": "display_data"
    },
    {
     "data": {
      "image/png": "[encoded data removed]",
      "text/plain": [
       "<Figure size 432x288 with 1 Axes>"
      ]
     },
     "metadata": {
      "needs_background": "light"
     },
     "output_type": "display_data"
    },
    {
     "data": {
      "image/png": "[encoded data removed]",
      "text/plain": [
       "<Figure size 432x288 with 1 Axes>"
      ]
     },
     "metadata": {
      "needs_background": "light"
     },
     "output_type": "display_data"
    },
    {
     "data": {
      "image/png": "[encoded data removed]",
      "text/plain": [
       "<Figure size 432x288 with 1 Axes>"
      ]
     },
     "metadata": {
      "needs_background": "light"
     },
     "output_type": "display_data"
    },
    {
     "data": {
      "image/png": "[encoded data removed]",
      "text/plain": [
       "<Figure size 432x288 with 1 Axes>"
      ]
     },
     "metadata": {
      "needs_background": "light"
     },
     "output_type": "display_data"
    },
    {
     "data": {
      "image/png": "[encoded data removed]",
      "text/plain": [
       "<Figure size 432x288 with 1 Axes>"
      ]
     },
     "metadata": {
      "needs_background": "light"
     },
     "output_type": "display_data"
    },
    {
     "data": {
      "image/png": "[encoded data removed]",
      "text/plain": [
       "<Figure size 432x288 with 1 Axes>"
      ]
     },
     "metadata": {
      "needs_background": "light"
     },
     "output_type": "display_data"
    },
    {
     "data": {
      "image/png": "[encoded data removed]",
      "text/plain": [
       "<Figure size 432x288 with 1 Axes>"
      ]
     },
     "metadata": {
      "needs_background": "light"
     },
     "output_type": "display_data"
    },
    {
     "data": {
      "image/png": "[encoded data removed]",
      "text/plain": [
       "<Figure size 432x288 with 1 Axes>"
      ]
     },
     "metadata": {
      "needs_background": "light"
     },
     "output_type": "display_data"
    },
    {
     "data": {
      "image/png": "[encoded data removed]",
      "text/plain": [
       "<Figure size 432x288 with 1 Axes>"
      ]
     },
     "metadata": {
      "needs_background": "light"
     },
     "output_type": "display_data"
    },
    {
     "data": {
      "image/png": "[encoded data removed]",
      "text/plain": [
       "<Figure size 432x288 with 1 Axes>"
      ]
     },
     "metadata": {
      "needs_background": "light"
     },
     "output_type": "display_data"
    },
    {
     "data": {
      "image/png": "[encoded data removed]",
      "text/plain": [
       "<Figure size 432x288 with 1 Axes>"
      ]
     },
     "metadata": {
      "needs_background": "light"
     },
     "output_type": "display_data"
    },
    {
     "data": {
      "image/png": "[encoded data removed]",
      "text/plain": [
       "<Figure size 432x288 with 1 Axes>"
      ]
     },
     "metadata": {
      "needs_background": "light"
     },
     "output_type": "display_data"
    },
    {
     "data": {
      "image/png": "[encoded data removed]",
      "text/plain": [
       "<Figure size 432x288 with 1 Axes>"
      ]
     },
     "metadata": {
      "needs_background": "light"
     },
     "output_type": "display_data"
    },
    {
     "data": {
      "image/png": "[encoded data removed]",
      "text/plain": [
       "<Figure size 432x288 with 1 Axes>"
      ]
     },
     "metadata": {
      "needs_background": "light"
     },
     "output_type": "display_data"
    },
    {
     "data": {
      "image/png": "[encoded data removed]",
      "text/plain": [
       "<Figure size 432x288 with 1 Axes>"
      ]
     },
     "metadata": {
      "needs_background": "light"
     },
     "output_type": "display_data"
    },
    {
     "data": {
      "image/png": "[encoded data removed]",
      "text/plain": [
       "<Figure size 432x288 with 1 Axes>"
      ]
     },
     "metadata": {
      "needs_background": "light"
     },
     "output_type": "display_data"
    },
    {
     "data": {
      "image/png": "[encoded data removed]",
      "text/plain": [
       "<Figure size 432x288 with 1 Axes>"
      ]
     },
     "metadata": {
      "needs_background": "light"
     },
     "output_type": "display_data"
    },
    {
     "data": {
      "image/png": "[encoded data removed]",
      "text/plain": [
       "<Figure size 432x288 with 1 Axes>"
      ]
     },
     "metadata": {
      "needs_background": "light"
     },
     "output_type": "display_data"
    },
    {
     "data": {
      "image/png": "[encoded data removed]",
      "text/plain": [
       "<Figure size 432x288 with 1 Axes>"
      ]
     },
     "metadata": {
      "needs_background": "light"
     },
     "output_type": "display_data"
    },
    {
     "data": {
      "image/png": "[encoded data removed]",
      "text/plain": [
       "<Figure size 432x288 with 1 Axes>"
      ]
     },
     "metadata": {
      "needs_background": "light"
     },
     "output_type": "display_data"
    },
    {
     "data": {
      "image/png": "[encoded data removed]",
      "text/plain": [
       "<Figure size 432x288 with 1 Axes>"
      ]
     },
     "metadata": {
      "needs_background": "light"
     },
     "output_type": "display_data"
    },
    {
     "data": {
      "image/png": "[encoded data removed]",
      "text/plain": [
       "<Figure size 432x288 with 1 Axes>"
      ]
     },
     "metadata": {
      "needs_background": "light"
     },
     "output_type": "display_data"
    },
    {
     "data": {
      "image/png": "[encoded data removed]",
      "text/plain": [
       "<Figure size 432x288 with 1 Axes>"
      ]
     },
     "metadata": {
      "needs_background": "light"
     },
     "output_type": "display_data"
    }
   ],
   "source": [
    "for col in credit_num:\n",
    "    plt.hist(credit_num[col])\n",
    "    plt.title(col)\n",
    "    plt.show()\n"
   ]
  },
  {
   "cell_type": "markdown",
   "id": "698e48f1",
   "metadata": {},
   "source": [
    "### Correlation matrix"
   ]
  },
  {
   "cell_type": "code",
   "execution_count": 20,
   "id": "0507044e",
   "metadata": {},
   "outputs": [
    {
     "data": {
      "text/plain": [
       "<AxesSubplot:>"
      ]
     },
     "execution_count": 20,
     "metadata": {},
     "output_type": "execute_result"
    },
    {
     "data": {
      "image/png": "[encoded data removed]",
      "text/plain": [
       "<Figure size 432x288 with 2 Axes>"
      ]
     },
     "metadata": {
      "needs_background": "light"
     },
     "output_type": "display_data"
    }
   ],
   "source": [
    "#plotting the correlation matrix\n",
    "sns.heatmap(df.corr() ,cmap='coolwarm')"
   ]
  },
  {
   "cell_type": "markdown",
   "id": "efbf9dab",
   "metadata": {},
   "source": [
    "### Correlation table for a more detailed analysis:"
   ]
  },
  {
   "cell_type": "code",
   "execution_count": 21,
   "id": "828fc3ac",
   "metadata": {},
   "outputs": [
    {
     "name": "stderr",
     "output_type": "stream",
     "text": [
      "C:\\Users\\Musa Masango\\AppData\\Local\\Temp\\ipykernel_20368\\2390052987.py:3: FutureWarning: this method is deprecated in favour of `Styler.format(precision=..)`\n",
      "  corr.style.background_gradient(cmap='coolwarm').set_precision(2)\n"
     ]
    },
    {
     "data": {
      "text/html": [
       "<style type=\"text/css\">\n",
       "#T_89f9e_row0_col0, #T_89f9e_row1_col1, #T_89f9e_row2_col2, #T_89f9e_row3_col3, #T_89f9e_row4_col4, #T_89f9e_row5_col5, #T_89f9e_row6_col6, #T_89f9e_row7_col7, #T_89f9e_row8_col8, #T_89f9e_row9_col9, #T_89f9e_row10_col10, #T_89f9e_row11_col11, #T_89f9e_row12_col12, #T_89f9e_row13_col13, #T_89f9e_row14_col14, #T_89f9e_row15_col15, #T_89f9e_row16_col16, #T_89f9e_row17_col17, #T_89f9e_row18_col18, #T_89f9e_row19_col19, #T_89f9e_row20_col20, #T_89f9e_row21_col21, #T_89f9e_row22_col22, #T_89f9e_row23_col23, #T_89f9e_row24_col24, #T_89f9e_row25_col25, #T_89f9e_row26_col26, #T_89f9e_row27_col27, #T_89f9e_row28_col28, #T_89f9e_row29_col29 {\n",
       "  background-color: #b40426;\n",
       "  color: #f1f1f1;\n",
       "}\n",
       "#T_89f9e_row0_col1, #T_89f9e_row2_col1, #T_89f9e_row3_col1, #T_89f9e_row3_col28, #T_89f9e_row4_col1, #T_89f9e_row5_col1, #T_89f9e_row6_col1, #T_89f9e_row7_col1, #T_89f9e_row8_col1, #T_89f9e_row9_col1, #T_89f9e_row10_col1, #T_89f9e_row10_col29, #T_89f9e_row11_col1, #T_89f9e_row12_col1, #T_89f9e_row13_col1, #T_89f9e_row14_col1, #T_89f9e_row14_col29, #T_89f9e_row15_col1, #T_89f9e_row15_col29, #T_89f9e_row16_col1, #T_89f9e_row17_col1, #T_89f9e_row18_col1, #T_89f9e_row19_col1, #T_89f9e_row20_col1, #T_89f9e_row21_col1, #T_89f9e_row22_col1, #T_89f9e_row23_col1, #T_89f9e_row24_col1, #T_89f9e_row25_col1, #T_89f9e_row25_col29, #T_89f9e_row26_col1, #T_89f9e_row27_col1 {\n",
       "  background-color: #aec9fc;\n",
       "  color: #000000;\n",
       "}\n",
       "#T_89f9e_row0_col2, #T_89f9e_row1_col2, #T_89f9e_row3_col2, #T_89f9e_row4_col2, #T_89f9e_row4_col28, #T_89f9e_row5_col2, #T_89f9e_row6_col2, #T_89f9e_row7_col2, #T_89f9e_row8_col2, #T_89f9e_row8_col28, #T_89f9e_row9_col2, #T_89f9e_row10_col2, #T_89f9e_row11_col2, #T_89f9e_row12_col2, #T_89f9e_row13_col2, #T_89f9e_row14_col2, #T_89f9e_row15_col2, #T_89f9e_row16_col2, #T_89f9e_row17_col2, #T_89f9e_row18_col2, #T_89f9e_row19_col2, #T_89f9e_row20_col2, #T_89f9e_row21_col2, #T_89f9e_row22_col2, #T_89f9e_row23_col2, #T_89f9e_row24_col2, #T_89f9e_row25_col2, #T_89f9e_row26_col2, #T_89f9e_row27_col2 {\n",
       "  background-color: #7295f4;\n",
       "  color: #f1f1f1;\n",
       "}\n",
       "#T_89f9e_row0_col3, #T_89f9e_row0_col10, #T_89f9e_row0_col19, #T_89f9e_row0_col20, #T_89f9e_row0_col25, #T_89f9e_row0_col26, #T_89f9e_row0_col27, #T_89f9e_row1_col3, #T_89f9e_row1_col10, #T_89f9e_row1_col19, #T_89f9e_row1_col20, #T_89f9e_row1_col25, #T_89f9e_row1_col26, #T_89f9e_row1_col27, #T_89f9e_row1_col29, #T_89f9e_row2_col3, #T_89f9e_row2_col10, #T_89f9e_row2_col19, #T_89f9e_row2_col20, #T_89f9e_row2_col25, #T_89f9e_row2_col26, #T_89f9e_row2_col27, #T_89f9e_row3_col10, #T_89f9e_row3_col19, #T_89f9e_row3_col20, #T_89f9e_row3_col25, #T_89f9e_row3_col26, #T_89f9e_row3_col27, #T_89f9e_row4_col3, #T_89f9e_row4_col10, #T_89f9e_row4_col19, #T_89f9e_row4_col20, #T_89f9e_row4_col25, #T_89f9e_row4_col26, #T_89f9e_row4_col27, #T_89f9e_row5_col3, #T_89f9e_row5_col10, #T_89f9e_row5_col19, #T_89f9e_row5_col20, #T_89f9e_row5_col25, #T_89f9e_row5_col26, #T_89f9e_row5_col27, #T_89f9e_row6_col3, #T_89f9e_row6_col10, #T_89f9e_row6_col19, #T_89f9e_row6_col20, #T_89f9e_row6_col25, #T_89f9e_row6_col26, #T_89f9e_row6_col27, #T_89f9e_row7_col3, #T_89f9e_row7_col10, #T_89f9e_row7_col19, #T_89f9e_row7_col20, #T_89f9e_row7_col25, #T_89f9e_row7_col26, #T_89f9e_row7_col27, #T_89f9e_row8_col3, #T_89f9e_row8_col10, #T_89f9e_row8_col19, #T_89f9e_row8_col20, #T_89f9e_row8_col25, #T_89f9e_row8_col26, #T_89f9e_row8_col27, #T_89f9e_row9_col3, #T_89f9e_row9_col10, #T_89f9e_row9_col19, #T_89f9e_row9_col20, #T_89f9e_row9_col25, #T_89f9e_row9_col26, #T_89f9e_row9_col27, #T_89f9e_row10_col3, #T_89f9e_row10_col19, #T_89f9e_row10_col20, #T_89f9e_row10_col25, #T_89f9e_row10_col26, #T_89f9e_row10_col27, #T_89f9e_row11_col3, #T_89f9e_row11_col10, #T_89f9e_row11_col19, #T_89f9e_row11_col20, #T_89f9e_row11_col25, #T_89f9e_row11_col26, #T_89f9e_row11_col27, #T_89f9e_row12_col3, #T_89f9e_row12_col10, #T_89f9e_row12_col19, #T_89f9e_row12_col20, #T_89f9e_row12_col25, #T_89f9e_row12_col26, #T_89f9e_row12_col27, #T_89f9e_row13_col3, #T_89f9e_row13_col10, #T_89f9e_row13_col19, #T_89f9e_row13_col20, #T_89f9e_row13_col25, #T_89f9e_row13_col26, #T_89f9e_row13_col27, #T_89f9e_row14_col3, #T_89f9e_row14_col10, #T_89f9e_row14_col19, #T_89f9e_row14_col20, #T_89f9e_row14_col25, #T_89f9e_row14_col26, #T_89f9e_row14_col27, #T_89f9e_row15_col3, #T_89f9e_row15_col10, #T_89f9e_row15_col19, #T_89f9e_row15_col20, #T_89f9e_row15_col25, #T_89f9e_row15_col26, #T_89f9e_row15_col27, #T_89f9e_row16_col3, #T_89f9e_row16_col10, #T_89f9e_row16_col19, #T_89f9e_row16_col20, #T_89f9e_row16_col25, #T_89f9e_row16_col26, #T_89f9e_row16_col27, #T_89f9e_row16_col28, #T_89f9e_row17_col3, #T_89f9e_row17_col10, #T_89f9e_row17_col19, #T_89f9e_row17_col20, #T_89f9e_row17_col25, #T_89f9e_row17_col26, #T_89f9e_row17_col27, #T_89f9e_row18_col3, #T_89f9e_row18_col10, #T_89f9e_row18_col19, #T_89f9e_row18_col20, #T_89f9e_row18_col25, #T_89f9e_row18_col26, #T_89f9e_row18_col27, #T_89f9e_row19_col3, #T_89f9e_row19_col10, #T_89f9e_row19_col20, #T_89f9e_row19_col25, #T_89f9e_row19_col26, #T_89f9e_row19_col27, #T_89f9e_row20_col3, #T_89f9e_row20_col10, #T_89f9e_row20_col19, #T_89f9e_row20_col25, #T_89f9e_row20_col26, #T_89f9e_row20_col27, #T_89f9e_row21_col3, #T_89f9e_row21_col10, #T_89f9e_row21_col19, #T_89f9e_row21_col20, #T_89f9e_row21_col25, #T_89f9e_row21_col26, #T_89f9e_row21_col27, #T_89f9e_row22_col3, #T_89f9e_row22_col10, #T_89f9e_row22_col19, #T_89f9e_row22_col20, #T_89f9e_row22_col25, #T_89f9e_row22_col26, #T_89f9e_row22_col27, #T_89f9e_row23_col3, #T_89f9e_row23_col10, #T_89f9e_row23_col19, #T_89f9e_row23_col20, #T_89f9e_row23_col25, #T_89f9e_row23_col26, #T_89f9e_row23_col27, #T_89f9e_row24_col3, #T_89f9e_row24_col10, #T_89f9e_row24_col19, #T_89f9e_row24_col20, #T_89f9e_row24_col25, #T_89f9e_row24_col26, #T_89f9e_row24_col27, #T_89f9e_row25_col3, #T_89f9e_row25_col10, #T_89f9e_row25_col19, #T_89f9e_row25_col20, #T_89f9e_row25_col26, #T_89f9e_row25_col27, #T_89f9e_row26_col3, #T_89f9e_row26_col10, #T_89f9e_row26_col19, #T_89f9e_row26_col20, #T_89f9e_row26_col25, #T_89f9e_row26_col27, #T_89f9e_row27_col3, #T_89f9e_row27_col10, #T_89f9e_row27_col19, #T_89f9e_row27_col20, #T_89f9e_row27_col25, #T_89f9e_row27_col26, #T_89f9e_row28_col5, #T_89f9e_row28_col6, #T_89f9e_row28_col8, #T_89f9e_row28_col9, #T_89f9e_row28_col11, #T_89f9e_row28_col12, #T_89f9e_row28_col13, #T_89f9e_row28_col14, #T_89f9e_row28_col15, #T_89f9e_row28_col16, #T_89f9e_row28_col17, #T_89f9e_row28_col23, #T_89f9e_row29_col0, #T_89f9e_row29_col1, #T_89f9e_row29_col2, #T_89f9e_row29_col4, #T_89f9e_row29_col7, #T_89f9e_row29_col10, #T_89f9e_row29_col14, #T_89f9e_row29_col18, #T_89f9e_row29_col21, #T_89f9e_row29_col22, #T_89f9e_row29_col24, #T_89f9e_row29_col25 {\n",
       "  background-color: #3b4cc0;\n",
       "  color: #f1f1f1;\n",
       "}\n",
       "#T_89f9e_row0_col4, #T_89f9e_row1_col4, #T_89f9e_row2_col4, #T_89f9e_row3_col4, #T_89f9e_row5_col4, #T_89f9e_row6_col4, #T_89f9e_row7_col4, #T_89f9e_row7_col29, #T_89f9e_row8_col4, #T_89f9e_row9_col4, #T_89f9e_row9_col29, #T_89f9e_row10_col4, #T_89f9e_row11_col4, #T_89f9e_row12_col4, #T_89f9e_row13_col4, #T_89f9e_row14_col4, #T_89f9e_row15_col4, #T_89f9e_row16_col4, #T_89f9e_row17_col4, #T_89f9e_row18_col4, #T_89f9e_row19_col4, #T_89f9e_row20_col4, #T_89f9e_row21_col4, #T_89f9e_row22_col4, #T_89f9e_row23_col4, #T_89f9e_row24_col4, #T_89f9e_row25_col4, #T_89f9e_row26_col4, #T_89f9e_row27_col4 {\n",
       "  background-color: #97b8ff;\n",
       "  color: #000000;\n",
       "}\n",
       "#T_89f9e_row0_col5, #T_89f9e_row1_col5, #T_89f9e_row2_col5, #T_89f9e_row3_col5, #T_89f9e_row4_col5, #T_89f9e_row6_col5, #T_89f9e_row7_col5, #T_89f9e_row8_col5, #T_89f9e_row9_col5, #T_89f9e_row10_col5, #T_89f9e_row11_col5, #T_89f9e_row12_col5, #T_89f9e_row13_col5, #T_89f9e_row14_col5, #T_89f9e_row15_col5, #T_89f9e_row16_col5, #T_89f9e_row17_col5, #T_89f9e_row18_col5, #T_89f9e_row19_col5, #T_89f9e_row20_col5, #T_89f9e_row21_col5, #T_89f9e_row22_col5, #T_89f9e_row23_col5, #T_89f9e_row24_col5, #T_89f9e_row25_col5, #T_89f9e_row26_col5, #T_89f9e_row27_col5, #T_89f9e_row28_col20 {\n",
       "  background-color: #465ecf;\n",
       "  color: #f1f1f1;\n",
       "}\n",
       "#T_89f9e_row0_col6, #T_89f9e_row1_col6, #T_89f9e_row2_col6, #T_89f9e_row3_col6, #T_89f9e_row4_col6, #T_89f9e_row5_col6, #T_89f9e_row7_col6, #T_89f9e_row8_col6, #T_89f9e_row9_col6, #T_89f9e_row10_col6, #T_89f9e_row11_col6, #T_89f9e_row12_col6, #T_89f9e_row13_col6, #T_89f9e_row14_col6, #T_89f9e_row15_col6, #T_89f9e_row16_col6, #T_89f9e_row17_col6, #T_89f9e_row18_col6, #T_89f9e_row19_col6, #T_89f9e_row20_col6, #T_89f9e_row21_col6, #T_89f9e_row22_col6, #T_89f9e_row23_col6, #T_89f9e_row24_col6, #T_89f9e_row25_col6, #T_89f9e_row26_col6, #T_89f9e_row27_col6 {\n",
       "  background-color: #6c8ff1;\n",
       "  color: #f1f1f1;\n",
       "}\n",
       "#T_89f9e_row0_col7, #T_89f9e_row1_col7, #T_89f9e_row2_col7, #T_89f9e_row3_col7, #T_89f9e_row4_col7, #T_89f9e_row5_col7, #T_89f9e_row6_col7, #T_89f9e_row8_col7, #T_89f9e_row9_col7, #T_89f9e_row10_col7, #T_89f9e_row11_col7, #T_89f9e_row12_col7, #T_89f9e_row13_col7, #T_89f9e_row14_col7, #T_89f9e_row15_col7, #T_89f9e_row16_col7, #T_89f9e_row17_col7, #T_89f9e_row18_col7, #T_89f9e_row19_col7, #T_89f9e_row20_col7, #T_89f9e_row21_col7, #T_89f9e_row22_col7, #T_89f9e_row23_col7, #T_89f9e_row24_col7, #T_89f9e_row25_col7, #T_89f9e_row26_col7, #T_89f9e_row27_col7 {\n",
       "  background-color: #5673e0;\n",
       "  color: #f1f1f1;\n",
       "}\n",
       "#T_89f9e_row0_col8, #T_89f9e_row1_col8, #T_89f9e_row2_col8, #T_89f9e_row3_col8, #T_89f9e_row4_col8, #T_89f9e_row5_col8, #T_89f9e_row6_col8, #T_89f9e_row7_col8, #T_89f9e_row9_col8, #T_89f9e_row10_col8, #T_89f9e_row11_col8, #T_89f9e_row12_col8, #T_89f9e_row13_col8, #T_89f9e_row14_col8, #T_89f9e_row15_col8, #T_89f9e_row16_col8, #T_89f9e_row17_col8, #T_89f9e_row18_col8, #T_89f9e_row19_col8, #T_89f9e_row20_col8, #T_89f9e_row21_col8, #T_89f9e_row22_col8, #T_89f9e_row23_col8, #T_89f9e_row24_col8, #T_89f9e_row25_col8, #T_89f9e_row26_col8, #T_89f9e_row27_col8, #T_89f9e_row28_col18 {\n",
       "  background-color: #5572df;\n",
       "  color: #f1f1f1;\n",
       "}\n",
       "#T_89f9e_row0_col9, #T_89f9e_row1_col9, #T_89f9e_row2_col9, #T_89f9e_row3_col9, #T_89f9e_row4_col9, #T_89f9e_row5_col9, #T_89f9e_row6_col9, #T_89f9e_row7_col9, #T_89f9e_row8_col9, #T_89f9e_row10_col9, #T_89f9e_row11_col9, #T_89f9e_row12_col9, #T_89f9e_row13_col9, #T_89f9e_row14_col9, #T_89f9e_row15_col9, #T_89f9e_row16_col9, #T_89f9e_row17_col9, #T_89f9e_row18_col9, #T_89f9e_row19_col9, #T_89f9e_row20_col9, #T_89f9e_row21_col9, #T_89f9e_row22_col9, #T_89f9e_row23_col9, #T_89f9e_row24_col9, #T_89f9e_row25_col9, #T_89f9e_row26_col9, #T_89f9e_row27_col9 {\n",
       "  background-color: #7396f5;\n",
       "  color: #f1f1f1;\n",
       "}\n",
       "#T_89f9e_row0_col11, #T_89f9e_row1_col11, #T_89f9e_row2_col11, #T_89f9e_row3_col11, #T_89f9e_row4_col11, #T_89f9e_row5_col11, #T_89f9e_row6_col11, #T_89f9e_row7_col11, #T_89f9e_row8_col11, #T_89f9e_row9_col11, #T_89f9e_row10_col11, #T_89f9e_row12_col11, #T_89f9e_row13_col11, #T_89f9e_row14_col11, #T_89f9e_row15_col11, #T_89f9e_row16_col11, #T_89f9e_row17_col11, #T_89f9e_row18_col11, #T_89f9e_row19_col11, #T_89f9e_row20_col11, #T_89f9e_row21_col11, #T_89f9e_row22_col11, #T_89f9e_row23_col11, #T_89f9e_row24_col11, #T_89f9e_row25_col11, #T_89f9e_row26_col11, #T_89f9e_row27_col11 {\n",
       "  background-color: #7da0f9;\n",
       "  color: #f1f1f1;\n",
       "}\n",
       "#T_89f9e_row0_col12, #T_89f9e_row0_col14, #T_89f9e_row0_col23, #T_89f9e_row1_col12, #T_89f9e_row1_col14, #T_89f9e_row1_col23, #T_89f9e_row2_col12, #T_89f9e_row2_col14, #T_89f9e_row2_col23, #T_89f9e_row3_col12, #T_89f9e_row3_col14, #T_89f9e_row3_col23, #T_89f9e_row4_col12, #T_89f9e_row4_col14, #T_89f9e_row4_col23, #T_89f9e_row5_col12, #T_89f9e_row5_col14, #T_89f9e_row5_col23, #T_89f9e_row6_col12, #T_89f9e_row6_col14, #T_89f9e_row6_col23, #T_89f9e_row7_col12, #T_89f9e_row7_col14, #T_89f9e_row7_col23, #T_89f9e_row8_col12, #T_89f9e_row8_col14, #T_89f9e_row8_col23, #T_89f9e_row9_col12, #T_89f9e_row9_col14, #T_89f9e_row9_col23, #T_89f9e_row10_col12, #T_89f9e_row10_col14, #T_89f9e_row10_col23, #T_89f9e_row11_col12, #T_89f9e_row11_col14, #T_89f9e_row11_col23, #T_89f9e_row12_col14, #T_89f9e_row12_col23, #T_89f9e_row13_col12, #T_89f9e_row13_col14, #T_89f9e_row13_col23, #T_89f9e_row14_col12, #T_89f9e_row14_col23, #T_89f9e_row15_col12, #T_89f9e_row15_col14, #T_89f9e_row15_col23, #T_89f9e_row16_col12, #T_89f9e_row16_col14, #T_89f9e_row16_col23, #T_89f9e_row17_col12, #T_89f9e_row17_col14, #T_89f9e_row17_col23, #T_89f9e_row18_col12, #T_89f9e_row18_col14, #T_89f9e_row18_col23, #T_89f9e_row19_col12, #T_89f9e_row19_col14, #T_89f9e_row19_col23, #T_89f9e_row20_col12, #T_89f9e_row20_col14, #T_89f9e_row20_col23, #T_89f9e_row21_col12, #T_89f9e_row21_col14, #T_89f9e_row21_col23, #T_89f9e_row22_col12, #T_89f9e_row22_col14, #T_89f9e_row22_col23, #T_89f9e_row23_col12, #T_89f9e_row23_col14, #T_89f9e_row24_col12, #T_89f9e_row24_col14, #T_89f9e_row24_col23, #T_89f9e_row25_col12, #T_89f9e_row25_col14, #T_89f9e_row25_col23, #T_89f9e_row26_col12, #T_89f9e_row26_col14, #T_89f9e_row26_col23, #T_89f9e_row27_col12, #T_89f9e_row27_col14, #T_89f9e_row27_col23, #T_89f9e_row28_col25 {\n",
       "  background-color: #3c4ec2;\n",
       "  color: #f1f1f1;\n",
       "}\n",
       "#T_89f9e_row0_col13, #T_89f9e_row1_col13, #T_89f9e_row2_col13, #T_89f9e_row3_col13, #T_89f9e_row4_col13, #T_89f9e_row5_col13, #T_89f9e_row6_col13, #T_89f9e_row7_col13, #T_89f9e_row8_col13, #T_89f9e_row9_col13, #T_89f9e_row10_col13, #T_89f9e_row11_col13, #T_89f9e_row12_col13, #T_89f9e_row14_col13, #T_89f9e_row15_col13, #T_89f9e_row16_col13, #T_89f9e_row17_col13, #T_89f9e_row18_col13, #T_89f9e_row19_col13, #T_89f9e_row20_col13, #T_89f9e_row21_col13, #T_89f9e_row22_col13, #T_89f9e_row23_col13, #T_89f9e_row24_col13, #T_89f9e_row25_col13, #T_89f9e_row26_col13, #T_89f9e_row27_col13 {\n",
       "  background-color: #86a9fc;\n",
       "  color: #f1f1f1;\n",
       "}\n",
       "#T_89f9e_row0_col15, #T_89f9e_row1_col15, #T_89f9e_row2_col15, #T_89f9e_row3_col15, #T_89f9e_row4_col15, #T_89f9e_row5_col15, #T_89f9e_row6_col15, #T_89f9e_row7_col15, #T_89f9e_row8_col15, #T_89f9e_row9_col15, #T_89f9e_row10_col15, #T_89f9e_row11_col15, #T_89f9e_row12_col15, #T_89f9e_row13_col15, #T_89f9e_row14_col15, #T_89f9e_row16_col15, #T_89f9e_row17_col15, #T_89f9e_row18_col15, #T_89f9e_row19_col15, #T_89f9e_row20_col15, #T_89f9e_row21_col15, #T_89f9e_row22_col15, #T_89f9e_row23_col15, #T_89f9e_row24_col15, #T_89f9e_row25_col15, #T_89f9e_row26_col15, #T_89f9e_row27_col15 {\n",
       "  background-color: #6f92f3;\n",
       "  color: #f1f1f1;\n",
       "}\n",
       "#T_89f9e_row0_col16, #T_89f9e_row1_col16, #T_89f9e_row2_col16, #T_89f9e_row3_col16, #T_89f9e_row4_col16, #T_89f9e_row5_col16, #T_89f9e_row6_col16, #T_89f9e_row7_col16, #T_89f9e_row8_col16, #T_89f9e_row9_col16, #T_89f9e_row10_col16, #T_89f9e_row11_col16, #T_89f9e_row12_col16, #T_89f9e_row13_col16, #T_89f9e_row14_col16, #T_89f9e_row15_col16, #T_89f9e_row17_col16, #T_89f9e_row18_col16, #T_89f9e_row19_col16, #T_89f9e_row20_col16, #T_89f9e_row21_col16, #T_89f9e_row21_col28, #T_89f9e_row22_col16, #T_89f9e_row23_col16, #T_89f9e_row24_col16, #T_89f9e_row24_col28, #T_89f9e_row25_col16, #T_89f9e_row25_col28, #T_89f9e_row26_col16, #T_89f9e_row27_col16, #T_89f9e_row29_col5 {\n",
       "  background-color: #8caffe;\n",
       "  color: #000000;\n",
       "}\n",
       "#T_89f9e_row0_col17, #T_89f9e_row0_col22, #T_89f9e_row1_col17, #T_89f9e_row1_col22, #T_89f9e_row2_col17, #T_89f9e_row2_col22, #T_89f9e_row2_col28, #T_89f9e_row3_col17, #T_89f9e_row3_col22, #T_89f9e_row4_col17, #T_89f9e_row4_col22, #T_89f9e_row5_col17, #T_89f9e_row5_col22, #T_89f9e_row6_col17, #T_89f9e_row6_col22, #T_89f9e_row7_col17, #T_89f9e_row7_col22, #T_89f9e_row8_col17, #T_89f9e_row8_col22, #T_89f9e_row9_col17, #T_89f9e_row9_col22, #T_89f9e_row10_col17, #T_89f9e_row10_col22, #T_89f9e_row11_col17, #T_89f9e_row11_col22, #T_89f9e_row12_col17, #T_89f9e_row12_col22, #T_89f9e_row13_col17, #T_89f9e_row13_col22, #T_89f9e_row14_col17, #T_89f9e_row14_col22, #T_89f9e_row15_col17, #T_89f9e_row15_col22, #T_89f9e_row15_col28, #T_89f9e_row16_col17, #T_89f9e_row16_col22, #T_89f9e_row17_col22, #T_89f9e_row18_col17, #T_89f9e_row18_col22, #T_89f9e_row19_col17, #T_89f9e_row19_col22, #T_89f9e_row20_col17, #T_89f9e_row20_col22, #T_89f9e_row21_col17, #T_89f9e_row21_col22, #T_89f9e_row22_col17, #T_89f9e_row23_col17, #T_89f9e_row23_col22, #T_89f9e_row24_col17, #T_89f9e_row24_col22, #T_89f9e_row25_col17, #T_89f9e_row25_col22, #T_89f9e_row26_col17, #T_89f9e_row26_col22, #T_89f9e_row27_col17, #T_89f9e_row27_col22, #T_89f9e_row28_col22, #T_89f9e_row29_col3 {\n",
       "  background-color: #5977e3;\n",
       "  color: #f1f1f1;\n",
       "}\n",
       "#T_89f9e_row0_col18, #T_89f9e_row1_col18, #T_89f9e_row2_col18, #T_89f9e_row3_col18, #T_89f9e_row4_col18, #T_89f9e_row5_col18, #T_89f9e_row6_col18, #T_89f9e_row7_col18, #T_89f9e_row8_col18, #T_89f9e_row9_col18, #T_89f9e_row10_col18, #T_89f9e_row11_col18, #T_89f9e_row12_col18, #T_89f9e_row13_col18, #T_89f9e_row14_col18, #T_89f9e_row15_col18, #T_89f9e_row16_col18, #T_89f9e_row17_col18, #T_89f9e_row19_col18, #T_89f9e_row20_col18, #T_89f9e_row21_col18, #T_89f9e_row22_col18, #T_89f9e_row23_col18, #T_89f9e_row24_col18, #T_89f9e_row25_col18, #T_89f9e_row26_col18, #T_89f9e_row27_col18 {\n",
       "  background-color: #4a63d3;\n",
       "  color: #f1f1f1;\n",
       "}\n",
       "#T_89f9e_row0_col21, #T_89f9e_row1_col21, #T_89f9e_row2_col21, #T_89f9e_row3_col21, #T_89f9e_row4_col21, #T_89f9e_row5_col21, #T_89f9e_row6_col21, #T_89f9e_row7_col21, #T_89f9e_row8_col21, #T_89f9e_row9_col21, #T_89f9e_row10_col21, #T_89f9e_row11_col21, #T_89f9e_row12_col21, #T_89f9e_row13_col21, #T_89f9e_row14_col21, #T_89f9e_row15_col21, #T_89f9e_row16_col21, #T_89f9e_row17_col21, #T_89f9e_row18_col21, #T_89f9e_row19_col21, #T_89f9e_row20_col21, #T_89f9e_row22_col21, #T_89f9e_row23_col21, #T_89f9e_row24_col21, #T_89f9e_row25_col21, #T_89f9e_row26_col21, #T_89f9e_row27_col21, #T_89f9e_row28_col21 {\n",
       "  background-color: #4c66d6;\n",
       "  color: #f1f1f1;\n",
       "}\n",
       "#T_89f9e_row0_col24, #T_89f9e_row1_col24, #T_89f9e_row2_col24, #T_89f9e_row3_col24, #T_89f9e_row4_col24, #T_89f9e_row5_col24, #T_89f9e_row6_col24, #T_89f9e_row7_col24, #T_89f9e_row8_col24, #T_89f9e_row9_col24, #T_89f9e_row10_col24, #T_89f9e_row11_col24, #T_89f9e_row12_col24, #T_89f9e_row13_col24, #T_89f9e_row14_col24, #T_89f9e_row15_col24, #T_89f9e_row16_col24, #T_89f9e_row17_col24, #T_89f9e_row18_col24, #T_89f9e_row19_col24, #T_89f9e_row20_col24, #T_89f9e_row21_col24, #T_89f9e_row22_col24, #T_89f9e_row23_col24, #T_89f9e_row25_col24, #T_89f9e_row26_col24, #T_89f9e_row27_col24 {\n",
       "  background-color: #485fd1;\n",
       "  color: #f1f1f1;\n",
       "}\n",
       "#T_89f9e_row0_col28 {\n",
       "  background-color: #7093f3;\n",
       "  color: #f1f1f1;\n",
       "}\n",
       "#T_89f9e_row0_col29, #T_89f9e_row29_col11 {\n",
       "  background-color: #7a9df8;\n",
       "  color: #f1f1f1;\n",
       "}\n",
       "#T_89f9e_row1_col0, #T_89f9e_row2_col0, #T_89f9e_row3_col0, #T_89f9e_row4_col0, #T_89f9e_row5_col0, #T_89f9e_row6_col0, #T_89f9e_row7_col0, #T_89f9e_row8_col0, #T_89f9e_row9_col0, #T_89f9e_row10_col0, #T_89f9e_row11_col0, #T_89f9e_row12_col0, #T_89f9e_row13_col0, #T_89f9e_row14_col0, #T_89f9e_row15_col0, #T_89f9e_row16_col0, #T_89f9e_row17_col0, #T_89f9e_row18_col0, #T_89f9e_row19_col0, #T_89f9e_row20_col0, #T_89f9e_row21_col0, #T_89f9e_row22_col0, #T_89f9e_row23_col0, #T_89f9e_row24_col0, #T_89f9e_row25_col0, #T_89f9e_row26_col0, #T_89f9e_row27_col0 {\n",
       "  background-color: #7699f6;\n",
       "  color: #f1f1f1;\n",
       "}\n",
       "#T_89f9e_row1_col28, #T_89f9e_row24_col29 {\n",
       "  background-color: #a3c2fe;\n",
       "  color: #000000;\n",
       "}\n",
       "#T_89f9e_row2_col29, #T_89f9e_row28_col4 {\n",
       "  background-color: #7ea1fa;\n",
       "  color: #f1f1f1;\n",
       "}\n",
       "#T_89f9e_row3_col29 {\n",
       "  background-color: #c4d5f3;\n",
       "  color: #000000;\n",
       "}\n",
       "#T_89f9e_row4_col29, #T_89f9e_row29_col9 {\n",
       "  background-color: #5875e1;\n",
       "  color: #f1f1f1;\n",
       "}\n",
       "#T_89f9e_row5_col28 {\n",
       "  background-color: #80a3fa;\n",
       "  color: #f1f1f1;\n",
       "}\n",
       "#T_89f9e_row5_col29 {\n",
       "  background-color: #d9dce1;\n",
       "  color: #000000;\n",
       "}\n",
       "#T_89f9e_row6_col28, #T_89f9e_row28_col0 {\n",
       "  background-color: #5a78e4;\n",
       "  color: #f1f1f1;\n",
       "}\n",
       "#T_89f9e_row6_col29 {\n",
       "  background-color: #f2c9b4;\n",
       "  color: #000000;\n",
       "}\n",
       "#T_89f9e_row7_col28, #T_89f9e_row19_col28, #T_89f9e_row26_col28, #T_89f9e_row29_col13 {\n",
       "  background-color: #90b2fe;\n",
       "  color: #000000;\n",
       "}\n",
       "#T_89f9e_row8_col29 {\n",
       "  background-color: #a5c3fe;\n",
       "  color: #000000;\n",
       "}\n",
       "#T_89f9e_row9_col28 {\n",
       "  background-color: #5470de;\n",
       "  color: #f1f1f1;\n",
       "}\n",
       "#T_89f9e_row10_col28 {\n",
       "  background-color: #b3cdfb;\n",
       "  color: #000000;\n",
       "}\n",
       "#T_89f9e_row11_col28, #T_89f9e_row28_col24, #T_89f9e_row29_col8 {\n",
       "  background-color: #4961d2;\n",
       "  color: #f1f1f1;\n",
       "}\n",
       "#T_89f9e_row11_col29 {\n",
       "  background-color: #adc9fd;\n",
       "  color: #000000;\n",
       "}\n",
       "#T_89f9e_row12_col28, #T_89f9e_row14_col28, #T_89f9e_row22_col28 {\n",
       "  background-color: #8badfd;\n",
       "  color: #000000;\n",
       "}\n",
       "#T_89f9e_row12_col29, #T_89f9e_row23_col29, #T_89f9e_row28_col29 {\n",
       "  background-color: #afcafc;\n",
       "  color: #000000;\n",
       "}\n",
       "#T_89f9e_row13_col28, #T_89f9e_row28_col26 {\n",
       "  background-color: #3f53c6;\n",
       "  color: #f1f1f1;\n",
       "}\n",
       "#T_89f9e_row13_col29, #T_89f9e_row17_col29 {\n",
       "  background-color: #b6cefa;\n",
       "  color: #000000;\n",
       "}\n",
       "#T_89f9e_row16_col29, #T_89f9e_row27_col29 {\n",
       "  background-color: #b1cbfc;\n",
       "  color: #000000;\n",
       "}\n",
       "#T_89f9e_row17_col28, #T_89f9e_row29_col15 {\n",
       "  background-color: #6e90f2;\n",
       "  color: #f1f1f1;\n",
       "}\n",
       "#T_89f9e_row18_col28 {\n",
       "  background-color: #94b6ff;\n",
       "  color: #000000;\n",
       "}\n",
       "#T_89f9e_row18_col29 {\n",
       "  background-color: #a2c1ff;\n",
       "  color: #000000;\n",
       "}\n",
       "#T_89f9e_row19_col29 {\n",
       "  background-color: #edd2c3;\n",
       "  color: #000000;\n",
       "}\n",
       "#T_89f9e_row20_col28, #T_89f9e_row22_col29 {\n",
       "  background-color: #96b7ff;\n",
       "  color: #000000;\n",
       "}\n",
       "#T_89f9e_row20_col29 {\n",
       "  background-color: #c5d6f2;\n",
       "  color: #000000;\n",
       "}\n",
       "#T_89f9e_row21_col29 {\n",
       "  background-color: #a1c0ff;\n",
       "  color: #000000;\n",
       "}\n",
       "#T_89f9e_row23_col28 {\n",
       "  background-color: #89acfd;\n",
       "  color: #000000;\n",
       "}\n",
       "#T_89f9e_row26_col29 {\n",
       "  background-color: #b5cdfa;\n",
       "  color: #000000;\n",
       "}\n",
       "#T_89f9e_row27_col28, #T_89f9e_row29_col16, #T_89f9e_row29_col28 {\n",
       "  background-color: #8db0fe;\n",
       "  color: #000000;\n",
       "}\n",
       "#T_89f9e_row28_col1 {\n",
       "  background-color: #c3d5f4;\n",
       "  color: #000000;\n",
       "}\n",
       "#T_89f9e_row28_col2, #T_89f9e_row29_col23 {\n",
       "  background-color: #3e51c5;\n",
       "  color: #f1f1f1;\n",
       "}\n",
       "#T_89f9e_row28_col3 {\n",
       "  background-color: #6485ec;\n",
       "  color: #f1f1f1;\n",
       "}\n",
       "#T_89f9e_row28_col7 {\n",
       "  background-color: #5d7ce6;\n",
       "  color: #f1f1f1;\n",
       "}\n",
       "#T_89f9e_row28_col10 {\n",
       "  background-color: #6b8df0;\n",
       "  color: #f1f1f1;\n",
       "}\n",
       "#T_89f9e_row28_col19 {\n",
       "  background-color: #4055c8;\n",
       "  color: #f1f1f1;\n",
       "}\n",
       "#T_89f9e_row28_col27, #T_89f9e_row29_col12, #T_89f9e_row29_col27 {\n",
       "  background-color: #3d50c3;\n",
       "  color: #f1f1f1;\n",
       "}\n",
       "#T_89f9e_row29_col6 {\n",
       "  background-color: #dbdcde;\n",
       "  color: #000000;\n",
       "}\n",
       "#T_89f9e_row29_col17 {\n",
       "  background-color: #6384eb;\n",
       "  color: #f1f1f1;\n",
       "}\n",
       "#T_89f9e_row29_col19 {\n",
       "  background-color: #abc8fd;\n",
       "  color: #000000;\n",
       "}\n",
       "#T_89f9e_row29_col20 {\n",
       "  background-color: #5b7ae5;\n",
       "  color: #f1f1f1;\n",
       "}\n",
       "#T_89f9e_row29_col26 {\n",
       "  background-color: #4358cb;\n",
       "  color: #f1f1f1;\n",
       "}\n",
       "</style>\n",
       "<table id=\"T_89f9e\">\n",
       "  <thead>\n",
       "    <tr>\n",
       "      <th class=\"blank level0\" >&nbsp;</th>\n",
       "      <th id=\"T_89f9e_level0_col0\" class=\"col_heading level0 col0\" >V1</th>\n",
       "      <th id=\"T_89f9e_level0_col1\" class=\"col_heading level0 col1\" >V2</th>\n",
       "      <th id=\"T_89f9e_level0_col2\" class=\"col_heading level0 col2\" >V3</th>\n",
       "      <th id=\"T_89f9e_level0_col3\" class=\"col_heading level0 col3\" >V4</th>\n",
       "      <th id=\"T_89f9e_level0_col4\" class=\"col_heading level0 col4\" >V5</th>\n",
       "      <th id=\"T_89f9e_level0_col5\" class=\"col_heading level0 col5\" >V6</th>\n",
       "      <th id=\"T_89f9e_level0_col6\" class=\"col_heading level0 col6\" >V7</th>\n",
       "      <th id=\"T_89f9e_level0_col7\" class=\"col_heading level0 col7\" >V8</th>\n",
       "      <th id=\"T_89f9e_level0_col8\" class=\"col_heading level0 col8\" >V9</th>\n",
       "      <th id=\"T_89f9e_level0_col9\" class=\"col_heading level0 col9\" >V10</th>\n",
       "      <th id=\"T_89f9e_level0_col10\" class=\"col_heading level0 col10\" >V11</th>\n",
       "      <th id=\"T_89f9e_level0_col11\" class=\"col_heading level0 col11\" >V12</th>\n",
       "      <th id=\"T_89f9e_level0_col12\" class=\"col_heading level0 col12\" >V13</th>\n",
       "      <th id=\"T_89f9e_level0_col13\" class=\"col_heading level0 col13\" >V14</th>\n",
       "      <th id=\"T_89f9e_level0_col14\" class=\"col_heading level0 col14\" >V15</th>\n",
       "      <th id=\"T_89f9e_level0_col15\" class=\"col_heading level0 col15\" >V16</th>\n",
       "      <th id=\"T_89f9e_level0_col16\" class=\"col_heading level0 col16\" >V17</th>\n",
       "      <th id=\"T_89f9e_level0_col17\" class=\"col_heading level0 col17\" >V18</th>\n",
       "      <th id=\"T_89f9e_level0_col18\" class=\"col_heading level0 col18\" >V19</th>\n",
       "      <th id=\"T_89f9e_level0_col19\" class=\"col_heading level0 col19\" >V20</th>\n",
       "      <th id=\"T_89f9e_level0_col20\" class=\"col_heading level0 col20\" >V21</th>\n",
       "      <th id=\"T_89f9e_level0_col21\" class=\"col_heading level0 col21\" >V22</th>\n",
       "      <th id=\"T_89f9e_level0_col22\" class=\"col_heading level0 col22\" >V23</th>\n",
       "      <th id=\"T_89f9e_level0_col23\" class=\"col_heading level0 col23\" >V24</th>\n",
       "      <th id=\"T_89f9e_level0_col24\" class=\"col_heading level0 col24\" >V25</th>\n",
       "      <th id=\"T_89f9e_level0_col25\" class=\"col_heading level0 col25\" >V26</th>\n",
       "      <th id=\"T_89f9e_level0_col26\" class=\"col_heading level0 col26\" >V27</th>\n",
       "      <th id=\"T_89f9e_level0_col27\" class=\"col_heading level0 col27\" >V28</th>\n",
       "      <th id=\"T_89f9e_level0_col28\" class=\"col_heading level0 col28\" >Class</th>\n",
       "      <th id=\"T_89f9e_level0_col29\" class=\"col_heading level0 col29\" >NormalizedAmount</th>\n",
       "    </tr>\n",
       "  </thead>\n",
       "  <tbody>\n",
       "    <tr>\n",
       "      <th id=\"T_89f9e_level0_row0\" class=\"row_heading level0 row0\" >V1</th>\n",
       "      <td id=\"T_89f9e_row0_col0\" class=\"data row0 col0\" >1.00</td>\n",
       "      <td id=\"T_89f9e_row0_col1\" class=\"data row0 col1\" >0.00</td>\n",
       "      <td id=\"T_89f9e_row0_col2\" class=\"data row0 col2\" >-0.00</td>\n",
       "      <td id=\"T_89f9e_row0_col3\" class=\"data row0 col3\" >-0.00</td>\n",
       "      <td id=\"T_89f9e_row0_col4\" class=\"data row0 col4\" >0.00</td>\n",
       "      <td id=\"T_89f9e_row0_col5\" class=\"data row0 col5\" >-0.00</td>\n",
       "      <td id=\"T_89f9e_row0_col6\" class=\"data row0 col6\" >-0.00</td>\n",
       "      <td id=\"T_89f9e_row0_col7\" class=\"data row0 col7\" >-0.00</td>\n",
       "      <td id=\"T_89f9e_row0_col8\" class=\"data row0 col8\" >-0.00</td>\n",
       "      <td id=\"T_89f9e_row0_col9\" class=\"data row0 col9\" >0.00</td>\n",
       "      <td id=\"T_89f9e_row0_col10\" class=\"data row0 col10\" >0.00</td>\n",
       "      <td id=\"T_89f9e_row0_col11\" class=\"data row0 col11\" >0.00</td>\n",
       "      <td id=\"T_89f9e_row0_col12\" class=\"data row0 col12\" >-0.00</td>\n",
       "      <td id=\"T_89f9e_row0_col13\" class=\"data row0 col13\" >-0.00</td>\n",
       "      <td id=\"T_89f9e_row0_col14\" class=\"data row0 col14\" >0.00</td>\n",
       "      <td id=\"T_89f9e_row0_col15\" class=\"data row0 col15\" >0.00</td>\n",
       "      <td id=\"T_89f9e_row0_col16\" class=\"data row0 col16\" >-0.00</td>\n",
       "      <td id=\"T_89f9e_row0_col17\" class=\"data row0 col17\" >0.00</td>\n",
       "      <td id=\"T_89f9e_row0_col18\" class=\"data row0 col18\" >0.00</td>\n",
       "      <td id=\"T_89f9e_row0_col19\" class=\"data row0 col19\" >0.00</td>\n",
       "      <td id=\"T_89f9e_row0_col20\" class=\"data row0 col20\" >-0.00</td>\n",
       "      <td id=\"T_89f9e_row0_col21\" class=\"data row0 col21\" >-0.00</td>\n",
       "      <td id=\"T_89f9e_row0_col22\" class=\"data row0 col22\" >0.00</td>\n",
       "      <td id=\"T_89f9e_row0_col23\" class=\"data row0 col23\" >-0.00</td>\n",
       "      <td id=\"T_89f9e_row0_col24\" class=\"data row0 col24\" >-0.00</td>\n",
       "      <td id=\"T_89f9e_row0_col25\" class=\"data row0 col25\" >-0.00</td>\n",
       "      <td id=\"T_89f9e_row0_col26\" class=\"data row0 col26\" >0.00</td>\n",
       "      <td id=\"T_89f9e_row0_col27\" class=\"data row0 col27\" >0.00</td>\n",
       "      <td id=\"T_89f9e_row0_col28\" class=\"data row0 col28\" >-0.10</td>\n",
       "      <td id=\"T_89f9e_row0_col29\" class=\"data row0 col29\" >-0.23</td>\n",
       "    </tr>\n",
       "    <tr>\n",
       "      <th id=\"T_89f9e_level0_row1\" class=\"row_heading level0 row1\" >V2</th>\n",
       "      <td id=\"T_89f9e_row1_col0\" class=\"data row1 col0\" >0.00</td>\n",
       "      <td id=\"T_89f9e_row1_col1\" class=\"data row1 col1\" >1.00</td>\n",
       "      <td id=\"T_89f9e_row1_col2\" class=\"data row1 col2\" >0.00</td>\n",
       "      <td id=\"T_89f9e_row1_col3\" class=\"data row1 col3\" >-0.00</td>\n",
       "      <td id=\"T_89f9e_row1_col4\" class=\"data row1 col4\" >0.00</td>\n",
       "      <td id=\"T_89f9e_row1_col5\" class=\"data row1 col5\" >0.00</td>\n",
       "      <td id=\"T_89f9e_row1_col6\" class=\"data row1 col6\" >0.00</td>\n",
       "      <td id=\"T_89f9e_row1_col7\" class=\"data row1 col7\" >-0.00</td>\n",
       "      <td id=\"T_89f9e_row1_col8\" class=\"data row1 col8\" >0.00</td>\n",
       "      <td id=\"T_89f9e_row1_col9\" class=\"data row1 col9\" >-0.00</td>\n",
       "      <td id=\"T_89f9e_row1_col10\" class=\"data row1 col10\" >0.00</td>\n",
       "      <td id=\"T_89f9e_row1_col11\" class=\"data row1 col11\" >-0.00</td>\n",
       "      <td id=\"T_89f9e_row1_col12\" class=\"data row1 col12\" >0.00</td>\n",
       "      <td id=\"T_89f9e_row1_col13\" class=\"data row1 col13\" >-0.00</td>\n",
       "      <td id=\"T_89f9e_row1_col14\" class=\"data row1 col14\" >-0.00</td>\n",
       "      <td id=\"T_89f9e_row1_col15\" class=\"data row1 col15\" >0.00</td>\n",
       "      <td id=\"T_89f9e_row1_col16\" class=\"data row1 col16\" >-0.00</td>\n",
       "      <td id=\"T_89f9e_row1_col17\" class=\"data row1 col17\" >0.00</td>\n",
       "      <td id=\"T_89f9e_row1_col18\" class=\"data row1 col18\" >-0.00</td>\n",
       "      <td id=\"T_89f9e_row1_col19\" class=\"data row1 col19\" >0.00</td>\n",
       "      <td id=\"T_89f9e_row1_col20\" class=\"data row1 col20\" >-0.00</td>\n",
       "      <td id=\"T_89f9e_row1_col21\" class=\"data row1 col21\" >0.00</td>\n",
       "      <td id=\"T_89f9e_row1_col22\" class=\"data row1 col22\" >0.00</td>\n",
       "      <td id=\"T_89f9e_row1_col23\" class=\"data row1 col23\" >0.00</td>\n",
       "      <td id=\"T_89f9e_row1_col24\" class=\"data row1 col24\" >-0.00</td>\n",
       "      <td id=\"T_89f9e_row1_col25\" class=\"data row1 col25\" >0.00</td>\n",
       "      <td id=\"T_89f9e_row1_col26\" class=\"data row1 col26\" >-0.00</td>\n",
       "      <td id=\"T_89f9e_row1_col27\" class=\"data row1 col27\" >-0.00</td>\n",
       "      <td id=\"T_89f9e_row1_col28\" class=\"data row1 col28\" >0.09</td>\n",
       "      <td id=\"T_89f9e_row1_col29\" class=\"data row1 col29\" >-0.53</td>\n",
       "    </tr>\n",
       "    <tr>\n",
       "      <th id=\"T_89f9e_level0_row2\" class=\"row_heading level0 row2\" >V3</th>\n",
       "      <td id=\"T_89f9e_row2_col0\" class=\"data row2 col0\" >-0.00</td>\n",
       "      <td id=\"T_89f9e_row2_col1\" class=\"data row2 col1\" >0.00</td>\n",
       "      <td id=\"T_89f9e_row2_col2\" class=\"data row2 col2\" >1.00</td>\n",
       "      <td id=\"T_89f9e_row2_col3\" class=\"data row2 col3\" >0.00</td>\n",
       "      <td id=\"T_89f9e_row2_col4\" class=\"data row2 col4\" >-0.00</td>\n",
       "      <td id=\"T_89f9e_row2_col5\" class=\"data row2 col5\" >0.00</td>\n",
       "      <td id=\"T_89f9e_row2_col6\" class=\"data row2 col6\" >0.00</td>\n",
       "      <td id=\"T_89f9e_row2_col7\" class=\"data row2 col7\" >-0.00</td>\n",
       "      <td id=\"T_89f9e_row2_col8\" class=\"data row2 col8\" >0.00</td>\n",
       "      <td id=\"T_89f9e_row2_col9\" class=\"data row2 col9\" >0.00</td>\n",
       "      <td id=\"T_89f9e_row2_col10\" class=\"data row2 col10\" >0.00</td>\n",
       "      <td id=\"T_89f9e_row2_col11\" class=\"data row2 col11\" >0.00</td>\n",
       "      <td id=\"T_89f9e_row2_col12\" class=\"data row2 col12\" >0.00</td>\n",
       "      <td id=\"T_89f9e_row2_col13\" class=\"data row2 col13\" >0.00</td>\n",
       "      <td id=\"T_89f9e_row2_col14\" class=\"data row2 col14\" >0.00</td>\n",
       "      <td id=\"T_89f9e_row2_col15\" class=\"data row2 col15\" >0.00</td>\n",
       "      <td id=\"T_89f9e_row2_col16\" class=\"data row2 col16\" >0.00</td>\n",
       "      <td id=\"T_89f9e_row2_col17\" class=\"data row2 col17\" >0.00</td>\n",
       "      <td id=\"T_89f9e_row2_col18\" class=\"data row2 col18\" >0.00</td>\n",
       "      <td id=\"T_89f9e_row2_col19\" class=\"data row2 col19\" >-0.00</td>\n",
       "      <td id=\"T_89f9e_row2_col20\" class=\"data row2 col20\" >0.00</td>\n",
       "      <td id=\"T_89f9e_row2_col21\" class=\"data row2 col21\" >-0.00</td>\n",
       "      <td id=\"T_89f9e_row2_col22\" class=\"data row2 col22\" >-0.00</td>\n",
       "      <td id=\"T_89f9e_row2_col23\" class=\"data row2 col23\" >0.00</td>\n",
       "      <td id=\"T_89f9e_row2_col24\" class=\"data row2 col24\" >-0.00</td>\n",
       "      <td id=\"T_89f9e_row2_col25\" class=\"data row2 col25\" >-0.00</td>\n",
       "      <td id=\"T_89f9e_row2_col26\" class=\"data row2 col26\" >0.00</td>\n",
       "      <td id=\"T_89f9e_row2_col27\" class=\"data row2 col27\" >0.00</td>\n",
       "      <td id=\"T_89f9e_row2_col28\" class=\"data row2 col28\" >-0.19</td>\n",
       "      <td id=\"T_89f9e_row2_col29\" class=\"data row2 col29\" >-0.21</td>\n",
       "    </tr>\n",
       "    <tr>\n",
       "      <th id=\"T_89f9e_level0_row3\" class=\"row_heading level0 row3\" >V4</th>\n",
       "      <td id=\"T_89f9e_row3_col0\" class=\"data row3 col0\" >-0.00</td>\n",
       "      <td id=\"T_89f9e_row3_col1\" class=\"data row3 col1\" >-0.00</td>\n",
       "      <td id=\"T_89f9e_row3_col2\" class=\"data row3 col2\" >0.00</td>\n",
       "      <td id=\"T_89f9e_row3_col3\" class=\"data row3 col3\" >1.00</td>\n",
       "      <td id=\"T_89f9e_row3_col4\" class=\"data row3 col4\" >-0.00</td>\n",
       "      <td id=\"T_89f9e_row3_col5\" class=\"data row3 col5\" >-0.00</td>\n",
       "      <td id=\"T_89f9e_row3_col6\" class=\"data row3 col6\" >-0.00</td>\n",
       "      <td id=\"T_89f9e_row3_col7\" class=\"data row3 col7\" >0.00</td>\n",
       "      <td id=\"T_89f9e_row3_col8\" class=\"data row3 col8\" >0.00</td>\n",
       "      <td id=\"T_89f9e_row3_col9\" class=\"data row3 col9\" >0.00</td>\n",
       "      <td id=\"T_89f9e_row3_col10\" class=\"data row3 col10\" >0.00</td>\n",
       "      <td id=\"T_89f9e_row3_col11\" class=\"data row3 col11\" >-0.00</td>\n",
       "      <td id=\"T_89f9e_row3_col12\" class=\"data row3 col12\" >0.00</td>\n",
       "      <td id=\"T_89f9e_row3_col13\" class=\"data row3 col13\" >0.00</td>\n",
       "      <td id=\"T_89f9e_row3_col14\" class=\"data row3 col14\" >0.00</td>\n",
       "      <td id=\"T_89f9e_row3_col15\" class=\"data row3 col15\" >-0.00</td>\n",
       "      <td id=\"T_89f9e_row3_col16\" class=\"data row3 col16\" >-0.00</td>\n",
       "      <td id=\"T_89f9e_row3_col17\" class=\"data row3 col17\" >-0.00</td>\n",
       "      <td id=\"T_89f9e_row3_col18\" class=\"data row3 col18\" >-0.00</td>\n",
       "      <td id=\"T_89f9e_row3_col19\" class=\"data row3 col19\" >-0.00</td>\n",
       "      <td id=\"T_89f9e_row3_col20\" class=\"data row3 col20\" >-0.00</td>\n",
       "      <td id=\"T_89f9e_row3_col21\" class=\"data row3 col21\" >-0.00</td>\n",
       "      <td id=\"T_89f9e_row3_col22\" class=\"data row3 col22\" >0.00</td>\n",
       "      <td id=\"T_89f9e_row3_col23\" class=\"data row3 col23\" >0.00</td>\n",
       "      <td id=\"T_89f9e_row3_col24\" class=\"data row3 col24\" >0.00</td>\n",
       "      <td id=\"T_89f9e_row3_col25\" class=\"data row3 col25\" >-0.00</td>\n",
       "      <td id=\"T_89f9e_row3_col26\" class=\"data row3 col26\" >0.00</td>\n",
       "      <td id=\"T_89f9e_row3_col27\" class=\"data row3 col27\" >-0.00</td>\n",
       "      <td id=\"T_89f9e_row3_col28\" class=\"data row3 col28\" >0.13</td>\n",
       "      <td id=\"T_89f9e_row3_col29\" class=\"data row3 col29\" >0.10</td>\n",
       "    </tr>\n",
       "    <tr>\n",
       "      <th id=\"T_89f9e_level0_row4\" class=\"row_heading level0 row4\" >V5</th>\n",
       "      <td id=\"T_89f9e_row4_col0\" class=\"data row4 col0\" >0.00</td>\n",
       "      <td id=\"T_89f9e_row4_col1\" class=\"data row4 col1\" >0.00</td>\n",
       "      <td id=\"T_89f9e_row4_col2\" class=\"data row4 col2\" >-0.00</td>\n",
       "      <td id=\"T_89f9e_row4_col3\" class=\"data row4 col3\" >-0.00</td>\n",
       "      <td id=\"T_89f9e_row4_col4\" class=\"data row4 col4\" >1.00</td>\n",
       "      <td id=\"T_89f9e_row4_col5\" class=\"data row4 col5\" >0.00</td>\n",
       "      <td id=\"T_89f9e_row4_col6\" class=\"data row4 col6\" >0.00</td>\n",
       "      <td id=\"T_89f9e_row4_col7\" class=\"data row4 col7\" >0.00</td>\n",
       "      <td id=\"T_89f9e_row4_col8\" class=\"data row4 col8\" >0.00</td>\n",
       "      <td id=\"T_89f9e_row4_col9\" class=\"data row4 col9\" >-0.00</td>\n",
       "      <td id=\"T_89f9e_row4_col10\" class=\"data row4 col10\" >0.00</td>\n",
       "      <td id=\"T_89f9e_row4_col11\" class=\"data row4 col11\" >0.00</td>\n",
       "      <td id=\"T_89f9e_row4_col12\" class=\"data row4 col12\" >0.00</td>\n",
       "      <td id=\"T_89f9e_row4_col13\" class=\"data row4 col13\" >0.00</td>\n",
       "      <td id=\"T_89f9e_row4_col14\" class=\"data row4 col14\" >-0.00</td>\n",
       "      <td id=\"T_89f9e_row4_col15\" class=\"data row4 col15\" >0.00</td>\n",
       "      <td id=\"T_89f9e_row4_col16\" class=\"data row4 col16\" >0.00</td>\n",
       "      <td id=\"T_89f9e_row4_col17\" class=\"data row4 col17\" >0.00</td>\n",
       "      <td id=\"T_89f9e_row4_col18\" class=\"data row4 col18\" >-0.00</td>\n",
       "      <td id=\"T_89f9e_row4_col19\" class=\"data row4 col19\" >-0.00</td>\n",
       "      <td id=\"T_89f9e_row4_col20\" class=\"data row4 col20\" >-0.00</td>\n",
       "      <td id=\"T_89f9e_row4_col21\" class=\"data row4 col21\" >0.00</td>\n",
       "      <td id=\"T_89f9e_row4_col22\" class=\"data row4 col22\" >-0.00</td>\n",
       "      <td id=\"T_89f9e_row4_col23\" class=\"data row4 col23\" >-0.00</td>\n",
       "      <td id=\"T_89f9e_row4_col24\" class=\"data row4 col24\" >0.00</td>\n",
       "      <td id=\"T_89f9e_row4_col25\" class=\"data row4 col25\" >0.00</td>\n",
       "      <td id=\"T_89f9e_row4_col26\" class=\"data row4 col26\" >0.00</td>\n",
       "      <td id=\"T_89f9e_row4_col27\" class=\"data row4 col27\" >-0.00</td>\n",
       "      <td id=\"T_89f9e_row4_col28\" class=\"data row4 col28\" >-0.09</td>\n",
       "      <td id=\"T_89f9e_row4_col29\" class=\"data row4 col29\" >-0.39</td>\n",
       "    </tr>\n",
       "    <tr>\n",
       "      <th id=\"T_89f9e_level0_row5\" class=\"row_heading level0 row5\" >V6</th>\n",
       "      <td id=\"T_89f9e_row5_col0\" class=\"data row5 col0\" >-0.00</td>\n",
       "      <td id=\"T_89f9e_row5_col1\" class=\"data row5 col1\" >0.00</td>\n",
       "      <td id=\"T_89f9e_row5_col2\" class=\"data row5 col2\" >0.00</td>\n",
       "      <td id=\"T_89f9e_row5_col3\" class=\"data row5 col3\" >-0.00</td>\n",
       "      <td id=\"T_89f9e_row5_col4\" class=\"data row5 col4\" >0.00</td>\n",
       "      <td id=\"T_89f9e_row5_col5\" class=\"data row5 col5\" >1.00</td>\n",
       "      <td id=\"T_89f9e_row5_col6\" class=\"data row5 col6\" >0.00</td>\n",
       "      <td id=\"T_89f9e_row5_col7\" class=\"data row5 col7\" >-0.00</td>\n",
       "      <td id=\"T_89f9e_row5_col8\" class=\"data row5 col8\" >0.00</td>\n",
       "      <td id=\"T_89f9e_row5_col9\" class=\"data row5 col9\" >0.00</td>\n",
       "      <td id=\"T_89f9e_row5_col10\" class=\"data row5 col10\" >0.00</td>\n",
       "      <td id=\"T_89f9e_row5_col11\" class=\"data row5 col11\" >0.00</td>\n",
       "      <td id=\"T_89f9e_row5_col12\" class=\"data row5 col12\" >-0.00</td>\n",
       "      <td id=\"T_89f9e_row5_col13\" class=\"data row5 col13\" >0.00</td>\n",
       "      <td id=\"T_89f9e_row5_col14\" class=\"data row5 col14\" >-0.00</td>\n",
       "      <td id=\"T_89f9e_row5_col15\" class=\"data row5 col15\" >0.00</td>\n",
       "      <td id=\"T_89f9e_row5_col16\" class=\"data row5 col16\" >0.00</td>\n",
       "      <td id=\"T_89f9e_row5_col17\" class=\"data row5 col17\" >0.00</td>\n",
       "      <td id=\"T_89f9e_row5_col18\" class=\"data row5 col18\" >-0.00</td>\n",
       "      <td id=\"T_89f9e_row5_col19\" class=\"data row5 col19\" >-0.00</td>\n",
       "      <td id=\"T_89f9e_row5_col20\" class=\"data row5 col20\" >0.00</td>\n",
       "      <td id=\"T_89f9e_row5_col21\" class=\"data row5 col21\" >-0.00</td>\n",
       "      <td id=\"T_89f9e_row5_col22\" class=\"data row5 col22\" >0.00</td>\n",
       "      <td id=\"T_89f9e_row5_col23\" class=\"data row5 col23\" >-0.00</td>\n",
       "      <td id=\"T_89f9e_row5_col24\" class=\"data row5 col24\" >0.00</td>\n",
       "      <td id=\"T_89f9e_row5_col25\" class=\"data row5 col25\" >-0.00</td>\n",
       "      <td id=\"T_89f9e_row5_col26\" class=\"data row5 col26\" >-0.00</td>\n",
       "      <td id=\"T_89f9e_row5_col27\" class=\"data row5 col27\" >0.00</td>\n",
       "      <td id=\"T_89f9e_row5_col28\" class=\"data row5 col28\" >-0.04</td>\n",
       "      <td id=\"T_89f9e_row5_col29\" class=\"data row5 col29\" >0.22</td>\n",
       "    </tr>\n",
       "    <tr>\n",
       "      <th id=\"T_89f9e_level0_row6\" class=\"row_heading level0 row6\" >V7</th>\n",
       "      <td id=\"T_89f9e_row6_col0\" class=\"data row6 col0\" >-0.00</td>\n",
       "      <td id=\"T_89f9e_row6_col1\" class=\"data row6 col1\" >0.00</td>\n",
       "      <td id=\"T_89f9e_row6_col2\" class=\"data row6 col2\" >0.00</td>\n",
       "      <td id=\"T_89f9e_row6_col3\" class=\"data row6 col3\" >-0.00</td>\n",
       "      <td id=\"T_89f9e_row6_col4\" class=\"data row6 col4\" >0.00</td>\n",
       "      <td id=\"T_89f9e_row6_col5\" class=\"data row6 col5\" >0.00</td>\n",
       "      <td id=\"T_89f9e_row6_col6\" class=\"data row6 col6\" >1.00</td>\n",
       "      <td id=\"T_89f9e_row6_col7\" class=\"data row6 col7\" >0.00</td>\n",
       "      <td id=\"T_89f9e_row6_col8\" class=\"data row6 col8\" >0.00</td>\n",
       "      <td id=\"T_89f9e_row6_col9\" class=\"data row6 col9\" >-0.00</td>\n",
       "      <td id=\"T_89f9e_row6_col10\" class=\"data row6 col10\" >0.00</td>\n",
       "      <td id=\"T_89f9e_row6_col11\" class=\"data row6 col11\" >-0.00</td>\n",
       "      <td id=\"T_89f9e_row6_col12\" class=\"data row6 col12\" >0.00</td>\n",
       "      <td id=\"T_89f9e_row6_col13\" class=\"data row6 col13\" >0.00</td>\n",
       "      <td id=\"T_89f9e_row6_col14\" class=\"data row6 col14\" >-0.00</td>\n",
       "      <td id=\"T_89f9e_row6_col15\" class=\"data row6 col15\" >0.00</td>\n",
       "      <td id=\"T_89f9e_row6_col16\" class=\"data row6 col16\" >0.00</td>\n",
       "      <td id=\"T_89f9e_row6_col17\" class=\"data row6 col17\" >0.00</td>\n",
       "      <td id=\"T_89f9e_row6_col18\" class=\"data row6 col18\" >-0.00</td>\n",
       "      <td id=\"T_89f9e_row6_col19\" class=\"data row6 col19\" >0.00</td>\n",
       "      <td id=\"T_89f9e_row6_col20\" class=\"data row6 col20\" >-0.00</td>\n",
       "      <td id=\"T_89f9e_row6_col21\" class=\"data row6 col21\" >-0.00</td>\n",
       "      <td id=\"T_89f9e_row6_col22\" class=\"data row6 col22\" >-0.00</td>\n",
       "      <td id=\"T_89f9e_row6_col23\" class=\"data row6 col23\" >0.00</td>\n",
       "      <td id=\"T_89f9e_row6_col24\" class=\"data row6 col24\" >-0.00</td>\n",
       "      <td id=\"T_89f9e_row6_col25\" class=\"data row6 col25\" >-0.00</td>\n",
       "      <td id=\"T_89f9e_row6_col26\" class=\"data row6 col26\" >-0.00</td>\n",
       "      <td id=\"T_89f9e_row6_col27\" class=\"data row6 col27\" >-0.00</td>\n",
       "      <td id=\"T_89f9e_row6_col28\" class=\"data row6 col28\" >-0.19</td>\n",
       "      <td id=\"T_89f9e_row6_col29\" class=\"data row6 col29\" >0.40</td>\n",
       "    </tr>\n",
       "    <tr>\n",
       "      <th id=\"T_89f9e_level0_row7\" class=\"row_heading level0 row7\" >V8</th>\n",
       "      <td id=\"T_89f9e_row7_col0\" class=\"data row7 col0\" >-0.00</td>\n",
       "      <td id=\"T_89f9e_row7_col1\" class=\"data row7 col1\" >-0.00</td>\n",
       "      <td id=\"T_89f9e_row7_col2\" class=\"data row7 col2\" >-0.00</td>\n",
       "      <td id=\"T_89f9e_row7_col3\" class=\"data row7 col3\" >0.00</td>\n",
       "      <td id=\"T_89f9e_row7_col4\" class=\"data row7 col4\" >0.00</td>\n",
       "      <td id=\"T_89f9e_row7_col5\" class=\"data row7 col5\" >-0.00</td>\n",
       "      <td id=\"T_89f9e_row7_col6\" class=\"data row7 col6\" >0.00</td>\n",
       "      <td id=\"T_89f9e_row7_col7\" class=\"data row7 col7\" >1.00</td>\n",
       "      <td id=\"T_89f9e_row7_col8\" class=\"data row7 col8\" >0.00</td>\n",
       "      <td id=\"T_89f9e_row7_col9\" class=\"data row7 col9\" >-0.00</td>\n",
       "      <td id=\"T_89f9e_row7_col10\" class=\"data row7 col10\" >0.00</td>\n",
       "      <td id=\"T_89f9e_row7_col11\" class=\"data row7 col11\" >0.00</td>\n",
       "      <td id=\"T_89f9e_row7_col12\" class=\"data row7 col12\" >-0.00</td>\n",
       "      <td id=\"T_89f9e_row7_col13\" class=\"data row7 col13\" >-0.00</td>\n",
       "      <td id=\"T_89f9e_row7_col14\" class=\"data row7 col14\" >0.00</td>\n",
       "      <td id=\"T_89f9e_row7_col15\" class=\"data row7 col15\" >-0.00</td>\n",
       "      <td id=\"T_89f9e_row7_col16\" class=\"data row7 col16\" >-0.00</td>\n",
       "      <td id=\"T_89f9e_row7_col17\" class=\"data row7 col17\" >-0.00</td>\n",
       "      <td id=\"T_89f9e_row7_col18\" class=\"data row7 col18\" >-0.00</td>\n",
       "      <td id=\"T_89f9e_row7_col19\" class=\"data row7 col19\" >0.00</td>\n",
       "      <td id=\"T_89f9e_row7_col20\" class=\"data row7 col20\" >0.00</td>\n",
       "      <td id=\"T_89f9e_row7_col21\" class=\"data row7 col21\" >0.00</td>\n",
       "      <td id=\"T_89f9e_row7_col22\" class=\"data row7 col22\" >0.00</td>\n",
       "      <td id=\"T_89f9e_row7_col23\" class=\"data row7 col23\" >-0.00</td>\n",
       "      <td id=\"T_89f9e_row7_col24\" class=\"data row7 col24\" >-0.00</td>\n",
       "      <td id=\"T_89f9e_row7_col25\" class=\"data row7 col25\" >-0.00</td>\n",
       "      <td id=\"T_89f9e_row7_col26\" class=\"data row7 col26\" >0.00</td>\n",
       "      <td id=\"T_89f9e_row7_col27\" class=\"data row7 col27\" >-0.00</td>\n",
       "      <td id=\"T_89f9e_row7_col28\" class=\"data row7 col28\" >0.02</td>\n",
       "      <td id=\"T_89f9e_row7_col29\" class=\"data row7 col29\" >-0.10</td>\n",
       "    </tr>\n",
       "    <tr>\n",
       "      <th id=\"T_89f9e_level0_row8\" class=\"row_heading level0 row8\" >V9</th>\n",
       "      <td id=\"T_89f9e_row8_col0\" class=\"data row8 col0\" >-0.00</td>\n",
       "      <td id=\"T_89f9e_row8_col1\" class=\"data row8 col1\" >0.00</td>\n",
       "      <td id=\"T_89f9e_row8_col2\" class=\"data row8 col2\" >0.00</td>\n",
       "      <td id=\"T_89f9e_row8_col3\" class=\"data row8 col3\" >0.00</td>\n",
       "      <td id=\"T_89f9e_row8_col4\" class=\"data row8 col4\" >0.00</td>\n",
       "      <td id=\"T_89f9e_row8_col5\" class=\"data row8 col5\" >0.00</td>\n",
       "      <td id=\"T_89f9e_row8_col6\" class=\"data row8 col6\" >0.00</td>\n",
       "      <td id=\"T_89f9e_row8_col7\" class=\"data row8 col7\" >0.00</td>\n",
       "      <td id=\"T_89f9e_row8_col8\" class=\"data row8 col8\" >1.00</td>\n",
       "      <td id=\"T_89f9e_row8_col9\" class=\"data row8 col9\" >-0.00</td>\n",
       "      <td id=\"T_89f9e_row8_col10\" class=\"data row8 col10\" >0.00</td>\n",
       "      <td id=\"T_89f9e_row8_col11\" class=\"data row8 col11\" >-0.00</td>\n",
       "      <td id=\"T_89f9e_row8_col12\" class=\"data row8 col12\" >0.00</td>\n",
       "      <td id=\"T_89f9e_row8_col13\" class=\"data row8 col13\" >0.00</td>\n",
       "      <td id=\"T_89f9e_row8_col14\" class=\"data row8 col14\" >-0.00</td>\n",
       "      <td id=\"T_89f9e_row8_col15\" class=\"data row8 col15\" >-0.00</td>\n",
       "      <td id=\"T_89f9e_row8_col16\" class=\"data row8 col16\" >0.00</td>\n",
       "      <td id=\"T_89f9e_row8_col17\" class=\"data row8 col17\" >0.00</td>\n",
       "      <td id=\"T_89f9e_row8_col18\" class=\"data row8 col18\" >-0.00</td>\n",
       "      <td id=\"T_89f9e_row8_col19\" class=\"data row8 col19\" >-0.00</td>\n",
       "      <td id=\"T_89f9e_row8_col20\" class=\"data row8 col20\" >0.00</td>\n",
       "      <td id=\"T_89f9e_row8_col21\" class=\"data row8 col21\" >-0.00</td>\n",
       "      <td id=\"T_89f9e_row8_col22\" class=\"data row8 col22\" >-0.00</td>\n",
       "      <td id=\"T_89f9e_row8_col23\" class=\"data row8 col23\" >-0.00</td>\n",
       "      <td id=\"T_89f9e_row8_col24\" class=\"data row8 col24\" >0.00</td>\n",
       "      <td id=\"T_89f9e_row8_col25\" class=\"data row8 col25\" >-0.00</td>\n",
       "      <td id=\"T_89f9e_row8_col26\" class=\"data row8 col26\" >-0.00</td>\n",
       "      <td id=\"T_89f9e_row8_col27\" class=\"data row8 col27\" >0.00</td>\n",
       "      <td id=\"T_89f9e_row8_col28\" class=\"data row8 col28\" >-0.10</td>\n",
       "      <td id=\"T_89f9e_row8_col29\" class=\"data row8 col29\" >-0.04</td>\n",
       "    </tr>\n",
       "    <tr>\n",
       "      <th id=\"T_89f9e_level0_row9\" class=\"row_heading level0 row9\" >V10</th>\n",
       "      <td id=\"T_89f9e_row9_col0\" class=\"data row9 col0\" >0.00</td>\n",
       "      <td id=\"T_89f9e_row9_col1\" class=\"data row9 col1\" >-0.00</td>\n",
       "      <td id=\"T_89f9e_row9_col2\" class=\"data row9 col2\" >0.00</td>\n",
       "      <td id=\"T_89f9e_row9_col3\" class=\"data row9 col3\" >0.00</td>\n",
       "      <td id=\"T_89f9e_row9_col4\" class=\"data row9 col4\" >-0.00</td>\n",
       "      <td id=\"T_89f9e_row9_col5\" class=\"data row9 col5\" >0.00</td>\n",
       "      <td id=\"T_89f9e_row9_col6\" class=\"data row9 col6\" >-0.00</td>\n",
       "      <td id=\"T_89f9e_row9_col7\" class=\"data row9 col7\" >-0.00</td>\n",
       "      <td id=\"T_89f9e_row9_col8\" class=\"data row9 col8\" >-0.00</td>\n",
       "      <td id=\"T_89f9e_row9_col9\" class=\"data row9 col9\" >1.00</td>\n",
       "      <td id=\"T_89f9e_row9_col10\" class=\"data row9 col10\" >-0.00</td>\n",
       "      <td id=\"T_89f9e_row9_col11\" class=\"data row9 col11\" >0.00</td>\n",
       "      <td id=\"T_89f9e_row9_col12\" class=\"data row9 col12\" >-0.00</td>\n",
       "      <td id=\"T_89f9e_row9_col13\" class=\"data row9 col13\" >0.00</td>\n",
       "      <td id=\"T_89f9e_row9_col14\" class=\"data row9 col14\" >0.00</td>\n",
       "      <td id=\"T_89f9e_row9_col15\" class=\"data row9 col15\" >0.00</td>\n",
       "      <td id=\"T_89f9e_row9_col16\" class=\"data row9 col16\" >0.00</td>\n",
       "      <td id=\"T_89f9e_row9_col17\" class=\"data row9 col17\" >0.00</td>\n",
       "      <td id=\"T_89f9e_row9_col18\" class=\"data row9 col18\" >0.00</td>\n",
       "      <td id=\"T_89f9e_row9_col19\" class=\"data row9 col19\" >-0.00</td>\n",
       "      <td id=\"T_89f9e_row9_col20\" class=\"data row9 col20\" >0.00</td>\n",
       "      <td id=\"T_89f9e_row9_col21\" class=\"data row9 col21\" >-0.00</td>\n",
       "      <td id=\"T_89f9e_row9_col22\" class=\"data row9 col22\" >0.00</td>\n",
       "      <td id=\"T_89f9e_row9_col23\" class=\"data row9 col23\" >-0.00</td>\n",
       "      <td id=\"T_89f9e_row9_col24\" class=\"data row9 col24\" >-0.00</td>\n",
       "      <td id=\"T_89f9e_row9_col25\" class=\"data row9 col25\" >-0.00</td>\n",
       "      <td id=\"T_89f9e_row9_col26\" class=\"data row9 col26\" >-0.00</td>\n",
       "      <td id=\"T_89f9e_row9_col27\" class=\"data row9 col27\" >0.00</td>\n",
       "      <td id=\"T_89f9e_row9_col28\" class=\"data row9 col28\" >-0.22</td>\n",
       "      <td id=\"T_89f9e_row9_col29\" class=\"data row9 col29\" >-0.10</td>\n",
       "    </tr>\n",
       "    <tr>\n",
       "      <th id=\"T_89f9e_level0_row10\" class=\"row_heading level0 row10\" >V11</th>\n",
       "      <td id=\"T_89f9e_row10_col0\" class=\"data row10 col0\" >0.00</td>\n",
       "      <td id=\"T_89f9e_row10_col1\" class=\"data row10 col1\" >0.00</td>\n",
       "      <td id=\"T_89f9e_row10_col2\" class=\"data row10 col2\" >0.00</td>\n",
       "      <td id=\"T_89f9e_row10_col3\" class=\"data row10 col3\" >0.00</td>\n",
       "      <td id=\"T_89f9e_row10_col4\" class=\"data row10 col4\" >0.00</td>\n",
       "      <td id=\"T_89f9e_row10_col5\" class=\"data row10 col5\" >0.00</td>\n",
       "      <td id=\"T_89f9e_row10_col6\" class=\"data row10 col6\" >0.00</td>\n",
       "      <td id=\"T_89f9e_row10_col7\" class=\"data row10 col7\" >0.00</td>\n",
       "      <td id=\"T_89f9e_row10_col8\" class=\"data row10 col8\" >0.00</td>\n",
       "      <td id=\"T_89f9e_row10_col9\" class=\"data row10 col9\" >-0.00</td>\n",
       "      <td id=\"T_89f9e_row10_col10\" class=\"data row10 col10\" >1.00</td>\n",
       "      <td id=\"T_89f9e_row10_col11\" class=\"data row10 col11\" >0.00</td>\n",
       "      <td id=\"T_89f9e_row10_col12\" class=\"data row10 col12\" >0.00</td>\n",
       "      <td id=\"T_89f9e_row10_col13\" class=\"data row10 col13\" >0.00</td>\n",
       "      <td id=\"T_89f9e_row10_col14\" class=\"data row10 col14\" >0.00</td>\n",
       "      <td id=\"T_89f9e_row10_col15\" class=\"data row10 col15\" >0.00</td>\n",
       "      <td id=\"T_89f9e_row10_col16\" class=\"data row10 col16\" >0.00</td>\n",
       "      <td id=\"T_89f9e_row10_col17\" class=\"data row10 col17\" >0.00</td>\n",
       "      <td id=\"T_89f9e_row10_col18\" class=\"data row10 col18\" >-0.00</td>\n",
       "      <td id=\"T_89f9e_row10_col19\" class=\"data row10 col19\" >-0.00</td>\n",
       "      <td id=\"T_89f9e_row10_col20\" class=\"data row10 col20\" >-0.00</td>\n",
       "      <td id=\"T_89f9e_row10_col21\" class=\"data row10 col21\" >0.00</td>\n",
       "      <td id=\"T_89f9e_row10_col22\" class=\"data row10 col22\" >-0.00</td>\n",
       "      <td id=\"T_89f9e_row10_col23\" class=\"data row10 col23\" >0.00</td>\n",
       "      <td id=\"T_89f9e_row10_col24\" class=\"data row10 col24\" >-0.00</td>\n",
       "      <td id=\"T_89f9e_row10_col25\" class=\"data row10 col25\" >-0.00</td>\n",
       "      <td id=\"T_89f9e_row10_col26\" class=\"data row10 col26\" >-0.00</td>\n",
       "      <td id=\"T_89f9e_row10_col27\" class=\"data row10 col27\" >-0.00</td>\n",
       "      <td id=\"T_89f9e_row10_col28\" class=\"data row10 col28\" >0.15</td>\n",
       "      <td id=\"T_89f9e_row10_col29\" class=\"data row10 col29\" >0.00</td>\n",
       "    </tr>\n",
       "    <tr>\n",
       "      <th id=\"T_89f9e_level0_row11\" class=\"row_heading level0 row11\" >V12</th>\n",
       "      <td id=\"T_89f9e_row11_col0\" class=\"data row11 col0\" >0.00</td>\n",
       "      <td id=\"T_89f9e_row11_col1\" class=\"data row11 col1\" >-0.00</td>\n",
       "      <td id=\"T_89f9e_row11_col2\" class=\"data row11 col2\" >0.00</td>\n",
       "      <td id=\"T_89f9e_row11_col3\" class=\"data row11 col3\" >-0.00</td>\n",
       "      <td id=\"T_89f9e_row11_col4\" class=\"data row11 col4\" >0.00</td>\n",
       "      <td id=\"T_89f9e_row11_col5\" class=\"data row11 col5\" >0.00</td>\n",
       "      <td id=\"T_89f9e_row11_col6\" class=\"data row11 col6\" >-0.00</td>\n",
       "      <td id=\"T_89f9e_row11_col7\" class=\"data row11 col7\" >0.00</td>\n",
       "      <td id=\"T_89f9e_row11_col8\" class=\"data row11 col8\" >-0.00</td>\n",
       "      <td id=\"T_89f9e_row11_col9\" class=\"data row11 col9\" >0.00</td>\n",
       "      <td id=\"T_89f9e_row11_col10\" class=\"data row11 col10\" >0.00</td>\n",
       "      <td id=\"T_89f9e_row11_col11\" class=\"data row11 col11\" >1.00</td>\n",
       "      <td id=\"T_89f9e_row11_col12\" class=\"data row11 col12\" >-0.00</td>\n",
       "      <td id=\"T_89f9e_row11_col13\" class=\"data row11 col13\" >0.00</td>\n",
       "      <td id=\"T_89f9e_row11_col14\" class=\"data row11 col14\" >-0.00</td>\n",
       "      <td id=\"T_89f9e_row11_col15\" class=\"data row11 col15\" >0.00</td>\n",
       "      <td id=\"T_89f9e_row11_col16\" class=\"data row11 col16\" >0.00</td>\n",
       "      <td id=\"T_89f9e_row11_col17\" class=\"data row11 col17\" >0.00</td>\n",
       "      <td id=\"T_89f9e_row11_col18\" class=\"data row11 col18\" >0.00</td>\n",
       "      <td id=\"T_89f9e_row11_col19\" class=\"data row11 col19\" >0.00</td>\n",
       "      <td id=\"T_89f9e_row11_col20\" class=\"data row11 col20\" >0.00</td>\n",
       "      <td id=\"T_89f9e_row11_col21\" class=\"data row11 col21\" >0.00</td>\n",
       "      <td id=\"T_89f9e_row11_col22\" class=\"data row11 col22\" >0.00</td>\n",
       "      <td id=\"T_89f9e_row11_col23\" class=\"data row11 col23\" >0.00</td>\n",
       "      <td id=\"T_89f9e_row11_col24\" class=\"data row11 col24\" >-0.00</td>\n",
       "      <td id=\"T_89f9e_row11_col25\" class=\"data row11 col25\" >-0.00</td>\n",
       "      <td id=\"T_89f9e_row11_col26\" class=\"data row11 col26\" >-0.00</td>\n",
       "      <td id=\"T_89f9e_row11_col27\" class=\"data row11 col27\" >0.00</td>\n",
       "      <td id=\"T_89f9e_row11_col28\" class=\"data row11 col28\" >-0.26</td>\n",
       "      <td id=\"T_89f9e_row11_col29\" class=\"data row11 col29\" >-0.01</td>\n",
       "    </tr>\n",
       "    <tr>\n",
       "      <th id=\"T_89f9e_level0_row12\" class=\"row_heading level0 row12\" >V13</th>\n",
       "      <td id=\"T_89f9e_row12_col0\" class=\"data row12 col0\" >-0.00</td>\n",
       "      <td id=\"T_89f9e_row12_col1\" class=\"data row12 col1\" >0.00</td>\n",
       "      <td id=\"T_89f9e_row12_col2\" class=\"data row12 col2\" >0.00</td>\n",
       "      <td id=\"T_89f9e_row12_col3\" class=\"data row12 col3\" >0.00</td>\n",
       "      <td id=\"T_89f9e_row12_col4\" class=\"data row12 col4\" >0.00</td>\n",
       "      <td id=\"T_89f9e_row12_col5\" class=\"data row12 col5\" >-0.00</td>\n",
       "      <td id=\"T_89f9e_row12_col6\" class=\"data row12 col6\" >0.00</td>\n",
       "      <td id=\"T_89f9e_row12_col7\" class=\"data row12 col7\" >-0.00</td>\n",
       "      <td id=\"T_89f9e_row12_col8\" class=\"data row12 col8\" >0.00</td>\n",
       "      <td id=\"T_89f9e_row12_col9\" class=\"data row12 col9\" >-0.00</td>\n",
       "      <td id=\"T_89f9e_row12_col10\" class=\"data row12 col10\" >0.00</td>\n",
       "      <td id=\"T_89f9e_row12_col11\" class=\"data row12 col11\" >-0.00</td>\n",
       "      <td id=\"T_89f9e_row12_col12\" class=\"data row12 col12\" >1.00</td>\n",
       "      <td id=\"T_89f9e_row12_col13\" class=\"data row12 col13\" >0.00</td>\n",
       "      <td id=\"T_89f9e_row12_col14\" class=\"data row12 col14\" >0.00</td>\n",
       "      <td id=\"T_89f9e_row12_col15\" class=\"data row12 col15\" >0.00</td>\n",
       "      <td id=\"T_89f9e_row12_col16\" class=\"data row12 col16\" >0.00</td>\n",
       "      <td id=\"T_89f9e_row12_col17\" class=\"data row12 col17\" >0.00</td>\n",
       "      <td id=\"T_89f9e_row12_col18\" class=\"data row12 col18\" >-0.00</td>\n",
       "      <td id=\"T_89f9e_row12_col19\" class=\"data row12 col19\" >0.00</td>\n",
       "      <td id=\"T_89f9e_row12_col20\" class=\"data row12 col20\" >0.00</td>\n",
       "      <td id=\"T_89f9e_row12_col21\" class=\"data row12 col21\" >0.00</td>\n",
       "      <td id=\"T_89f9e_row12_col22\" class=\"data row12 col22\" >-0.00</td>\n",
       "      <td id=\"T_89f9e_row12_col23\" class=\"data row12 col23\" >-0.00</td>\n",
       "      <td id=\"T_89f9e_row12_col24\" class=\"data row12 col24\" >-0.00</td>\n",
       "      <td id=\"T_89f9e_row12_col25\" class=\"data row12 col25\" >-0.00</td>\n",
       "      <td id=\"T_89f9e_row12_col26\" class=\"data row12 col26\" >-0.00</td>\n",
       "      <td id=\"T_89f9e_row12_col27\" class=\"data row12 col27\" >0.00</td>\n",
       "      <td id=\"T_89f9e_row12_col28\" class=\"data row12 col28\" >-0.00</td>\n",
       "      <td id=\"T_89f9e_row12_col29\" class=\"data row12 col29\" >0.01</td>\n",
       "    </tr>\n",
       "    <tr>\n",
       "      <th id=\"T_89f9e_level0_row13\" class=\"row_heading level0 row13\" >V14</th>\n",
       "      <td id=\"T_89f9e_row13_col0\" class=\"data row13 col0\" >-0.00</td>\n",
       "      <td id=\"T_89f9e_row13_col1\" class=\"data row13 col1\" >-0.00</td>\n",
       "      <td id=\"T_89f9e_row13_col2\" class=\"data row13 col2\" >0.00</td>\n",
       "      <td id=\"T_89f9e_row13_col3\" class=\"data row13 col3\" >0.00</td>\n",
       "      <td id=\"T_89f9e_row13_col4\" class=\"data row13 col4\" >0.00</td>\n",
       "      <td id=\"T_89f9e_row13_col5\" class=\"data row13 col5\" >0.00</td>\n",
       "      <td id=\"T_89f9e_row13_col6\" class=\"data row13 col6\" >0.00</td>\n",
       "      <td id=\"T_89f9e_row13_col7\" class=\"data row13 col7\" >-0.00</td>\n",
       "      <td id=\"T_89f9e_row13_col8\" class=\"data row13 col8\" >0.00</td>\n",
       "      <td id=\"T_89f9e_row13_col9\" class=\"data row13 col9\" >0.00</td>\n",
       "      <td id=\"T_89f9e_row13_col10\" class=\"data row13 col10\" >0.00</td>\n",
       "      <td id=\"T_89f9e_row13_col11\" class=\"data row13 col11\" >0.00</td>\n",
       "      <td id=\"T_89f9e_row13_col12\" class=\"data row13 col12\" >0.00</td>\n",
       "      <td id=\"T_89f9e_row13_col13\" class=\"data row13 col13\" >1.00</td>\n",
       "      <td id=\"T_89f9e_row13_col14\" class=\"data row13 col14\" >-0.00</td>\n",
       "      <td id=\"T_89f9e_row13_col15\" class=\"data row13 col15\" >-0.00</td>\n",
       "      <td id=\"T_89f9e_row13_col16\" class=\"data row13 col16\" >0.00</td>\n",
       "      <td id=\"T_89f9e_row13_col17\" class=\"data row13 col17\" >0.00</td>\n",
       "      <td id=\"T_89f9e_row13_col18\" class=\"data row13 col18\" >0.00</td>\n",
       "      <td id=\"T_89f9e_row13_col19\" class=\"data row13 col19\" >-0.00</td>\n",
       "      <td id=\"T_89f9e_row13_col20\" class=\"data row13 col20\" >-0.00</td>\n",
       "      <td id=\"T_89f9e_row13_col21\" class=\"data row13 col21\" >0.00</td>\n",
       "      <td id=\"T_89f9e_row13_col22\" class=\"data row13 col22\" >0.00</td>\n",
       "      <td id=\"T_89f9e_row13_col23\" class=\"data row13 col23\" >0.00</td>\n",
       "      <td id=\"T_89f9e_row13_col24\" class=\"data row13 col24\" >-0.00</td>\n",
       "      <td id=\"T_89f9e_row13_col25\" class=\"data row13 col25\" >-0.00</td>\n",
       "      <td id=\"T_89f9e_row13_col26\" class=\"data row13 col26\" >0.00</td>\n",
       "      <td id=\"T_89f9e_row13_col27\" class=\"data row13 col27\" >0.00</td>\n",
       "      <td id=\"T_89f9e_row13_col28\" class=\"data row13 col28\" >-0.30</td>\n",
       "      <td id=\"T_89f9e_row13_col29\" class=\"data row13 col29\" >0.03</td>\n",
       "    </tr>\n",
       "    <tr>\n",
       "      <th id=\"T_89f9e_level0_row14\" class=\"row_heading level0 row14\" >V15</th>\n",
       "      <td id=\"T_89f9e_row14_col0\" class=\"data row14 col0\" >0.00</td>\n",
       "      <td id=\"T_89f9e_row14_col1\" class=\"data row14 col1\" >-0.00</td>\n",
       "      <td id=\"T_89f9e_row14_col2\" class=\"data row14 col2\" >0.00</td>\n",
       "      <td id=\"T_89f9e_row14_col3\" class=\"data row14 col3\" >0.00</td>\n",
       "      <td id=\"T_89f9e_row14_col4\" class=\"data row14 col4\" >-0.00</td>\n",
       "      <td id=\"T_89f9e_row14_col5\" class=\"data row14 col5\" >-0.00</td>\n",
       "      <td id=\"T_89f9e_row14_col6\" class=\"data row14 col6\" >-0.00</td>\n",
       "      <td id=\"T_89f9e_row14_col7\" class=\"data row14 col7\" >0.00</td>\n",
       "      <td id=\"T_89f9e_row14_col8\" class=\"data row14 col8\" >-0.00</td>\n",
       "      <td id=\"T_89f9e_row14_col9\" class=\"data row14 col9\" >0.00</td>\n",
       "      <td id=\"T_89f9e_row14_col10\" class=\"data row14 col10\" >0.00</td>\n",
       "      <td id=\"T_89f9e_row14_col11\" class=\"data row14 col11\" >-0.00</td>\n",
       "      <td id=\"T_89f9e_row14_col12\" class=\"data row14 col12\" >0.00</td>\n",
       "      <td id=\"T_89f9e_row14_col13\" class=\"data row14 col13\" >-0.00</td>\n",
       "      <td id=\"T_89f9e_row14_col14\" class=\"data row14 col14\" >1.00</td>\n",
       "      <td id=\"T_89f9e_row14_col15\" class=\"data row14 col15\" >0.00</td>\n",
       "      <td id=\"T_89f9e_row14_col16\" class=\"data row14 col16\" >0.00</td>\n",
       "      <td id=\"T_89f9e_row14_col17\" class=\"data row14 col17\" >0.00</td>\n",
       "      <td id=\"T_89f9e_row14_col18\" class=\"data row14 col18\" >-0.00</td>\n",
       "      <td id=\"T_89f9e_row14_col19\" class=\"data row14 col19\" >0.00</td>\n",
       "      <td id=\"T_89f9e_row14_col20\" class=\"data row14 col20\" >0.00</td>\n",
       "      <td id=\"T_89f9e_row14_col21\" class=\"data row14 col21\" >-0.00</td>\n",
       "      <td id=\"T_89f9e_row14_col22\" class=\"data row14 col22\" >-0.00</td>\n",
       "      <td id=\"T_89f9e_row14_col23\" class=\"data row14 col23\" >-0.00</td>\n",
       "      <td id=\"T_89f9e_row14_col24\" class=\"data row14 col24\" >0.00</td>\n",
       "      <td id=\"T_89f9e_row14_col25\" class=\"data row14 col25\" >0.00</td>\n",
       "      <td id=\"T_89f9e_row14_col26\" class=\"data row14 col26\" >-0.00</td>\n",
       "      <td id=\"T_89f9e_row14_col27\" class=\"data row14 col27\" >-0.00</td>\n",
       "      <td id=\"T_89f9e_row14_col28\" class=\"data row14 col28\" >-0.00</td>\n",
       "      <td id=\"T_89f9e_row14_col29\" class=\"data row14 col29\" >-0.00</td>\n",
       "    </tr>\n",
       "    <tr>\n",
       "      <th id=\"T_89f9e_level0_row15\" class=\"row_heading level0 row15\" >V16</th>\n",
       "      <td id=\"T_89f9e_row15_col0\" class=\"data row15 col0\" >0.00</td>\n",
       "      <td id=\"T_89f9e_row15_col1\" class=\"data row15 col1\" >0.00</td>\n",
       "      <td id=\"T_89f9e_row15_col2\" class=\"data row15 col2\" >0.00</td>\n",
       "      <td id=\"T_89f9e_row15_col3\" class=\"data row15 col3\" >-0.00</td>\n",
       "      <td id=\"T_89f9e_row15_col4\" class=\"data row15 col4\" >0.00</td>\n",
       "      <td id=\"T_89f9e_row15_col5\" class=\"data row15 col5\" >0.00</td>\n",
       "      <td id=\"T_89f9e_row15_col6\" class=\"data row15 col6\" >0.00</td>\n",
       "      <td id=\"T_89f9e_row15_col7\" class=\"data row15 col7\" >-0.00</td>\n",
       "      <td id=\"T_89f9e_row15_col8\" class=\"data row15 col8\" >-0.00</td>\n",
       "      <td id=\"T_89f9e_row15_col9\" class=\"data row15 col9\" >0.00</td>\n",
       "      <td id=\"T_89f9e_row15_col10\" class=\"data row15 col10\" >0.00</td>\n",
       "      <td id=\"T_89f9e_row15_col11\" class=\"data row15 col11\" >0.00</td>\n",
       "      <td id=\"T_89f9e_row15_col12\" class=\"data row15 col12\" >0.00</td>\n",
       "      <td id=\"T_89f9e_row15_col13\" class=\"data row15 col13\" >-0.00</td>\n",
       "      <td id=\"T_89f9e_row15_col14\" class=\"data row15 col14\" >0.00</td>\n",
       "      <td id=\"T_89f9e_row15_col15\" class=\"data row15 col15\" >1.00</td>\n",
       "      <td id=\"T_89f9e_row15_col16\" class=\"data row15 col16\" >0.00</td>\n",
       "      <td id=\"T_89f9e_row15_col17\" class=\"data row15 col17\" >-0.00</td>\n",
       "      <td id=\"T_89f9e_row15_col18\" class=\"data row15 col18\" >0.00</td>\n",
       "      <td id=\"T_89f9e_row15_col19\" class=\"data row15 col19\" >0.00</td>\n",
       "      <td id=\"T_89f9e_row15_col20\" class=\"data row15 col20\" >-0.00</td>\n",
       "      <td id=\"T_89f9e_row15_col21\" class=\"data row15 col21\" >-0.00</td>\n",
       "      <td id=\"T_89f9e_row15_col22\" class=\"data row15 col22\" >0.00</td>\n",
       "      <td id=\"T_89f9e_row15_col23\" class=\"data row15 col23\" >-0.00</td>\n",
       "      <td id=\"T_89f9e_row15_col24\" class=\"data row15 col24\" >-0.00</td>\n",
       "      <td id=\"T_89f9e_row15_col25\" class=\"data row15 col25\" >-0.00</td>\n",
       "      <td id=\"T_89f9e_row15_col26\" class=\"data row15 col26\" >0.00</td>\n",
       "      <td id=\"T_89f9e_row15_col27\" class=\"data row15 col27\" >0.00</td>\n",
       "      <td id=\"T_89f9e_row15_col28\" class=\"data row15 col28\" >-0.20</td>\n",
       "      <td id=\"T_89f9e_row15_col29\" class=\"data row15 col29\" >-0.00</td>\n",
       "    </tr>\n",
       "    <tr>\n",
       "      <th id=\"T_89f9e_level0_row16\" class=\"row_heading level0 row16\" >V17</th>\n",
       "      <td id=\"T_89f9e_row16_col0\" class=\"data row16 col0\" >-0.00</td>\n",
       "      <td id=\"T_89f9e_row16_col1\" class=\"data row16 col1\" >-0.00</td>\n",
       "      <td id=\"T_89f9e_row16_col2\" class=\"data row16 col2\" >0.00</td>\n",
       "      <td id=\"T_89f9e_row16_col3\" class=\"data row16 col3\" >-0.00</td>\n",
       "      <td id=\"T_89f9e_row16_col4\" class=\"data row16 col4\" >0.00</td>\n",
       "      <td id=\"T_89f9e_row16_col5\" class=\"data row16 col5\" >0.00</td>\n",
       "      <td id=\"T_89f9e_row16_col6\" class=\"data row16 col6\" >0.00</td>\n",
       "      <td id=\"T_89f9e_row16_col7\" class=\"data row16 col7\" >-0.00</td>\n",
       "      <td id=\"T_89f9e_row16_col8\" class=\"data row16 col8\" >0.00</td>\n",
       "      <td id=\"T_89f9e_row16_col9\" class=\"data row16 col9\" >0.00</td>\n",
       "      <td id=\"T_89f9e_row16_col10\" class=\"data row16 col10\" >0.00</td>\n",
       "      <td id=\"T_89f9e_row16_col11\" class=\"data row16 col11\" >0.00</td>\n",
       "      <td id=\"T_89f9e_row16_col12\" class=\"data row16 col12\" >0.00</td>\n",
       "      <td id=\"T_89f9e_row16_col13\" class=\"data row16 col13\" >0.00</td>\n",
       "      <td id=\"T_89f9e_row16_col14\" class=\"data row16 col14\" >0.00</td>\n",
       "      <td id=\"T_89f9e_row16_col15\" class=\"data row16 col15\" >0.00</td>\n",
       "      <td id=\"T_89f9e_row16_col16\" class=\"data row16 col16\" >1.00</td>\n",
       "      <td id=\"T_89f9e_row16_col17\" class=\"data row16 col17\" >-0.00</td>\n",
       "      <td id=\"T_89f9e_row16_col18\" class=\"data row16 col18\" >-0.00</td>\n",
       "      <td id=\"T_89f9e_row16_col19\" class=\"data row16 col19\" >-0.00</td>\n",
       "      <td id=\"T_89f9e_row16_col20\" class=\"data row16 col20\" >-0.00</td>\n",
       "      <td id=\"T_89f9e_row16_col21\" class=\"data row16 col21\" >-0.00</td>\n",
       "      <td id=\"T_89f9e_row16_col22\" class=\"data row16 col22\" >0.00</td>\n",
       "      <td id=\"T_89f9e_row16_col23\" class=\"data row16 col23\" >-0.00</td>\n",
       "      <td id=\"T_89f9e_row16_col24\" class=\"data row16 col24\" >0.00</td>\n",
       "      <td id=\"T_89f9e_row16_col25\" class=\"data row16 col25\" >0.00</td>\n",
       "      <td id=\"T_89f9e_row16_col26\" class=\"data row16 col26\" >0.00</td>\n",
       "      <td id=\"T_89f9e_row16_col27\" class=\"data row16 col27\" >-0.00</td>\n",
       "      <td id=\"T_89f9e_row16_col28\" class=\"data row16 col28\" >-0.33</td>\n",
       "      <td id=\"T_89f9e_row16_col29\" class=\"data row16 col29\" >0.01</td>\n",
       "    </tr>\n",
       "    <tr>\n",
       "      <th id=\"T_89f9e_level0_row17\" class=\"row_heading level0 row17\" >V18</th>\n",
       "      <td id=\"T_89f9e_row17_col0\" class=\"data row17 col0\" >0.00</td>\n",
       "      <td id=\"T_89f9e_row17_col1\" class=\"data row17 col1\" >0.00</td>\n",
       "      <td id=\"T_89f9e_row17_col2\" class=\"data row17 col2\" >0.00</td>\n",
       "      <td id=\"T_89f9e_row17_col3\" class=\"data row17 col3\" >-0.00</td>\n",
       "      <td id=\"T_89f9e_row17_col4\" class=\"data row17 col4\" >0.00</td>\n",
       "      <td id=\"T_89f9e_row17_col5\" class=\"data row17 col5\" >0.00</td>\n",
       "      <td id=\"T_89f9e_row17_col6\" class=\"data row17 col6\" >0.00</td>\n",
       "      <td id=\"T_89f9e_row17_col7\" class=\"data row17 col7\" >-0.00</td>\n",
       "      <td id=\"T_89f9e_row17_col8\" class=\"data row17 col8\" >0.00</td>\n",
       "      <td id=\"T_89f9e_row17_col9\" class=\"data row17 col9\" >0.00</td>\n",
       "      <td id=\"T_89f9e_row17_col10\" class=\"data row17 col10\" >0.00</td>\n",
       "      <td id=\"T_89f9e_row17_col11\" class=\"data row17 col11\" >0.00</td>\n",
       "      <td id=\"T_89f9e_row17_col12\" class=\"data row17 col12\" >0.00</td>\n",
       "      <td id=\"T_89f9e_row17_col13\" class=\"data row17 col13\" >0.00</td>\n",
       "      <td id=\"T_89f9e_row17_col14\" class=\"data row17 col14\" >0.00</td>\n",
       "      <td id=\"T_89f9e_row17_col15\" class=\"data row17 col15\" >-0.00</td>\n",
       "      <td id=\"T_89f9e_row17_col16\" class=\"data row17 col16\" >-0.00</td>\n",
       "      <td id=\"T_89f9e_row17_col17\" class=\"data row17 col17\" >1.00</td>\n",
       "      <td id=\"T_89f9e_row17_col18\" class=\"data row17 col18\" >-0.00</td>\n",
       "      <td id=\"T_89f9e_row17_col19\" class=\"data row17 col19\" >-0.00</td>\n",
       "      <td id=\"T_89f9e_row17_col20\" class=\"data row17 col20\" >-0.00</td>\n",
       "      <td id=\"T_89f9e_row17_col21\" class=\"data row17 col21\" >-0.00</td>\n",
       "      <td id=\"T_89f9e_row17_col22\" class=\"data row17 col22\" >-0.00</td>\n",
       "      <td id=\"T_89f9e_row17_col23\" class=\"data row17 col23\" >-0.00</td>\n",
       "      <td id=\"T_89f9e_row17_col24\" class=\"data row17 col24\" >-0.00</td>\n",
       "      <td id=\"T_89f9e_row17_col25\" class=\"data row17 col25\" >0.00</td>\n",
       "      <td id=\"T_89f9e_row17_col26\" class=\"data row17 col26\" >0.00</td>\n",
       "      <td id=\"T_89f9e_row17_col27\" class=\"data row17 col27\" >0.00</td>\n",
       "      <td id=\"T_89f9e_row17_col28\" class=\"data row17 col28\" >-0.11</td>\n",
       "      <td id=\"T_89f9e_row17_col29\" class=\"data row17 col29\" >0.04</td>\n",
       "    </tr>\n",
       "    <tr>\n",
       "      <th id=\"T_89f9e_level0_row18\" class=\"row_heading level0 row18\" >V19</th>\n",
       "      <td id=\"T_89f9e_row18_col0\" class=\"data row18 col0\" >0.00</td>\n",
       "      <td id=\"T_89f9e_row18_col1\" class=\"data row18 col1\" >-0.00</td>\n",
       "      <td id=\"T_89f9e_row18_col2\" class=\"data row18 col2\" >0.00</td>\n",
       "      <td id=\"T_89f9e_row18_col3\" class=\"data row18 col3\" >-0.00</td>\n",
       "      <td id=\"T_89f9e_row18_col4\" class=\"data row18 col4\" >-0.00</td>\n",
       "      <td id=\"T_89f9e_row18_col5\" class=\"data row18 col5\" >-0.00</td>\n",
       "      <td id=\"T_89f9e_row18_col6\" class=\"data row18 col6\" >-0.00</td>\n",
       "      <td id=\"T_89f9e_row18_col7\" class=\"data row18 col7\" >-0.00</td>\n",
       "      <td id=\"T_89f9e_row18_col8\" class=\"data row18 col8\" >-0.00</td>\n",
       "      <td id=\"T_89f9e_row18_col9\" class=\"data row18 col9\" >0.00</td>\n",
       "      <td id=\"T_89f9e_row18_col10\" class=\"data row18 col10\" >-0.00</td>\n",
       "      <td id=\"T_89f9e_row18_col11\" class=\"data row18 col11\" >0.00</td>\n",
       "      <td id=\"T_89f9e_row18_col12\" class=\"data row18 col12\" >-0.00</td>\n",
       "      <td id=\"T_89f9e_row18_col13\" class=\"data row18 col13\" >0.00</td>\n",
       "      <td id=\"T_89f9e_row18_col14\" class=\"data row18 col14\" >-0.00</td>\n",
       "      <td id=\"T_89f9e_row18_col15\" class=\"data row18 col15\" >0.00</td>\n",
       "      <td id=\"T_89f9e_row18_col16\" class=\"data row18 col16\" >-0.00</td>\n",
       "      <td id=\"T_89f9e_row18_col17\" class=\"data row18 col17\" >-0.00</td>\n",
       "      <td id=\"T_89f9e_row18_col18\" class=\"data row18 col18\" >1.00</td>\n",
       "      <td id=\"T_89f9e_row18_col19\" class=\"data row18 col19\" >0.00</td>\n",
       "      <td id=\"T_89f9e_row18_col20\" class=\"data row18 col20\" >0.00</td>\n",
       "      <td id=\"T_89f9e_row18_col21\" class=\"data row18 col21\" >-0.00</td>\n",
       "      <td id=\"T_89f9e_row18_col22\" class=\"data row18 col22\" >0.00</td>\n",
       "      <td id=\"T_89f9e_row18_col23\" class=\"data row18 col23\" >0.00</td>\n",
       "      <td id=\"T_89f9e_row18_col24\" class=\"data row18 col24\" >0.00</td>\n",
       "      <td id=\"T_89f9e_row18_col25\" class=\"data row18 col25\" >0.00</td>\n",
       "      <td id=\"T_89f9e_row18_col26\" class=\"data row18 col26\" >-0.00</td>\n",
       "      <td id=\"T_89f9e_row18_col27\" class=\"data row18 col27\" >-0.00</td>\n",
       "      <td id=\"T_89f9e_row18_col28\" class=\"data row18 col28\" >0.03</td>\n",
       "      <td id=\"T_89f9e_row18_col29\" class=\"data row18 col29\" >-0.06</td>\n",
       "    </tr>\n",
       "    <tr>\n",
       "      <th id=\"T_89f9e_level0_row19\" class=\"row_heading level0 row19\" >V20</th>\n",
       "      <td id=\"T_89f9e_row19_col0\" class=\"data row19 col0\" >0.00</td>\n",
       "      <td id=\"T_89f9e_row19_col1\" class=\"data row19 col1\" >0.00</td>\n",
       "      <td id=\"T_89f9e_row19_col2\" class=\"data row19 col2\" >-0.00</td>\n",
       "      <td id=\"T_89f9e_row19_col3\" class=\"data row19 col3\" >-0.00</td>\n",
       "      <td id=\"T_89f9e_row19_col4\" class=\"data row19 col4\" >-0.00</td>\n",
       "      <td id=\"T_89f9e_row19_col5\" class=\"data row19 col5\" >-0.00</td>\n",
       "      <td id=\"T_89f9e_row19_col6\" class=\"data row19 col6\" >0.00</td>\n",
       "      <td id=\"T_89f9e_row19_col7\" class=\"data row19 col7\" >0.00</td>\n",
       "      <td id=\"T_89f9e_row19_col8\" class=\"data row19 col8\" >-0.00</td>\n",
       "      <td id=\"T_89f9e_row19_col9\" class=\"data row19 col9\" >-0.00</td>\n",
       "      <td id=\"T_89f9e_row19_col10\" class=\"data row19 col10\" >-0.00</td>\n",
       "      <td id=\"T_89f9e_row19_col11\" class=\"data row19 col11\" >0.00</td>\n",
       "      <td id=\"T_89f9e_row19_col12\" class=\"data row19 col12\" >0.00</td>\n",
       "      <td id=\"T_89f9e_row19_col13\" class=\"data row19 col13\" >-0.00</td>\n",
       "      <td id=\"T_89f9e_row19_col14\" class=\"data row19 col14\" >0.00</td>\n",
       "      <td id=\"T_89f9e_row19_col15\" class=\"data row19 col15\" >0.00</td>\n",
       "      <td id=\"T_89f9e_row19_col16\" class=\"data row19 col16\" >-0.00</td>\n",
       "      <td id=\"T_89f9e_row19_col17\" class=\"data row19 col17\" >-0.00</td>\n",
       "      <td id=\"T_89f9e_row19_col18\" class=\"data row19 col18\" >0.00</td>\n",
       "      <td id=\"T_89f9e_row19_col19\" class=\"data row19 col19\" >1.00</td>\n",
       "      <td id=\"T_89f9e_row19_col20\" class=\"data row19 col20\" >-0.00</td>\n",
       "      <td id=\"T_89f9e_row19_col21\" class=\"data row19 col21\" >0.00</td>\n",
       "      <td id=\"T_89f9e_row19_col22\" class=\"data row19 col22\" >0.00</td>\n",
       "      <td id=\"T_89f9e_row19_col23\" class=\"data row19 col23\" >0.00</td>\n",
       "      <td id=\"T_89f9e_row19_col24\" class=\"data row19 col24\" >0.00</td>\n",
       "      <td id=\"T_89f9e_row19_col25\" class=\"data row19 col25\" >-0.00</td>\n",
       "      <td id=\"T_89f9e_row19_col26\" class=\"data row19 col26\" >-0.00</td>\n",
       "      <td id=\"T_89f9e_row19_col27\" class=\"data row19 col27\" >-0.00</td>\n",
       "      <td id=\"T_89f9e_row19_col28\" class=\"data row19 col28\" >0.02</td>\n",
       "      <td id=\"T_89f9e_row19_col29\" class=\"data row19 col29\" >0.34</td>\n",
       "    </tr>\n",
       "    <tr>\n",
       "      <th id=\"T_89f9e_level0_row20\" class=\"row_heading level0 row20\" >V21</th>\n",
       "      <td id=\"T_89f9e_row20_col0\" class=\"data row20 col0\" >-0.00</td>\n",
       "      <td id=\"T_89f9e_row20_col1\" class=\"data row20 col1\" >-0.00</td>\n",
       "      <td id=\"T_89f9e_row20_col2\" class=\"data row20 col2\" >0.00</td>\n",
       "      <td id=\"T_89f9e_row20_col3\" class=\"data row20 col3\" >-0.00</td>\n",
       "      <td id=\"T_89f9e_row20_col4\" class=\"data row20 col4\" >-0.00</td>\n",
       "      <td id=\"T_89f9e_row20_col5\" class=\"data row20 col5\" >0.00</td>\n",
       "      <td id=\"T_89f9e_row20_col6\" class=\"data row20 col6\" >-0.00</td>\n",
       "      <td id=\"T_89f9e_row20_col7\" class=\"data row20 col7\" >0.00</td>\n",
       "      <td id=\"T_89f9e_row20_col8\" class=\"data row20 col8\" >0.00</td>\n",
       "      <td id=\"T_89f9e_row20_col9\" class=\"data row20 col9\" >0.00</td>\n",
       "      <td id=\"T_89f9e_row20_col10\" class=\"data row20 col10\" >-0.00</td>\n",
       "      <td id=\"T_89f9e_row20_col11\" class=\"data row20 col11\" >0.00</td>\n",
       "      <td id=\"T_89f9e_row20_col12\" class=\"data row20 col12\" >0.00</td>\n",
       "      <td id=\"T_89f9e_row20_col13\" class=\"data row20 col13\" >-0.00</td>\n",
       "      <td id=\"T_89f9e_row20_col14\" class=\"data row20 col14\" >0.00</td>\n",
       "      <td id=\"T_89f9e_row20_col15\" class=\"data row20 col15\" >-0.00</td>\n",
       "      <td id=\"T_89f9e_row20_col16\" class=\"data row20 col16\" >-0.00</td>\n",
       "      <td id=\"T_89f9e_row20_col17\" class=\"data row20 col17\" >-0.00</td>\n",
       "      <td id=\"T_89f9e_row20_col18\" class=\"data row20 col18\" >0.00</td>\n",
       "      <td id=\"T_89f9e_row20_col19\" class=\"data row20 col19\" >-0.00</td>\n",
       "      <td id=\"T_89f9e_row20_col20\" class=\"data row20 col20\" >1.00</td>\n",
       "      <td id=\"T_89f9e_row20_col21\" class=\"data row20 col21\" >0.00</td>\n",
       "      <td id=\"T_89f9e_row20_col22\" class=\"data row20 col22\" >0.00</td>\n",
       "      <td id=\"T_89f9e_row20_col23\" class=\"data row20 col23\" >0.00</td>\n",
       "      <td id=\"T_89f9e_row20_col24\" class=\"data row20 col24\" >-0.00</td>\n",
       "      <td id=\"T_89f9e_row20_col25\" class=\"data row20 col25\" >-0.00</td>\n",
       "      <td id=\"T_89f9e_row20_col26\" class=\"data row20 col26\" >-0.00</td>\n",
       "      <td id=\"T_89f9e_row20_col27\" class=\"data row20 col27\" >0.00</td>\n",
       "      <td id=\"T_89f9e_row20_col28\" class=\"data row20 col28\" >0.04</td>\n",
       "      <td id=\"T_89f9e_row20_col29\" class=\"data row20 col29\" >0.11</td>\n",
       "    </tr>\n",
       "    <tr>\n",
       "      <th id=\"T_89f9e_level0_row21\" class=\"row_heading level0 row21\" >V22</th>\n",
       "      <td id=\"T_89f9e_row21_col0\" class=\"data row21 col0\" >-0.00</td>\n",
       "      <td id=\"T_89f9e_row21_col1\" class=\"data row21 col1\" >0.00</td>\n",
       "      <td id=\"T_89f9e_row21_col2\" class=\"data row21 col2\" >-0.00</td>\n",
       "      <td id=\"T_89f9e_row21_col3\" class=\"data row21 col3\" >-0.00</td>\n",
       "      <td id=\"T_89f9e_row21_col4\" class=\"data row21 col4\" >0.00</td>\n",
       "      <td id=\"T_89f9e_row21_col5\" class=\"data row21 col5\" >-0.00</td>\n",
       "      <td id=\"T_89f9e_row21_col6\" class=\"data row21 col6\" >-0.00</td>\n",
       "      <td id=\"T_89f9e_row21_col7\" class=\"data row21 col7\" >0.00</td>\n",
       "      <td id=\"T_89f9e_row21_col8\" class=\"data row21 col8\" >-0.00</td>\n",
       "      <td id=\"T_89f9e_row21_col9\" class=\"data row21 col9\" >-0.00</td>\n",
       "      <td id=\"T_89f9e_row21_col10\" class=\"data row21 col10\" >0.00</td>\n",
       "      <td id=\"T_89f9e_row21_col11\" class=\"data row21 col11\" >0.00</td>\n",
       "      <td id=\"T_89f9e_row21_col12\" class=\"data row21 col12\" >0.00</td>\n",
       "      <td id=\"T_89f9e_row21_col13\" class=\"data row21 col13\" >0.00</td>\n",
       "      <td id=\"T_89f9e_row21_col14\" class=\"data row21 col14\" >-0.00</td>\n",
       "      <td id=\"T_89f9e_row21_col15\" class=\"data row21 col15\" >-0.00</td>\n",
       "      <td id=\"T_89f9e_row21_col16\" class=\"data row21 col16\" >-0.00</td>\n",
       "      <td id=\"T_89f9e_row21_col17\" class=\"data row21 col17\" >-0.00</td>\n",
       "      <td id=\"T_89f9e_row21_col18\" class=\"data row21 col18\" >-0.00</td>\n",
       "      <td id=\"T_89f9e_row21_col19\" class=\"data row21 col19\" >0.00</td>\n",
       "      <td id=\"T_89f9e_row21_col20\" class=\"data row21 col20\" >0.00</td>\n",
       "      <td id=\"T_89f9e_row21_col21\" class=\"data row21 col21\" >1.00</td>\n",
       "      <td id=\"T_89f9e_row21_col22\" class=\"data row21 col22\" >-0.00</td>\n",
       "      <td id=\"T_89f9e_row21_col23\" class=\"data row21 col23\" >0.00</td>\n",
       "      <td id=\"T_89f9e_row21_col24\" class=\"data row21 col24\" >-0.00</td>\n",
       "      <td id=\"T_89f9e_row21_col25\" class=\"data row21 col25\" >-0.00</td>\n",
       "      <td id=\"T_89f9e_row21_col26\" class=\"data row21 col26\" >0.00</td>\n",
       "      <td id=\"T_89f9e_row21_col27\" class=\"data row21 col27\" >-0.00</td>\n",
       "      <td id=\"T_89f9e_row21_col28\" class=\"data row21 col28\" >0.00</td>\n",
       "      <td id=\"T_89f9e_row21_col29\" class=\"data row21 col29\" >-0.06</td>\n",
       "    </tr>\n",
       "    <tr>\n",
       "      <th id=\"T_89f9e_level0_row22\" class=\"row_heading level0 row22\" >V23</th>\n",
       "      <td id=\"T_89f9e_row22_col0\" class=\"data row22 col0\" >0.00</td>\n",
       "      <td id=\"T_89f9e_row22_col1\" class=\"data row22 col1\" >0.00</td>\n",
       "      <td id=\"T_89f9e_row22_col2\" class=\"data row22 col2\" >-0.00</td>\n",
       "      <td id=\"T_89f9e_row22_col3\" class=\"data row22 col3\" >0.00</td>\n",
       "      <td id=\"T_89f9e_row22_col4\" class=\"data row22 col4\" >-0.00</td>\n",
       "      <td id=\"T_89f9e_row22_col5\" class=\"data row22 col5\" >0.00</td>\n",
       "      <td id=\"T_89f9e_row22_col6\" class=\"data row22 col6\" >-0.00</td>\n",
       "      <td id=\"T_89f9e_row22_col7\" class=\"data row22 col7\" >0.00</td>\n",
       "      <td id=\"T_89f9e_row22_col8\" class=\"data row22 col8\" >-0.00</td>\n",
       "      <td id=\"T_89f9e_row22_col9\" class=\"data row22 col9\" >0.00</td>\n",
       "      <td id=\"T_89f9e_row22_col10\" class=\"data row22 col10\" >-0.00</td>\n",
       "      <td id=\"T_89f9e_row22_col11\" class=\"data row22 col11\" >0.00</td>\n",
       "      <td id=\"T_89f9e_row22_col12\" class=\"data row22 col12\" >-0.00</td>\n",
       "      <td id=\"T_89f9e_row22_col13\" class=\"data row22 col13\" >0.00</td>\n",
       "      <td id=\"T_89f9e_row22_col14\" class=\"data row22 col14\" >-0.00</td>\n",
       "      <td id=\"T_89f9e_row22_col15\" class=\"data row22 col15\" >0.00</td>\n",
       "      <td id=\"T_89f9e_row22_col16\" class=\"data row22 col16\" >0.00</td>\n",
       "      <td id=\"T_89f9e_row22_col17\" class=\"data row22 col17\" >-0.00</td>\n",
       "      <td id=\"T_89f9e_row22_col18\" class=\"data row22 col18\" >0.00</td>\n",
       "      <td id=\"T_89f9e_row22_col19\" class=\"data row22 col19\" >0.00</td>\n",
       "      <td id=\"T_89f9e_row22_col20\" class=\"data row22 col20\" >0.00</td>\n",
       "      <td id=\"T_89f9e_row22_col21\" class=\"data row22 col21\" >-0.00</td>\n",
       "      <td id=\"T_89f9e_row22_col22\" class=\"data row22 col22\" >1.00</td>\n",
       "      <td id=\"T_89f9e_row22_col23\" class=\"data row22 col23\" >0.00</td>\n",
       "      <td id=\"T_89f9e_row22_col24\" class=\"data row22 col24\" >-0.00</td>\n",
       "      <td id=\"T_89f9e_row22_col25\" class=\"data row22 col25\" >0.00</td>\n",
       "      <td id=\"T_89f9e_row22_col26\" class=\"data row22 col26\" >0.00</td>\n",
       "      <td id=\"T_89f9e_row22_col27\" class=\"data row22 col27\" >0.00</td>\n",
       "      <td id=\"T_89f9e_row22_col28\" class=\"data row22 col28\" >-0.00</td>\n",
       "      <td id=\"T_89f9e_row22_col29\" class=\"data row22 col29\" >-0.11</td>\n",
       "    </tr>\n",
       "    <tr>\n",
       "      <th id=\"T_89f9e_level0_row23\" class=\"row_heading level0 row23\" >V24</th>\n",
       "      <td id=\"T_89f9e_row23_col0\" class=\"data row23 col0\" >-0.00</td>\n",
       "      <td id=\"T_89f9e_row23_col1\" class=\"data row23 col1\" >0.00</td>\n",
       "      <td id=\"T_89f9e_row23_col2\" class=\"data row23 col2\" >0.00</td>\n",
       "      <td id=\"T_89f9e_row23_col3\" class=\"data row23 col3\" >0.00</td>\n",
       "      <td id=\"T_89f9e_row23_col4\" class=\"data row23 col4\" >-0.00</td>\n",
       "      <td id=\"T_89f9e_row23_col5\" class=\"data row23 col5\" >-0.00</td>\n",
       "      <td id=\"T_89f9e_row23_col6\" class=\"data row23 col6\" >0.00</td>\n",
       "      <td id=\"T_89f9e_row23_col7\" class=\"data row23 col7\" >-0.00</td>\n",
       "      <td id=\"T_89f9e_row23_col8\" class=\"data row23 col8\" >-0.00</td>\n",
       "      <td id=\"T_89f9e_row23_col9\" class=\"data row23 col9\" >-0.00</td>\n",
       "      <td id=\"T_89f9e_row23_col10\" class=\"data row23 col10\" >0.00</td>\n",
       "      <td id=\"T_89f9e_row23_col11\" class=\"data row23 col11\" >0.00</td>\n",
       "      <td id=\"T_89f9e_row23_col12\" class=\"data row23 col12\" >-0.00</td>\n",
       "      <td id=\"T_89f9e_row23_col13\" class=\"data row23 col13\" >0.00</td>\n",
       "      <td id=\"T_89f9e_row23_col14\" class=\"data row23 col14\" >-0.00</td>\n",
       "      <td id=\"T_89f9e_row23_col15\" class=\"data row23 col15\" >-0.00</td>\n",
       "      <td id=\"T_89f9e_row23_col16\" class=\"data row23 col16\" >-0.00</td>\n",
       "      <td id=\"T_89f9e_row23_col17\" class=\"data row23 col17\" >-0.00</td>\n",
       "      <td id=\"T_89f9e_row23_col18\" class=\"data row23 col18\" >0.00</td>\n",
       "      <td id=\"T_89f9e_row23_col19\" class=\"data row23 col19\" >0.00</td>\n",
       "      <td id=\"T_89f9e_row23_col20\" class=\"data row23 col20\" >0.00</td>\n",
       "      <td id=\"T_89f9e_row23_col21\" class=\"data row23 col21\" >0.00</td>\n",
       "      <td id=\"T_89f9e_row23_col22\" class=\"data row23 col22\" >0.00</td>\n",
       "      <td id=\"T_89f9e_row23_col23\" class=\"data row23 col23\" >1.00</td>\n",
       "      <td id=\"T_89f9e_row23_col24\" class=\"data row23 col24\" >0.00</td>\n",
       "      <td id=\"T_89f9e_row23_col25\" class=\"data row23 col25\" >0.00</td>\n",
       "      <td id=\"T_89f9e_row23_col26\" class=\"data row23 col26\" >-0.00</td>\n",
       "      <td id=\"T_89f9e_row23_col27\" class=\"data row23 col27\" >-0.00</td>\n",
       "      <td id=\"T_89f9e_row23_col28\" class=\"data row23 col28\" >-0.01</td>\n",
       "      <td id=\"T_89f9e_row23_col29\" class=\"data row23 col29\" >0.01</td>\n",
       "    </tr>\n",
       "    <tr>\n",
       "      <th id=\"T_89f9e_level0_row24\" class=\"row_heading level0 row24\" >V25</th>\n",
       "      <td id=\"T_89f9e_row24_col0\" class=\"data row24 col0\" >-0.00</td>\n",
       "      <td id=\"T_89f9e_row24_col1\" class=\"data row24 col1\" >-0.00</td>\n",
       "      <td id=\"T_89f9e_row24_col2\" class=\"data row24 col2\" >-0.00</td>\n",
       "      <td id=\"T_89f9e_row24_col3\" class=\"data row24 col3\" >0.00</td>\n",
       "      <td id=\"T_89f9e_row24_col4\" class=\"data row24 col4\" >0.00</td>\n",
       "      <td id=\"T_89f9e_row24_col5\" class=\"data row24 col5\" >0.00</td>\n",
       "      <td id=\"T_89f9e_row24_col6\" class=\"data row24 col6\" >-0.00</td>\n",
       "      <td id=\"T_89f9e_row24_col7\" class=\"data row24 col7\" >-0.00</td>\n",
       "      <td id=\"T_89f9e_row24_col8\" class=\"data row24 col8\" >0.00</td>\n",
       "      <td id=\"T_89f9e_row24_col9\" class=\"data row24 col9\" >-0.00</td>\n",
       "      <td id=\"T_89f9e_row24_col10\" class=\"data row24 col10\" >-0.00</td>\n",
       "      <td id=\"T_89f9e_row24_col11\" class=\"data row24 col11\" >-0.00</td>\n",
       "      <td id=\"T_89f9e_row24_col12\" class=\"data row24 col12\" >-0.00</td>\n",
       "      <td id=\"T_89f9e_row24_col13\" class=\"data row24 col13\" >-0.00</td>\n",
       "      <td id=\"T_89f9e_row24_col14\" class=\"data row24 col14\" >0.00</td>\n",
       "      <td id=\"T_89f9e_row24_col15\" class=\"data row24 col15\" >-0.00</td>\n",
       "      <td id=\"T_89f9e_row24_col16\" class=\"data row24 col16\" >0.00</td>\n",
       "      <td id=\"T_89f9e_row24_col17\" class=\"data row24 col17\" >-0.00</td>\n",
       "      <td id=\"T_89f9e_row24_col18\" class=\"data row24 col18\" >0.00</td>\n",
       "      <td id=\"T_89f9e_row24_col19\" class=\"data row24 col19\" >0.00</td>\n",
       "      <td id=\"T_89f9e_row24_col20\" class=\"data row24 col20\" >-0.00</td>\n",
       "      <td id=\"T_89f9e_row24_col21\" class=\"data row24 col21\" >-0.00</td>\n",
       "      <td id=\"T_89f9e_row24_col22\" class=\"data row24 col22\" >-0.00</td>\n",
       "      <td id=\"T_89f9e_row24_col23\" class=\"data row24 col23\" >0.00</td>\n",
       "      <td id=\"T_89f9e_row24_col24\" class=\"data row24 col24\" >1.00</td>\n",
       "      <td id=\"T_89f9e_row24_col25\" class=\"data row24 col25\" >0.00</td>\n",
       "      <td id=\"T_89f9e_row24_col26\" class=\"data row24 col26\" >-0.00</td>\n",
       "      <td id=\"T_89f9e_row24_col27\" class=\"data row24 col27\" >-0.00</td>\n",
       "      <td id=\"T_89f9e_row24_col28\" class=\"data row24 col28\" >0.00</td>\n",
       "      <td id=\"T_89f9e_row24_col29\" class=\"data row24 col29\" >-0.05</td>\n",
       "    </tr>\n",
       "    <tr>\n",
       "      <th id=\"T_89f9e_level0_row25\" class=\"row_heading level0 row25\" >V26</th>\n",
       "      <td id=\"T_89f9e_row25_col0\" class=\"data row25 col0\" >-0.00</td>\n",
       "      <td id=\"T_89f9e_row25_col1\" class=\"data row25 col1\" >0.00</td>\n",
       "      <td id=\"T_89f9e_row25_col2\" class=\"data row25 col2\" >-0.00</td>\n",
       "      <td id=\"T_89f9e_row25_col3\" class=\"data row25 col3\" >-0.00</td>\n",
       "      <td id=\"T_89f9e_row25_col4\" class=\"data row25 col4\" >0.00</td>\n",
       "      <td id=\"T_89f9e_row25_col5\" class=\"data row25 col5\" >-0.00</td>\n",
       "      <td id=\"T_89f9e_row25_col6\" class=\"data row25 col6\" >-0.00</td>\n",
       "      <td id=\"T_89f9e_row25_col7\" class=\"data row25 col7\" >-0.00</td>\n",
       "      <td id=\"T_89f9e_row25_col8\" class=\"data row25 col8\" >-0.00</td>\n",
       "      <td id=\"T_89f9e_row25_col9\" class=\"data row25 col9\" >-0.00</td>\n",
       "      <td id=\"T_89f9e_row25_col10\" class=\"data row25 col10\" >-0.00</td>\n",
       "      <td id=\"T_89f9e_row25_col11\" class=\"data row25 col11\" >-0.00</td>\n",
       "      <td id=\"T_89f9e_row25_col12\" class=\"data row25 col12\" >-0.00</td>\n",
       "      <td id=\"T_89f9e_row25_col13\" class=\"data row25 col13\" >-0.00</td>\n",
       "      <td id=\"T_89f9e_row25_col14\" class=\"data row25 col14\" >0.00</td>\n",
       "      <td id=\"T_89f9e_row25_col15\" class=\"data row25 col15\" >-0.00</td>\n",
       "      <td id=\"T_89f9e_row25_col16\" class=\"data row25 col16\" >0.00</td>\n",
       "      <td id=\"T_89f9e_row25_col17\" class=\"data row25 col17\" >0.00</td>\n",
       "      <td id=\"T_89f9e_row25_col18\" class=\"data row25 col18\" >0.00</td>\n",
       "      <td id=\"T_89f9e_row25_col19\" class=\"data row25 col19\" >-0.00</td>\n",
       "      <td id=\"T_89f9e_row25_col20\" class=\"data row25 col20\" >-0.00</td>\n",
       "      <td id=\"T_89f9e_row25_col21\" class=\"data row25 col21\" >-0.00</td>\n",
       "      <td id=\"T_89f9e_row25_col22\" class=\"data row25 col22\" >0.00</td>\n",
       "      <td id=\"T_89f9e_row25_col23\" class=\"data row25 col23\" >0.00</td>\n",
       "      <td id=\"T_89f9e_row25_col24\" class=\"data row25 col24\" >0.00</td>\n",
       "      <td id=\"T_89f9e_row25_col25\" class=\"data row25 col25\" >1.00</td>\n",
       "      <td id=\"T_89f9e_row25_col26\" class=\"data row25 col26\" >-0.00</td>\n",
       "      <td id=\"T_89f9e_row25_col27\" class=\"data row25 col27\" >-0.00</td>\n",
       "      <td id=\"T_89f9e_row25_col28\" class=\"data row25 col28\" >0.00</td>\n",
       "      <td id=\"T_89f9e_row25_col29\" class=\"data row25 col29\" >-0.00</td>\n",
       "    </tr>\n",
       "    <tr>\n",
       "      <th id=\"T_89f9e_level0_row26\" class=\"row_heading level0 row26\" >V27</th>\n",
       "      <td id=\"T_89f9e_row26_col0\" class=\"data row26 col0\" >0.00</td>\n",
       "      <td id=\"T_89f9e_row26_col1\" class=\"data row26 col1\" >-0.00</td>\n",
       "      <td id=\"T_89f9e_row26_col2\" class=\"data row26 col2\" >0.00</td>\n",
       "      <td id=\"T_89f9e_row26_col3\" class=\"data row26 col3\" >0.00</td>\n",
       "      <td id=\"T_89f9e_row26_col4\" class=\"data row26 col4\" >0.00</td>\n",
       "      <td id=\"T_89f9e_row26_col5\" class=\"data row26 col5\" >-0.00</td>\n",
       "      <td id=\"T_89f9e_row26_col6\" class=\"data row26 col6\" >-0.00</td>\n",
       "      <td id=\"T_89f9e_row26_col7\" class=\"data row26 col7\" >0.00</td>\n",
       "      <td id=\"T_89f9e_row26_col8\" class=\"data row26 col8\" >-0.00</td>\n",
       "      <td id=\"T_89f9e_row26_col9\" class=\"data row26 col9\" >-0.00</td>\n",
       "      <td id=\"T_89f9e_row26_col10\" class=\"data row26 col10\" >-0.00</td>\n",
       "      <td id=\"T_89f9e_row26_col11\" class=\"data row26 col11\" >-0.00</td>\n",
       "      <td id=\"T_89f9e_row26_col12\" class=\"data row26 col12\" >-0.00</td>\n",
       "      <td id=\"T_89f9e_row26_col13\" class=\"data row26 col13\" >0.00</td>\n",
       "      <td id=\"T_89f9e_row26_col14\" class=\"data row26 col14\" >-0.00</td>\n",
       "      <td id=\"T_89f9e_row26_col15\" class=\"data row26 col15\" >0.00</td>\n",
       "      <td id=\"T_89f9e_row26_col16\" class=\"data row26 col16\" >0.00</td>\n",
       "      <td id=\"T_89f9e_row26_col17\" class=\"data row26 col17\" >0.00</td>\n",
       "      <td id=\"T_89f9e_row26_col18\" class=\"data row26 col18\" >-0.00</td>\n",
       "      <td id=\"T_89f9e_row26_col19\" class=\"data row26 col19\" >-0.00</td>\n",
       "      <td id=\"T_89f9e_row26_col20\" class=\"data row26 col20\" >-0.00</td>\n",
       "      <td id=\"T_89f9e_row26_col21\" class=\"data row26 col21\" >0.00</td>\n",
       "      <td id=\"T_89f9e_row26_col22\" class=\"data row26 col22\" >0.00</td>\n",
       "      <td id=\"T_89f9e_row26_col23\" class=\"data row26 col23\" >-0.00</td>\n",
       "      <td id=\"T_89f9e_row26_col24\" class=\"data row26 col24\" >-0.00</td>\n",
       "      <td id=\"T_89f9e_row26_col25\" class=\"data row26 col25\" >-0.00</td>\n",
       "      <td id=\"T_89f9e_row26_col26\" class=\"data row26 col26\" >1.00</td>\n",
       "      <td id=\"T_89f9e_row26_col27\" class=\"data row26 col27\" >-0.00</td>\n",
       "      <td id=\"T_89f9e_row26_col28\" class=\"data row26 col28\" >0.02</td>\n",
       "      <td id=\"T_89f9e_row26_col29\" class=\"data row26 col29\" >0.03</td>\n",
       "    </tr>\n",
       "    <tr>\n",
       "      <th id=\"T_89f9e_level0_row27\" class=\"row_heading level0 row27\" >V28</th>\n",
       "      <td id=\"T_89f9e_row27_col0\" class=\"data row27 col0\" >0.00</td>\n",
       "      <td id=\"T_89f9e_row27_col1\" class=\"data row27 col1\" >-0.00</td>\n",
       "      <td id=\"T_89f9e_row27_col2\" class=\"data row27 col2\" >0.00</td>\n",
       "      <td id=\"T_89f9e_row27_col3\" class=\"data row27 col3\" >-0.00</td>\n",
       "      <td id=\"T_89f9e_row27_col4\" class=\"data row27 col4\" >-0.00</td>\n",
       "      <td id=\"T_89f9e_row27_col5\" class=\"data row27 col5\" >0.00</td>\n",
       "      <td id=\"T_89f9e_row27_col6\" class=\"data row27 col6\" >-0.00</td>\n",
       "      <td id=\"T_89f9e_row27_col7\" class=\"data row27 col7\" >-0.00</td>\n",
       "      <td id=\"T_89f9e_row27_col8\" class=\"data row27 col8\" >0.00</td>\n",
       "      <td id=\"T_89f9e_row27_col9\" class=\"data row27 col9\" >0.00</td>\n",
       "      <td id=\"T_89f9e_row27_col10\" class=\"data row27 col10\" >-0.00</td>\n",
       "      <td id=\"T_89f9e_row27_col11\" class=\"data row27 col11\" >0.00</td>\n",
       "      <td id=\"T_89f9e_row27_col12\" class=\"data row27 col12\" >0.00</td>\n",
       "      <td id=\"T_89f9e_row27_col13\" class=\"data row27 col13\" >0.00</td>\n",
       "      <td id=\"T_89f9e_row27_col14\" class=\"data row27 col14\" >-0.00</td>\n",
       "      <td id=\"T_89f9e_row27_col15\" class=\"data row27 col15\" >0.00</td>\n",
       "      <td id=\"T_89f9e_row27_col16\" class=\"data row27 col16\" >-0.00</td>\n",
       "      <td id=\"T_89f9e_row27_col17\" class=\"data row27 col17\" >0.00</td>\n",
       "      <td id=\"T_89f9e_row27_col18\" class=\"data row27 col18\" >-0.00</td>\n",
       "      <td id=\"T_89f9e_row27_col19\" class=\"data row27 col19\" >-0.00</td>\n",
       "      <td id=\"T_89f9e_row27_col20\" class=\"data row27 col20\" >0.00</td>\n",
       "      <td id=\"T_89f9e_row27_col21\" class=\"data row27 col21\" >-0.00</td>\n",
       "      <td id=\"T_89f9e_row27_col22\" class=\"data row27 col22\" >0.00</td>\n",
       "      <td id=\"T_89f9e_row27_col23\" class=\"data row27 col23\" >-0.00</td>\n",
       "      <td id=\"T_89f9e_row27_col24\" class=\"data row27 col24\" >-0.00</td>\n",
       "      <td id=\"T_89f9e_row27_col25\" class=\"data row27 col25\" >-0.00</td>\n",
       "      <td id=\"T_89f9e_row27_col26\" class=\"data row27 col26\" >-0.00</td>\n",
       "      <td id=\"T_89f9e_row27_col27\" class=\"data row27 col27\" >1.00</td>\n",
       "      <td id=\"T_89f9e_row27_col28\" class=\"data row27 col28\" >0.01</td>\n",
       "      <td id=\"T_89f9e_row27_col29\" class=\"data row27 col29\" >0.01</td>\n",
       "    </tr>\n",
       "    <tr>\n",
       "      <th id=\"T_89f9e_level0_row28\" class=\"row_heading level0 row28\" >Class</th>\n",
       "      <td id=\"T_89f9e_row28_col0\" class=\"data row28 col0\" >-0.10</td>\n",
       "      <td id=\"T_89f9e_row28_col1\" class=\"data row28 col1\" >0.09</td>\n",
       "      <td id=\"T_89f9e_row28_col2\" class=\"data row28 col2\" >-0.19</td>\n",
       "      <td id=\"T_89f9e_row28_col3\" class=\"data row28 col3\" >0.13</td>\n",
       "      <td id=\"T_89f9e_row28_col4\" class=\"data row28 col4\" >-0.09</td>\n",
       "      <td id=\"T_89f9e_row28_col5\" class=\"data row28 col5\" >-0.04</td>\n",
       "      <td id=\"T_89f9e_row28_col6\" class=\"data row28 col6\" >-0.19</td>\n",
       "      <td id=\"T_89f9e_row28_col7\" class=\"data row28 col7\" >0.02</td>\n",
       "      <td id=\"T_89f9e_row28_col8\" class=\"data row28 col8\" >-0.10</td>\n",
       "      <td id=\"T_89f9e_row28_col9\" class=\"data row28 col9\" >-0.22</td>\n",
       "      <td id=\"T_89f9e_row28_col10\" class=\"data row28 col10\" >0.15</td>\n",
       "      <td id=\"T_89f9e_row28_col11\" class=\"data row28 col11\" >-0.26</td>\n",
       "      <td id=\"T_89f9e_row28_col12\" class=\"data row28 col12\" >-0.00</td>\n",
       "      <td id=\"T_89f9e_row28_col13\" class=\"data row28 col13\" >-0.30</td>\n",
       "      <td id=\"T_89f9e_row28_col14\" class=\"data row28 col14\" >-0.00</td>\n",
       "      <td id=\"T_89f9e_row28_col15\" class=\"data row28 col15\" >-0.20</td>\n",
       "      <td id=\"T_89f9e_row28_col16\" class=\"data row28 col16\" >-0.33</td>\n",
       "      <td id=\"T_89f9e_row28_col17\" class=\"data row28 col17\" >-0.11</td>\n",
       "      <td id=\"T_89f9e_row28_col18\" class=\"data row28 col18\" >0.03</td>\n",
       "      <td id=\"T_89f9e_row28_col19\" class=\"data row28 col19\" >0.02</td>\n",
       "      <td id=\"T_89f9e_row28_col20\" class=\"data row28 col20\" >0.04</td>\n",
       "      <td id=\"T_89f9e_row28_col21\" class=\"data row28 col21\" >0.00</td>\n",
       "      <td id=\"T_89f9e_row28_col22\" class=\"data row28 col22\" >-0.00</td>\n",
       "      <td id=\"T_89f9e_row28_col23\" class=\"data row28 col23\" >-0.01</td>\n",
       "      <td id=\"T_89f9e_row28_col24\" class=\"data row28 col24\" >0.00</td>\n",
       "      <td id=\"T_89f9e_row28_col25\" class=\"data row28 col25\" >0.00</td>\n",
       "      <td id=\"T_89f9e_row28_col26\" class=\"data row28 col26\" >0.02</td>\n",
       "      <td id=\"T_89f9e_row28_col27\" class=\"data row28 col27\" >0.01</td>\n",
       "      <td id=\"T_89f9e_row28_col28\" class=\"data row28 col28\" >1.00</td>\n",
       "      <td id=\"T_89f9e_row28_col29\" class=\"data row28 col29\" >0.01</td>\n",
       "    </tr>\n",
       "    <tr>\n",
       "      <th id=\"T_89f9e_level0_row29\" class=\"row_heading level0 row29\" >NormalizedAmount</th>\n",
       "      <td id=\"T_89f9e_row29_col0\" class=\"data row29 col0\" >-0.23</td>\n",
       "      <td id=\"T_89f9e_row29_col1\" class=\"data row29 col1\" >-0.53</td>\n",
       "      <td id=\"T_89f9e_row29_col2\" class=\"data row29 col2\" >-0.21</td>\n",
       "      <td id=\"T_89f9e_row29_col3\" class=\"data row29 col3\" >0.10</td>\n",
       "      <td id=\"T_89f9e_row29_col4\" class=\"data row29 col4\" >-0.39</td>\n",
       "      <td id=\"T_89f9e_row29_col5\" class=\"data row29 col5\" >0.22</td>\n",
       "      <td id=\"T_89f9e_row29_col6\" class=\"data row29 col6\" >0.40</td>\n",
       "      <td id=\"T_89f9e_row29_col7\" class=\"data row29 col7\" >-0.10</td>\n",
       "      <td id=\"T_89f9e_row29_col8\" class=\"data row29 col8\" >-0.04</td>\n",
       "      <td id=\"T_89f9e_row29_col9\" class=\"data row29 col9\" >-0.10</td>\n",
       "      <td id=\"T_89f9e_row29_col10\" class=\"data row29 col10\" >0.00</td>\n",
       "      <td id=\"T_89f9e_row29_col11\" class=\"data row29 col11\" >-0.01</td>\n",
       "      <td id=\"T_89f9e_row29_col12\" class=\"data row29 col12\" >0.01</td>\n",
       "      <td id=\"T_89f9e_row29_col13\" class=\"data row29 col13\" >0.03</td>\n",
       "      <td id=\"T_89f9e_row29_col14\" class=\"data row29 col14\" >-0.00</td>\n",
       "      <td id=\"T_89f9e_row29_col15\" class=\"data row29 col15\" >-0.00</td>\n",
       "      <td id=\"T_89f9e_row29_col16\" class=\"data row29 col16\" >0.01</td>\n",
       "      <td id=\"T_89f9e_row29_col17\" class=\"data row29 col17\" >0.04</td>\n",
       "      <td id=\"T_89f9e_row29_col18\" class=\"data row29 col18\" >-0.06</td>\n",
       "      <td id=\"T_89f9e_row29_col19\" class=\"data row29 col19\" >0.34</td>\n",
       "      <td id=\"T_89f9e_row29_col20\" class=\"data row29 col20\" >0.11</td>\n",
       "      <td id=\"T_89f9e_row29_col21\" class=\"data row29 col21\" >-0.06</td>\n",
       "      <td id=\"T_89f9e_row29_col22\" class=\"data row29 col22\" >-0.11</td>\n",
       "      <td id=\"T_89f9e_row29_col23\" class=\"data row29 col23\" >0.01</td>\n",
       "      <td id=\"T_89f9e_row29_col24\" class=\"data row29 col24\" >-0.05</td>\n",
       "      <td id=\"T_89f9e_row29_col25\" class=\"data row29 col25\" >-0.00</td>\n",
       "      <td id=\"T_89f9e_row29_col26\" class=\"data row29 col26\" >0.03</td>\n",
       "      <td id=\"T_89f9e_row29_col27\" class=\"data row29 col27\" >0.01</td>\n",
       "      <td id=\"T_89f9e_row29_col28\" class=\"data row29 col28\" >0.01</td>\n",
       "      <td id=\"T_89f9e_row29_col29\" class=\"data row29 col29\" >1.00</td>\n",
       "    </tr>\n",
       "  </tbody>\n",
       "</table>\n"
      ],
      "text/plain": [
       "<pandas.io.formats.style.Styler at 0x28a25413d60>"
      ]
     },
     "execution_count": 21,
     "metadata": {},
     "output_type": "execute_result"
    }
   ],
   "source": [
    "#correlation table\n",
    "corr = df.corr()\n",
    "corr.style.background_gradient(cmap='coolwarm').set_precision(2)"
   ]
  },
  {
   "cell_type": "markdown",
   "id": "8fec711c",
   "metadata": {},
   "source": [
    "It is evident from the above correlation matrix that the column V11 has the highest correlation with the Class(a positive correlation of 0.15). Therefore our target variable (Class) is highly dependent on this column"
   ]
  },
  {
   "cell_type": "markdown",
   "id": "c9d563b7",
   "metadata": {},
   "source": [
    "### Split data into separate training and test set "
   ]
  },
  {
   "cell_type": "code",
   "execution_count": 15,
   "id": "36feb3e1",
   "metadata": {},
   "outputs": [],
   "source": [
    "# split X and y into training and testing sets\n",
    "\n",
    "from sklearn.model_selection import train_test_split\n",
    "\n",
    "X_train, X_test, y_train, y_test = train_test_split(X, y, test_size = 0.3, random_state = 0)"
   ]
  },
  {
   "cell_type": "code",
   "execution_count": 16,
   "id": "b37b58d7",
   "metadata": {},
   "outputs": [
    {
     "data": {
      "text/plain": [
       "((199364, 30), (85443, 30))"
      ]
     },
     "execution_count": 16,
     "metadata": {},
     "output_type": "execute_result"
    }
   ],
   "source": [
    "# check the shape of X_train and X_test\n",
    "\n",
    "X_train.shape, X_test.shape"
   ]
  },
  {
   "cell_type": "code",
   "execution_count": 17,
   "id": "3ad72688",
   "metadata": {},
   "outputs": [
    {
     "data": {
      "text/plain": [
       "((199364,), (85443,))"
      ]
     },
     "execution_count": 17,
     "metadata": {},
     "output_type": "execute_result"
    }
   ],
   "source": [
    "# check the shape of y_train and y_test\n",
    "\n",
    "y_train.shape, y_test.shape"
   ]
  },
  {
   "cell_type": "markdown",
   "id": "41ad791d",
   "metadata": {},
   "source": [
    "### Feature engineering"
   ]
  },
  {
   "cell_type": "code",
   "execution_count": 18,
   "id": "6eb6a31e",
   "metadata": {},
   "outputs": [
    {
     "data": {
      "text/plain": [
       "Time      float64\n",
       "V1        float64\n",
       "V2        float64\n",
       "V3        float64\n",
       "V4        float64\n",
       "V5        float64\n",
       "V6        float64\n",
       "V7        float64\n",
       "V8        float64\n",
       "V9        float64\n",
       "V10       float64\n",
       "V11       float64\n",
       "V12       float64\n",
       "V13       float64\n",
       "V14       float64\n",
       "V15       float64\n",
       "V16       float64\n",
       "V17       float64\n",
       "V18       float64\n",
       "V19       float64\n",
       "V20       float64\n",
       "V21       float64\n",
       "V22       float64\n",
       "V23       float64\n",
       "V24       float64\n",
       "V25       float64\n",
       "V26       float64\n",
       "V27       float64\n",
       "V28       float64\n",
       "Amount    float64\n",
       "dtype: object"
      ]
     },
     "execution_count": 18,
     "metadata": {},
     "output_type": "execute_result"
    }
   ],
   "source": [
    "# check data types in X_train\n",
    "\n",
    "X_train.dtypes"
   ]
  },
  {
   "cell_type": "code",
   "execution_count": 19,
   "id": "79158416",
   "metadata": {},
   "outputs": [
    {
     "data": {
      "text/plain": [
       "['Time',\n",
       " 'V1',\n",
       " 'V2',\n",
       " 'V3',\n",
       " 'V4',\n",
       " 'V5',\n",
       " 'V6',\n",
       " 'V7',\n",
       " 'V8',\n",
       " 'V9',\n",
       " 'V10',\n",
       " 'V11',\n",
       " 'V12',\n",
       " 'V13',\n",
       " 'V14',\n",
       " 'V15',\n",
       " 'V16',\n",
       " 'V17',\n",
       " 'V18',\n",
       " 'V19',\n",
       " 'V20',\n",
       " 'V21',\n",
       " 'V22',\n",
       " 'V23',\n",
       " 'V24',\n",
       " 'V25',\n",
       " 'V26',\n",
       " 'V27',\n",
       " 'V28',\n",
       " 'Amount']"
      ]
     },
     "execution_count": 19,
     "metadata": {},
     "output_type": "execute_result"
    }
   ],
   "source": [
    "# display numerical variables\n",
    "\n",
    "numerical = [col for col in X_train.columns if X_train[col].dtypes != 'O']\n",
    "\n",
    "numerical"
   ]
  },
  {
   "cell_type": "code",
   "execution_count": 20,
   "id": "80f2013a",
   "metadata": {},
   "outputs": [
    {
     "data": {
      "text/plain": [
       "Time      0\n",
       "V1        0\n",
       "V2        0\n",
       "V3        0\n",
       "V4        0\n",
       "V5        0\n",
       "V6        0\n",
       "V7        0\n",
       "V8        0\n",
       "V9        0\n",
       "V10       0\n",
       "V11       0\n",
       "V12       0\n",
       "V13       0\n",
       "V14       0\n",
       "V15       0\n",
       "V16       0\n",
       "V17       0\n",
       "V18       0\n",
       "V19       0\n",
       "V20       0\n",
       "V21       0\n",
       "V22       0\n",
       "V23       0\n",
       "V24       0\n",
       "V25       0\n",
       "V26       0\n",
       "V27       0\n",
       "V28       0\n",
       "Amount    0\n",
       "dtype: int64"
      ]
     },
     "execution_count": 20,
     "metadata": {},
     "output_type": "execute_result"
    }
   ],
   "source": [
    "# check missing values in X_train\n",
    "\n",
    "X_train.isnull().sum()"
   ]
  },
  {
   "cell_type": "code",
   "execution_count": 21,
   "id": "a3ee8e71",
   "metadata": {},
   "outputs": [
    {
     "data": {
      "text/plain": [
       "Time      0\n",
       "V1        0\n",
       "V2        0\n",
       "V3        0\n",
       "V4        0\n",
       "V5        0\n",
       "V6        0\n",
       "V7        0\n",
       "V8        0\n",
       "V9        0\n",
       "V10       0\n",
       "V11       0\n",
       "V12       0\n",
       "V13       0\n",
       "V14       0\n",
       "V15       0\n",
       "V16       0\n",
       "V17       0\n",
       "V18       0\n",
       "V19       0\n",
       "V20       0\n",
       "V21       0\n",
       "V22       0\n",
       "V23       0\n",
       "V24       0\n",
       "V25       0\n",
       "V26       0\n",
       "V27       0\n",
       "V28       0\n",
       "Amount    0\n",
       "dtype: int64"
      ]
     },
     "execution_count": 21,
     "metadata": {},
     "output_type": "execute_result"
    }
   ],
   "source": [
    "# check missing values in X_test\n",
    "\n",
    "X_test.isnull().sum()"
   ]
  },
  {
   "cell_type": "markdown",
   "id": "b400d1d4",
   "metadata": {},
   "source": [
    "We can see that there are no missing values in X_train and X_test."
   ]
  },
  {
   "cell_type": "markdown",
   "id": "0966474a",
   "metadata": {},
   "source": [
    "### Addressing the Class-Imbalance issue"
   ]
  },
  {
   "cell_type": "code",
   "execution_count": 22,
   "id": "ec0c6302",
   "metadata": {},
   "outputs": [
    {
     "name": "stdout",
     "output_type": "stream",
     "text": [
      "Resampled shape of X:  (568630, 30)\n",
      "Resampled shape of y:  (568630,)\n",
      "Counter({0: 284315, 1: 284315})\n"
     ]
    }
   ],
   "source": [
    "# Address the Class-Imbalance issue using the SMOTE technique\n",
    "from imblearn.over_sampling import SMOTE\n",
    "X_resampled, y_resampled = SMOTE().fit_resample(X, y)\n",
    "print(\"Resampled shape of X: \", X_resampled.shape)\n",
    "print(\"Resampled shape of y: \", y_resampled.shape)\n",
    "value_counts = Counter(y_resampled)\n",
    "print(value_counts)\n",
    "(X_train, X_test, y_train, y_test) = train_test_split(X_resampled, y_resampled, test_size= 0.3, random_state= 42)"
   ]
  },
  {
   "cell_type": "markdown",
   "id": "526ae284",
   "metadata": {},
   "source": [
    "We can see that the data is now balanced"
   ]
  },
  {
   "cell_type": "markdown",
   "id": "1a26865b",
   "metadata": {},
   "source": [
    "### Feature scaling"
   ]
  },
  {
   "cell_type": "code",
   "execution_count": 23,
   "id": "d1c425a1",
   "metadata": {},
   "outputs": [],
   "source": [
    "# We use feature scaling to ensure that that the values in the data are scaled equally\n",
    "cols = X_train.columns\n",
    "\n",
    "from sklearn.preprocessing import RobustScaler\n",
    "\n",
    "scaler = RobustScaler()\n",
    "\n",
    "X_train = scaler.fit_transform(X_train)\n",
    "\n",
    "X_test = scaler.transform(X_test)"
   ]
  },
  {
   "cell_type": "code",
   "execution_count": 24,
   "id": "deda2d90",
   "metadata": {},
   "outputs": [],
   "source": [
    "X_train = pd.DataFrame(X_train, columns=[cols])"
   ]
  },
  {
   "cell_type": "code",
   "execution_count": 25,
   "id": "7ea3805b",
   "metadata": {},
   "outputs": [],
   "source": [
    "X_test = pd.DataFrame(X_test, columns=[cols])"
   ]
  },
  {
   "cell_type": "code",
   "execution_count": 26,
   "id": "734fab21",
   "metadata": {},
   "outputs": [
    {
     "data": {
      "text/html": [
       "<div>\n",
       "<style scoped>\n",
       "    .dataframe tbody tr th:only-of-type {\n",
       "        vertical-align: middle;\n",
       "    }\n",
       "\n",
       "    .dataframe tbody tr th {\n",
       "        vertical-align: top;\n",
       "    }\n",
       "\n",
       "    .dataframe thead tr th {\n",
       "        text-align: left;\n",
       "    }\n",
       "</style>\n",
       "<table border=\"1\" class=\"dataframe\">\n",
       "  <thead>\n",
       "    <tr>\n",
       "      <th></th>\n",
       "      <th>Time</th>\n",
       "      <th>V1</th>\n",
       "      <th>V2</th>\n",
       "      <th>V3</th>\n",
       "      <th>V4</th>\n",
       "      <th>V5</th>\n",
       "      <th>V6</th>\n",
       "      <th>V7</th>\n",
       "      <th>V8</th>\n",
       "      <th>V9</th>\n",
       "      <th>...</th>\n",
       "      <th>V20</th>\n",
       "      <th>V21</th>\n",
       "      <th>V22</th>\n",
       "      <th>V23</th>\n",
       "      <th>V24</th>\n",
       "      <th>V25</th>\n",
       "      <th>V26</th>\n",
       "      <th>V27</th>\n",
       "      <th>V28</th>\n",
       "      <th>Amount</th>\n",
       "    </tr>\n",
       "  </thead>\n",
       "  <tbody>\n",
       "    <tr>\n",
       "      <th>0</th>\n",
       "      <td>-0.390721</td>\n",
       "      <td>0.464020</td>\n",
       "      <td>-0.314458</td>\n",
       "      <td>0.214233</td>\n",
       "      <td>0.005756</td>\n",
       "      <td>0.275011</td>\n",
       "      <td>0.550895</td>\n",
       "      <td>0.211969</td>\n",
       "      <td>-0.024775</td>\n",
       "      <td>0.568209</td>\n",
       "      <td>...</td>\n",
       "      <td>-0.038146</td>\n",
       "      <td>-0.592246</td>\n",
       "      <td>-0.997760</td>\n",
       "      <td>-0.245451</td>\n",
       "      <td>-1.280096</td>\n",
       "      <td>0.604051</td>\n",
       "      <td>-0.775151</td>\n",
       "      <td>-0.024963</td>\n",
       "      <td>0.091826</td>\n",
       "      <td>0.826834</td>\n",
       "    </tr>\n",
       "    <tr>\n",
       "      <th>1</th>\n",
       "      <td>-0.245453</td>\n",
       "      <td>-0.036577</td>\n",
       "      <td>0.273659</td>\n",
       "      <td>-0.335779</td>\n",
       "      <td>0.472329</td>\n",
       "      <td>-0.981580</td>\n",
       "      <td>0.254865</td>\n",
       "      <td>-0.664949</td>\n",
       "      <td>0.074810</td>\n",
       "      <td>-0.466313</td>\n",
       "      <td>...</td>\n",
       "      <td>1.343209</td>\n",
       "      <td>-0.050342</td>\n",
       "      <td>0.066639</td>\n",
       "      <td>2.070317</td>\n",
       "      <td>-0.187870</td>\n",
       "      <td>-1.496638</td>\n",
       "      <td>-0.670859</td>\n",
       "      <td>0.762218</td>\n",
       "      <td>0.398306</td>\n",
       "      <td>1.866254</td>\n",
       "    </tr>\n",
       "    <tr>\n",
       "      <th>2</th>\n",
       "      <td>0.476795</td>\n",
       "      <td>-0.092292</td>\n",
       "      <td>-0.671105</td>\n",
       "      <td>0.283259</td>\n",
       "      <td>0.362502</td>\n",
       "      <td>1.449683</td>\n",
       "      <td>-0.131307</td>\n",
       "      <td>0.195921</td>\n",
       "      <td>-0.001338</td>\n",
       "      <td>-0.026166</td>\n",
       "      <td>...</td>\n",
       "      <td>0.303411</td>\n",
       "      <td>0.415367</td>\n",
       "      <td>0.819539</td>\n",
       "      <td>1.798333</td>\n",
       "      <td>0.869178</td>\n",
       "      <td>-2.398732</td>\n",
       "      <td>-0.652385</td>\n",
       "      <td>0.366159</td>\n",
       "      <td>1.356594</td>\n",
       "      <td>0.516513</td>\n",
       "    </tr>\n",
       "    <tr>\n",
       "      <th>3</th>\n",
       "      <td>0.847805</td>\n",
       "      <td>0.101997</td>\n",
       "      <td>-0.178690</td>\n",
       "      <td>0.576055</td>\n",
       "      <td>-0.228047</td>\n",
       "      <td>0.160620</td>\n",
       "      <td>0.860640</td>\n",
       "      <td>0.326204</td>\n",
       "      <td>0.069232</td>\n",
       "      <td>0.422931</td>\n",
       "      <td>...</td>\n",
       "      <td>0.123268</td>\n",
       "      <td>-0.000737</td>\n",
       "      <td>0.347942</td>\n",
       "      <td>0.286732</td>\n",
       "      <td>0.590621</td>\n",
       "      <td>-0.703945</td>\n",
       "      <td>-1.262124</td>\n",
       "      <td>0.290439</td>\n",
       "      <td>0.602596</td>\n",
       "      <td>0.672740</td>\n",
       "    </tr>\n",
       "    <tr>\n",
       "      <th>4</th>\n",
       "      <td>-0.086171</td>\n",
       "      <td>-0.045079</td>\n",
       "      <td>-0.482793</td>\n",
       "      <td>0.814603</td>\n",
       "      <td>0.094707</td>\n",
       "      <td>-0.141949</td>\n",
       "      <td>1.205459</td>\n",
       "      <td>0.094373</td>\n",
       "      <td>0.344101</td>\n",
       "      <td>0.688917</td>\n",
       "      <td>...</td>\n",
       "      <td>0.629976</td>\n",
       "      <td>-0.055624</td>\n",
       "      <td>0.495660</td>\n",
       "      <td>0.278928</td>\n",
       "      <td>0.189838</td>\n",
       "      <td>0.581437</td>\n",
       "      <td>-0.017982</td>\n",
       "      <td>0.017946</td>\n",
       "      <td>-0.051893</td>\n",
       "      <td>1.139145</td>\n",
       "    </tr>\n",
       "  </tbody>\n",
       "</table>\n",
       "<p>5 rows × 30 columns</p>\n",
       "</div>"
      ],
      "text/plain": [
       "       Time        V1        V2        V3        V4        V5        V6  \\\n",
       "0 -0.390721  0.464020 -0.314458  0.214233  0.005756  0.275011  0.550895   \n",
       "1 -0.245453 -0.036577  0.273659 -0.335779  0.472329 -0.981580  0.254865   \n",
       "2  0.476795 -0.092292 -0.671105  0.283259  0.362502  1.449683 -0.131307   \n",
       "3  0.847805  0.101997 -0.178690  0.576055 -0.228047  0.160620  0.860640   \n",
       "4 -0.086171 -0.045079 -0.482793  0.814603  0.094707 -0.141949  1.205459   \n",
       "\n",
       "         V7        V8        V9  ...       V20       V21       V22       V23  \\\n",
       "0  0.211969 -0.024775  0.568209  ... -0.038146 -0.592246 -0.997760 -0.245451   \n",
       "1 -0.664949  0.074810 -0.466313  ...  1.343209 -0.050342  0.066639  2.070317   \n",
       "2  0.195921 -0.001338 -0.026166  ...  0.303411  0.415367  0.819539  1.798333   \n",
       "3  0.326204  0.069232  0.422931  ...  0.123268 -0.000737  0.347942  0.286732   \n",
       "4  0.094373  0.344101  0.688917  ...  0.629976 -0.055624  0.495660  0.278928   \n",
       "\n",
       "        V24       V25       V26       V27       V28    Amount  \n",
       "0 -1.280096  0.604051 -0.775151 -0.024963  0.091826  0.826834  \n",
       "1 -0.187870 -1.496638 -0.670859  0.762218  0.398306  1.866254  \n",
       "2  0.869178 -2.398732 -0.652385  0.366159  1.356594  0.516513  \n",
       "3  0.590621 -0.703945 -1.262124  0.290439  0.602596  0.672740  \n",
       "4  0.189838  0.581437 -0.017982  0.017946 -0.051893  1.139145  \n",
       "\n",
       "[5 rows x 30 columns]"
      ]
     },
     "execution_count": 26,
     "metadata": {},
     "output_type": "execute_result"
    }
   ],
   "source": [
    "X_train.head()"
   ]
  },
  {
   "cell_type": "markdown",
   "id": "87318557",
   "metadata": {},
   "source": [
    "We now have X_train dataset ready to be fed into the classifiers. This will be done in the following section"
   ]
  },
  {
   "cell_type": "markdown",
   "id": "98ce61e6",
   "metadata": {},
   "source": [
    "### Model training"
   ]
  },
  {
   "cell_type": "code",
   "execution_count": 27,
   "id": "a8aa1515",
   "metadata": {},
   "outputs": [
    {
     "name": "stderr",
     "output_type": "stream",
     "text": [
      "C:\\Users\\Musa Masango\\anaconda3\\lib\\site-packages\\sklearn\\utils\\validation.py:1688: FutureWarning: Feature names only support names that are all strings. Got feature names with dtypes: ['tuple']. An error will be raised in 1.2.\n",
      "  warnings.warn(\n",
      "C:\\Users\\Musa Masango\\anaconda3\\lib\\site-packages\\sklearn\\linear_model\\_logistic.py:814: ConvergenceWarning: lbfgs failed to converge (status=1):\n",
      "STOP: TOTAL NO. of ITERATIONS REACHED LIMIT.\n",
      "\n",
      "Increase the number of iterations (max_iter) or scale the data as shown in:\n",
      "    https://scikit-learn.org/stable/modules/preprocessing.html\n",
      "Please also refer to the documentation for alternative solver options:\n",
      "    https://scikit-learn.org/stable/modules/linear_model.html#logistic-regression\n",
      "  n_iter_i = _check_optimize_result(\n",
      "C:\\Users\\Musa Masango\\anaconda3\\lib\\site-packages\\sklearn\\utils\\validation.py:1688: FutureWarning: Feature names only support names that are all strings. Got feature names with dtypes: ['tuple']. An error will be raised in 1.2.\n",
      "  warnings.warn(\n"
     ]
    },
    {
     "name": "stdout",
     "output_type": "stream",
     "text": [
      "              precision    recall  f1-score   support\n",
      "\n",
      "           0       0.97      0.99      0.98     85149\n",
      "           1       0.99      0.97      0.98     85440\n",
      "\n",
      "    accuracy                           0.98    170589\n",
      "   macro avg       0.98      0.98      0.98    170589\n",
      "weighted avg       0.98      0.98      0.98    170589\n",
      "\n",
      "98.04% Accurate\n"
     ]
    }
   ],
   "source": [
    "# train a logistic regression classifier on the training set\n",
    "from sklearn.linear_model import LogisticRegression\n",
    "\n",
    "\n",
    "# instantiate the model\n",
    "LR = LogisticRegression(max_iter=100)\n",
    "\n",
    "\n",
    "# fit the model\n",
    "LR.fit(X_train, y_train)\n",
    "\n",
    "# predict values using the test data\n",
    "y_pred_1 = LR.predict(X_test)\n",
    "\n",
    "#  prediction summary for the model\n",
    "print(classification_report(y_test, y_pred_1))\n",
    "\n",
    "# Accuracy score\n",
    "LR_SC = accuracy_score(y_pred_1,y_test)\n",
    "print(f\"{round(LR_SC*100,2)}% Accurate\")"
   ]
  },
  {
   "cell_type": "markdown",
   "id": "fce1ac63",
   "metadata": {},
   "source": [
    "Here, y_test are the true class labels and y_pred are the predicted class labels in the test-set."
   ]
  },
  {
   "cell_type": "code",
   "execution_count": 28,
   "id": "ce6e7c1c",
   "metadata": {},
   "outputs": [
    {
     "name": "stdout",
     "output_type": "stream",
     "text": [
      "Confusion matrix\n",
      "\n",
      " [[84419   730]\n",
      " [ 2608 82832]]\n",
      "\n",
      "True Positives(TP) =  84419\n",
      "\n",
      "True Negatives(TN) =  82832\n",
      "\n",
      "False Positives(FP) =  730\n",
      "\n",
      "False Negatives(FN) =  2608\n"
     ]
    }
   ],
   "source": [
    "from sklearn.metrics import confusion_matrix\n",
    "\n",
    "cm = confusion_matrix(y_test, y_pred_1)\n",
    "\n",
    "print('Confusion matrix\\n\\n', cm)\n",
    "\n",
    "print('\\nTrue Positives(TP) = ', cm[0,0])\n",
    "\n",
    "print('\\nTrue Negatives(TN) = ', cm[1,1])\n",
    "\n",
    "print('\\nFalse Positives(FP) = ', cm[0,1])\n",
    "\n",
    "print('\\nFalse Negatives(FN) = ', cm[1,0])"
   ]
  },
  {
   "cell_type": "code",
   "execution_count": 29,
   "id": "ea80321e",
   "metadata": {},
   "outputs": [
    {
     "data": {
      "text/plain": [
       "<AxesSubplot:>"
      ]
     },
     "execution_count": 29,
     "metadata": {},
     "output_type": "execute_result"
    },
    {
     "data": {
      "image/png": "[encoded data removed]",
      "text/plain": [
       "<Figure size 432x288 with 2 Axes>"
      ]
     },
     "metadata": {
      "needs_background": "light"
     },
     "output_type": "display_data"
    }
   ],
   "source": [
    "cm_matrix = pd.DataFrame(data=cm, columns=['Actual Positive:1', 'Actual Negative:0'], \n",
    "                                 index=['Predict Positive:1', 'Predict Negative:0'])\n",
    "sns.heatmap(cm_matrix, annot=True, fmt='d', cmap='YlGnBu')"
   ]
  },
  {
   "cell_type": "code",
   "execution_count": 30,
   "id": "8c771da2",
   "metadata": {},
   "outputs": [
    {
     "name": "stderr",
     "output_type": "stream",
     "text": [
      "C:\\Users\\Musa Masango\\anaconda3\\lib\\site-packages\\sklearn\\utils\\validation.py:1688: FutureWarning: Feature names only support names that are all strings. Got feature names with dtypes: ['tuple']. An error will be raised in 1.2.\n",
      "  warnings.warn(\n",
      "C:\\Users\\Musa Masango\\anaconda3\\lib\\site-packages\\sklearn\\utils\\validation.py:1688: FutureWarning: Feature names only support names that are all strings. Got feature names with dtypes: ['tuple']. An error will be raised in 1.2.\n",
      "  warnings.warn(\n"
     ]
    },
    {
     "name": "stdout",
     "output_type": "stream",
     "text": [
      "              precision    recall  f1-score   support\n",
      "\n",
      "           0       1.00      1.00      1.00     85149\n",
      "           1       1.00      1.00      1.00     85440\n",
      "\n",
      "    accuracy                           1.00    170589\n",
      "   macro avg       1.00      1.00      1.00    170589\n",
      "weighted avg       1.00      1.00      1.00    170589\n",
      "\n",
      "99.81% Accurate\n"
     ]
    }
   ],
   "source": [
    "# train a  decision tree classifier on the training set\n",
    "from sklearn.tree import DecisionTreeClassifier\n",
    "\n",
    "\n",
    "# instantiate the model\n",
    "DT = DecisionTreeClassifier()\n",
    "\n",
    "\n",
    "# fit the model\n",
    "DT.fit(X_train, y_train)\n",
    "\n",
    "#predict values using the test data\n",
    "y_pred_2 = DT.predict(X_test)\n",
    "\n",
    "#  prediction Summary by model\n",
    "print(classification_report(y_test, y_pred_2))\n",
    "\n",
    "# Accuracy score\n",
    "DT_SC = accuracy_score(y_pred_2,y_test)\n",
    "print(f\"{round(DT_SC*100,2)}% Accurate\")"
   ]
  },
  {
   "cell_type": "code",
   "execution_count": 31,
   "id": "20abfa1c",
   "metadata": {},
   "outputs": [
    {
     "name": "stdout",
     "output_type": "stream",
     "text": [
      "Confusion matrix\n",
      "\n",
      " [[84912   237]\n",
      " [   87 85353]]\n",
      "\n",
      "True Positives(TP) =  84912\n",
      "\n",
      "True Negatives(TN) =  85353\n",
      "\n",
      "False Positives(FP) =  237\n",
      "\n",
      "False Negatives(FN) =  87\n"
     ]
    }
   ],
   "source": [
    "from sklearn.metrics import confusion_matrix\n",
    "\n",
    "cm = confusion_matrix(y_test, y_pred_2)\n",
    "\n",
    "print('Confusion matrix\\n\\n', cm)\n",
    "\n",
    "print('\\nTrue Positives(TP) = ', cm[0,0])\n",
    "\n",
    "print('\\nTrue Negatives(TN) = ', cm[1,1])\n",
    "\n",
    "print('\\nFalse Positives(FP) = ', cm[0,1])\n",
    "\n",
    "print('\\nFalse Negatives(FN) = ', cm[1,0])"
   ]
  },
  {
   "cell_type": "code",
   "execution_count": 32,
   "id": "5481fa08",
   "metadata": {},
   "outputs": [
    {
     "data": {
      "text/plain": [
       "<AxesSubplot:>"
      ]
     },
     "execution_count": 32,
     "metadata": {},
     "output_type": "execute_result"
    },
    {
     "data": {
      "image/png": "[encoded data removed]",
      "text/plain": [
       "<Figure size 432x288 with 2 Axes>"
      ]
     },
     "metadata": {
      "needs_background": "light"
     },
     "output_type": "display_data"
    }
   ],
   "source": [
    "cm_matrix = pd.DataFrame(data=cm, columns=['Actual Positive:1', 'Actual Negative:0'], \n",
    "                                 index=['Predict Positive:1', 'Predict Negative:0'])\n",
    "sns.heatmap(cm_matrix, annot=True, fmt='d', cmap='YlGnBu')"
   ]
  },
  {
   "cell_type": "code",
   "execution_count": 33,
   "id": "b83a9585",
   "metadata": {},
   "outputs": [
    {
     "name": "stderr",
     "output_type": "stream",
     "text": [
      "C:\\Users\\Musa Masango\\anaconda3\\lib\\site-packages\\sklearn\\utils\\validation.py:1688: FutureWarning: Feature names only support names that are all strings. Got feature names with dtypes: ['tuple']. An error will be raised in 1.2.\n",
      "  warnings.warn(\n",
      "C:\\Users\\Musa Masango\\anaconda3\\lib\\site-packages\\sklearn\\utils\\validation.py:1688: FutureWarning: Feature names only support names that are all strings. Got feature names with dtypes: ['tuple']. An error will be raised in 1.2.\n",
      "  warnings.warn(\n"
     ]
    },
    {
     "name": "stdout",
     "output_type": "stream",
     "text": [
      "              precision    recall  f1-score   support\n",
      "\n",
      "           0       1.00      1.00      1.00     85149\n",
      "           1       1.00      1.00      1.00     85440\n",
      "\n",
      "    accuracy                           1.00    170589\n",
      "   macro avg       1.00      1.00      1.00    170589\n",
      "weighted avg       1.00      1.00      1.00    170589\n",
      "\n",
      "99.99% Accurate\n"
     ]
    }
   ],
   "source": [
    "# train a random forest classifier on the training set\n",
    "from sklearn.ensemble import RandomForestClassifier\n",
    "\n",
    "# instantiate the model\n",
    "RF = RandomForestClassifier()\n",
    "\n",
    "\n",
    "# fit the model\n",
    "RF.fit(X_train, y_train)\n",
    "\n",
    "# predict values using the test data\n",
    "y_pred_3 = RF.predict(X_test)\n",
    "\n",
    "#  prediction Summary by model\n",
    "print(classification_report(y_test, y_pred_3))\n",
    "\n",
    "# Accuracy score\n",
    "RF_SC = accuracy_score(y_pred_3,y_test)\n",
    "print(f\"{round(RF_SC*100,2)}% Accurate\")"
   ]
  },
  {
   "cell_type": "code",
   "execution_count": 34,
   "id": "ca3a538a",
   "metadata": {},
   "outputs": [
    {
     "name": "stdout",
     "output_type": "stream",
     "text": [
      "Confusion matrix\n",
      "\n",
      " [[85134    15]\n",
      " [    2 85438]]\n",
      "\n",
      "True Positives(TP) =  85134\n",
      "\n",
      "True Negatives(TN) =  85438\n",
      "\n",
      "False Positives(FP) =  15\n",
      "\n",
      "False Negatives(FN) =  2\n"
     ]
    }
   ],
   "source": [
    "from sklearn.metrics import confusion_matrix\n",
    "\n",
    "cm = confusion_matrix(y_test, y_pred_3)\n",
    "\n",
    "print('Confusion matrix\\n\\n', cm)\n",
    "\n",
    "print('\\nTrue Positives(TP) = ', cm[0,0])\n",
    "\n",
    "print('\\nTrue Negatives(TN) = ', cm[1,1])\n",
    "\n",
    "print('\\nFalse Positives(FP) = ', cm[0,1])\n",
    "\n",
    "print('\\nFalse Negatives(FN) = ', cm[1,0])"
   ]
  },
  {
   "cell_type": "code",
   "execution_count": 35,
   "id": "8ff41f9a",
   "metadata": {},
   "outputs": [
    {
     "data": {
      "text/plain": [
       "<AxesSubplot:>"
      ]
     },
     "execution_count": 35,
     "metadata": {},
     "output_type": "execute_result"
    },
    {
     "data": {
      "image/png": "[encoded data removed]",
      "text/plain": [
       "<Figure size 432x288 with 2 Axes>"
      ]
     },
     "metadata": {
      "needs_background": "light"
     },
     "output_type": "display_data"
    }
   ],
   "source": [
    "cm_matrix = pd.DataFrame(data=cm, columns=['Actual Positive:1', 'Actual Negative:0'], \n",
    "                                 index=['Predict Positive:1', 'Predict Negative:0'])\n",
    "sns.heatmap(cm_matrix, annot=True, fmt='d', cmap='YlGnBu')"
   ]
  },
  {
   "cell_type": "code",
   "execution_count": 36,
   "id": "476afff0",
   "metadata": {},
   "outputs": [
    {
     "name": "stderr",
     "output_type": "stream",
     "text": [
      "C:\\Users\\Musa Masango\\anaconda3\\lib\\site-packages\\sklearn\\utils\\validation.py:1688: FutureWarning: Feature names only support names that are all strings. Got feature names with dtypes: ['tuple']. An error will be raised in 1.2.\n",
      "  warnings.warn(\n",
      "C:\\Users\\Musa Masango\\anaconda3\\lib\\site-packages\\sklearn\\utils\\validation.py:1688: FutureWarning: Feature names only support names that are all strings. Got feature names with dtypes: ['tuple']. An error will be raised in 1.2.\n",
      "  warnings.warn(\n"
     ]
    },
    {
     "name": "stdout",
     "output_type": "stream",
     "text": [
      "              precision    recall  f1-score   support\n",
      "\n",
      "           0       1.00      1.00      1.00     85149\n",
      "           1       1.00      1.00      1.00     85440\n",
      "\n",
      "    accuracy                           1.00    170589\n",
      "   macro avg       1.00      1.00      1.00    170589\n",
      "weighted avg       1.00      1.00      1.00    170589\n",
      "\n",
      "99.84% Accurate\n"
     ]
    }
   ],
   "source": [
    "# train a KNN classifier on the training set\n",
    "from sklearn.neighbors import KNeighborsClassifier\n",
    "\n",
    "# instantiate the model\n",
    "KNN = KNeighborsClassifier()\n",
    "\n",
    "\n",
    "# fit the model\n",
    "KNN.fit(X_train, y_train)\n",
    "\n",
    "# predict values using the test data\n",
    "y_pred_4 = KNN.predict(X_test)\n",
    "\n",
    "#  prediction Summary by model\n",
    "print(classification_report(y_test, y_pred_4))\n",
    "\n",
    "# Accuracy score\n",
    "KNN_SC = accuracy_score(y_pred_4,y_test)\n",
    "print(f\"{round(KNN_SC*100,2)}% Accurate\")"
   ]
  },
  {
   "cell_type": "code",
   "execution_count": 37,
   "id": "665b2df7",
   "metadata": {},
   "outputs": [
    {
     "name": "stdout",
     "output_type": "stream",
     "text": [
      "Confusion matrix\n",
      "\n",
      " [[84884   265]\n",
      " [    0 85440]]\n",
      "\n",
      "True Positives(TP) =  84884\n",
      "\n",
      "True Negatives(TN) =  85440\n",
      "\n",
      "False Positives(FP) =  265\n",
      "\n",
      "False Negatives(FN) =  0\n"
     ]
    }
   ],
   "source": [
    "from sklearn.metrics import confusion_matrix\n",
    "\n",
    "cm = confusion_matrix(y_test, y_pred_4)\n",
    "\n",
    "print('Confusion matrix\\n\\n', cm)\n",
    "\n",
    "print('\\nTrue Positives(TP) = ', cm[0,0])\n",
    "\n",
    "print('\\nTrue Negatives(TN) = ', cm[1,1])\n",
    "\n",
    "print('\\nFalse Positives(FP) = ', cm[0,1])\n",
    "\n",
    "print('\\nFalse Negatives(FN) = ', cm[1,0])"
   ]
  },
  {
   "cell_type": "code",
   "execution_count": 38,
   "id": "01ed6278",
   "metadata": {},
   "outputs": [
    {
     "data": {
      "text/plain": [
       "<AxesSubplot:>"
      ]
     },
     "execution_count": 38,
     "metadata": {},
     "output_type": "execute_result"
    },
    {
     "data": {
      "image/png": "[encoded data removed]",
      "text/plain": [
       "<Figure size 432x288 with 2 Axes>"
      ]
     },
     "metadata": {
      "needs_background": "light"
     },
     "output_type": "display_data"
    }
   ],
   "source": [
    "cm_matrix = pd.DataFrame(data=cm, columns=['Actual Positive:1', 'Actual Negative:0'], \n",
    "                                 index=['Predict Positive:1', 'Predict Negative:0'])\n",
    "sns.heatmap(cm_matrix, annot=True, fmt='d', cmap='YlGnBu')"
   ]
  },
  {
   "cell_type": "code",
   "execution_count": 39,
   "id": "81bb416c",
   "metadata": {},
   "outputs": [
    {
     "name": "stderr",
     "output_type": "stream",
     "text": [
      "C:\\Users\\Musa Masango\\anaconda3\\lib\\site-packages\\sklearn\\utils\\validation.py:1688: FutureWarning: Feature names only support names that are all strings. Got feature names with dtypes: ['tuple']. An error will be raised in 1.2.\n",
      "  warnings.warn(\n",
      "C:\\Users\\Musa Masango\\anaconda3\\lib\\site-packages\\sklearn\\svm\\_base.py:1206: ConvergenceWarning: Liblinear failed to converge, increase the number of iterations.\n",
      "  warnings.warn(\n",
      "C:\\Users\\Musa Masango\\anaconda3\\lib\\site-packages\\sklearn\\utils\\validation.py:1688: FutureWarning: Feature names only support names that are all strings. Got feature names with dtypes: ['tuple']. An error will be raised in 1.2.\n",
      "  warnings.warn(\n"
     ]
    },
    {
     "name": "stdout",
     "output_type": "stream",
     "text": [
      "              precision    recall  f1-score   support\n",
      "\n",
      "           0       0.96      0.99      0.98     85149\n",
      "           1       0.99      0.96      0.98     85440\n",
      "\n",
      "    accuracy                           0.98    170589\n",
      "   macro avg       0.98      0.98      0.98    170589\n",
      "weighted avg       0.98      0.98      0.98    170589\n",
      "\n",
      "97.58% Accurate\n"
     ]
    }
   ],
   "source": [
    "# train a Linear SVM classifier on the training set\n",
    "from sklearn.svm import LinearSVC\n",
    "\n",
    "# instantiate the model\n",
    "LSVC = LinearSVC(C=1, max_iter=100)\n",
    "\n",
    "\n",
    "# fit the model\n",
    "LSVC.fit(X_train, y_train)\n",
    "# predict values using the test data\n",
    "y_pred_5 = LSVC.predict(X_test)\n",
    "\n",
    "#  prediction Summary by model\n",
    "print(classification_report(y_test, y_pred_5))\n",
    "\n",
    "# Accuracy score\n",
    "LSVC_SC = accuracy_score(y_pred_5,y_test)\n",
    "print(f\"{round(LSVC_SC*100,2)}% Accurate\")"
   ]
  },
  {
   "cell_type": "code",
   "execution_count": 40,
   "id": "0f88c7ed",
   "metadata": {},
   "outputs": [
    {
     "name": "stdout",
     "output_type": "stream",
     "text": [
      "Confusion matrix\n",
      "\n",
      " [[84172   977]\n",
      " [ 3153 82287]]\n",
      "\n",
      "True Positives(TP) =  84172\n",
      "\n",
      "True Negatives(TN) =  82287\n",
      "\n",
      "False Positives(FP) =  977\n",
      "\n",
      "False Negatives(FN) =  3153\n"
     ]
    }
   ],
   "source": [
    "from sklearn.metrics import confusion_matrix\n",
    "\n",
    "cm = confusion_matrix(y_test, y_pred_5)\n",
    "\n",
    "print('Confusion matrix\\n\\n', cm)\n",
    "\n",
    "print('\\nTrue Positives(TP) = ', cm[0,0])\n",
    "\n",
    "print('\\nTrue Negatives(TN) = ', cm[1,1])\n",
    "\n",
    "print('\\nFalse Positives(FP) = ', cm[0,1])\n",
    "\n",
    "print('\\nFalse Negatives(FN) = ', cm[1,0])"
   ]
  },
  {
   "cell_type": "code",
   "execution_count": 41,
   "id": "ce61de8e",
   "metadata": {},
   "outputs": [
    {
     "data": {
      "text/plain": [
       "<AxesSubplot:>"
      ]
     },
     "execution_count": 41,
     "metadata": {},
     "output_type": "execute_result"
    },
    {
     "data": {
      "image/png": "[encoded data removed]",
      "text/plain": [
       "<Figure size 432x288 with 2 Axes>"
      ]
     },
     "metadata": {
      "needs_background": "light"
     },
     "output_type": "display_data"
    }
   ],
   "source": [
    "cm_matrix = pd.DataFrame(data=cm, columns=['Actual Positive:1', 'Actual Negative:0'], \n",
    "                                 index=['Predict Positive:1', 'Predict Negative:0'])\n",
    "sns.heatmap(cm_matrix, annot=True, fmt='d', cmap='YlGnBu')"
   ]
  },
  {
   "cell_type": "code",
   "execution_count": 42,
   "id": "df79a4a4",
   "metadata": {},
   "outputs": [
    {
     "name": "stderr",
     "output_type": "stream",
     "text": [
      "C:\\Users\\Musa Masango\\anaconda3\\lib\\site-packages\\sklearn\\utils\\validation.py:1688: FutureWarning: Feature names only support names that are all strings. Got feature names with dtypes: ['tuple']. An error will be raised in 1.2.\n",
      "  warnings.warn(\n",
      "C:\\Users\\Musa Masango\\anaconda3\\lib\\site-packages\\sklearn\\utils\\validation.py:1688: FutureWarning: Feature names only support names that are all strings. Got feature names with dtypes: ['tuple']. An error will be raised in 1.2.\n",
      "  warnings.warn(\n"
     ]
    },
    {
     "name": "stdout",
     "output_type": "stream",
     "text": [
      "              precision    recall  f1-score   support\n",
      "\n",
      "           0       0.88      0.98      0.93     85149\n",
      "           1       0.97      0.87      0.92     85440\n",
      "\n",
      "    accuracy                           0.92    170589\n",
      "   macro avg       0.93      0.92      0.92    170589\n",
      "weighted avg       0.93      0.92      0.92    170589\n",
      "\n",
      "92.34% Accurate\n"
     ]
    }
   ],
   "source": [
    "# train a GaussianNB classifier on the training set\n",
    "from sklearn.naive_bayes import GaussianNB\n",
    "\n",
    "# instantiate the model\n",
    "GNB = GaussianNB()\n",
    "\n",
    "\n",
    "# fit the model\n",
    "GNB.fit(X_train, y_train)\n",
    "# predict values using the test data\n",
    "y_pred_6 = GNB.predict(X_test)\n",
    "\n",
    "#  prediction Summary by model\n",
    "print(classification_report(y_test, y_pred_6))\n",
    "\n",
    "# Accuracy score\n",
    "GNB_SC = accuracy_score(y_pred_6,y_test)\n",
    "print(f\"{round(GNB_SC*100,2)}% Accurate\")"
   ]
  },
  {
   "cell_type": "code",
   "execution_count": 43,
   "id": "071282e4",
   "metadata": {},
   "outputs": [
    {
     "name": "stdout",
     "output_type": "stream",
     "text": [
      "Confusion matrix\n",
      "\n",
      " [[83183  1966]\n",
      " [11103 74337]]\n",
      "\n",
      "True Positives(TP) =  83183\n",
      "\n",
      "True Negatives(TN) =  74337\n",
      "\n",
      "False Positives(FP) =  1966\n",
      "\n",
      "False Negatives(FN) =  11103\n"
     ]
    }
   ],
   "source": [
    "from sklearn.metrics import confusion_matrix\n",
    "\n",
    "cm = confusion_matrix(y_test, y_pred_6)\n",
    "\n",
    "print('Confusion matrix\\n\\n', cm)\n",
    "\n",
    "print('\\nTrue Positives(TP) = ', cm[0,0])\n",
    "\n",
    "print('\\nTrue Negatives(TN) = ', cm[1,1])\n",
    "\n",
    "print('\\nFalse Positives(FP) = ', cm[0,1])\n",
    "\n",
    "print('\\nFalse Negatives(FN) = ', cm[1,0])"
   ]
  },
  {
   "cell_type": "code",
   "execution_count": 44,
   "id": "2c5ebfc9",
   "metadata": {},
   "outputs": [
    {
     "data": {
      "text/plain": [
       "<AxesSubplot:>"
      ]
     },
     "execution_count": 44,
     "metadata": {},
     "output_type": "execute_result"
    },
    {
     "data": {
      "image/png": "[encoded data removed]",
      "text/plain": [
       "<Figure size 432x288 with 2 Axes>"
      ]
     },
     "metadata": {
      "needs_background": "light"
     },
     "output_type": "display_data"
    }
   ],
   "source": [
    "cm_matrix = pd.DataFrame(data=cm, columns=['Actual Positive:1', 'Actual Negative:0'], \n",
    "                                 index=['Predict Positive:1', 'Predict Negative:0'])\n",
    "sns.heatmap(cm_matrix, annot=True, fmt='d', cmap='YlGnBu')"
   ]
  },
  {
   "cell_type": "code",
   "execution_count": 45,
   "id": "a68a102f",
   "metadata": {},
   "outputs": [
    {
     "data": {
      "text/html": [
       "<div>\n",
       "<style scoped>\n",
       "    .dataframe tbody tr th:only-of-type {\n",
       "        vertical-align: middle;\n",
       "    }\n",
       "\n",
       "    .dataframe tbody tr th {\n",
       "        vertical-align: top;\n",
       "    }\n",
       "\n",
       "    .dataframe thead th {\n",
       "        text-align: right;\n",
       "    }\n",
       "</style>\n",
       "<table border=\"1\" class=\"dataframe\">\n",
       "  <thead>\n",
       "    <tr style=\"text-align: right;\">\n",
       "      <th></th>\n",
       "      <th>Models</th>\n",
       "      <th>Score</th>\n",
       "    </tr>\n",
       "  </thead>\n",
       "  <tbody>\n",
       "    <tr>\n",
       "      <th>5</th>\n",
       "      <td>Gaussian NB</td>\n",
       "      <td>92.338896</td>\n",
       "    </tr>\n",
       "    <tr>\n",
       "      <th>4</th>\n",
       "      <td>Linear SVM</td>\n",
       "      <td>97.578976</td>\n",
       "    </tr>\n",
       "    <tr>\n",
       "      <th>0</th>\n",
       "      <td>Logistic Regression</td>\n",
       "      <td>98.043250</td>\n",
       "    </tr>\n",
       "    <tr>\n",
       "      <th>1</th>\n",
       "      <td>Decision Tree</td>\n",
       "      <td>99.810070</td>\n",
       "    </tr>\n",
       "    <tr>\n",
       "      <th>3</th>\n",
       "      <td>KNN</td>\n",
       "      <td>99.844656</td>\n",
       "    </tr>\n",
       "    <tr>\n",
       "      <th>2</th>\n",
       "      <td>Random Forest</td>\n",
       "      <td>99.990035</td>\n",
       "    </tr>\n",
       "  </tbody>\n",
       "</table>\n",
       "</div>"
      ],
      "text/plain": [
       "                Models      Score\n",
       "5          Gaussian NB  92.338896\n",
       "4           Linear SVM  97.578976\n",
       "0  Logistic Regression  98.043250\n",
       "1        Decision Tree  99.810070\n",
       "3                  KNN  99.844656\n",
       "2        Random Forest  99.990035"
      ]
     },
     "execution_count": 45,
     "metadata": {},
     "output_type": "execute_result"
    }
   ],
   "source": [
    "score = [LR_SC*100,DT_SC*100,RF_SC*100,KNN_SC*100,LSVC_SC*100,GNB_SC*100]\n",
    "Models = pd.DataFrame({\n",
    "    'Models': [\"Logistic Regression\",\"Decision Tree\",\"Random Forest\", \"KNN\", \"Linear SVM\", \"Gaussian NB\"],\n",
    "    'Score': score})\n",
    "Models.sort_values('Score', ascending=True)"
   ]
  },
  {
   "cell_type": "markdown",
   "id": "1b550db2",
   "metadata": {},
   "source": [
    "We can see that the best performing algorithm is the RandomForest with an accuracy score of 99%"
   ]
  },
  {
   "cell_type": "markdown",
   "id": "5a45d724",
   "metadata": {},
   "source": [
    "### ROC Curve"
   ]
  },
  {
   "cell_type": "code",
   "execution_count": 46,
   "id": "ba937595",
   "metadata": {},
   "outputs": [
    {
     "data": {
      "image/png": "[encoded data removed]",
      "text/plain": [
       "<Figure size 432x288 with 1 Axes>"
      ]
     },
     "metadata": {
      "needs_background": "light"
     },
     "output_type": "display_data"
    },
    {
     "data": {
      "text/plain": [
       "<Figure size 432x288 with 0 Axes>"
      ]
     },
     "metadata": {},
     "output_type": "display_data"
    }
   ],
   "source": [
    "# plot ROC Curve for the logistic regression classifier\n",
    "\n",
    "from sklearn.metrics import RocCurveDisplay\n",
    "\n",
    "RocCurveDisplay.from_predictions(y_test, y_pred_1)\n",
    "\n",
    "plt.title('ROC curve for Logistic regression Classifier for Predicting Fraud')\n",
    "\n",
    "plt.xlabel('False Positive Rate (1 - Specificity)')\n",
    "\n",
    "plt.ylabel('True Positive Rate (Sensitivity)')\n",
    "\n",
    "plt.figure(figsize=(6,4))\n",
    "\n",
    "plt.show()"
   ]
  },
  {
   "cell_type": "code",
   "execution_count": 47,
   "id": "4ef5d309",
   "metadata": {},
   "outputs": [
    {
     "data": {
      "image/png": "[encoded data removed]",
      "text/plain": [
       "<Figure size 432x288 with 1 Axes>"
      ]
     },
     "metadata": {
      "needs_background": "light"
     },
     "output_type": "display_data"
    },
    {
     "data": {
      "text/plain": [
       "<Figure size 432x288 with 0 Axes>"
      ]
     },
     "metadata": {},
     "output_type": "display_data"
    }
   ],
   "source": [
    "# plot ROC Curve for the decision tree classifier\n",
    "\n",
    "from sklearn.metrics import RocCurveDisplay\n",
    "\n",
    "RocCurveDisplay.from_predictions(y_test, y_pred_2)\n",
    "\n",
    "plt.title('ROC curve for Decision tree Classifier for Predicting Fraud')\n",
    "\n",
    "plt.xlabel('False Positive Rate (1 - Specificity)')\n",
    "\n",
    "plt.ylabel('True Positive Rate (Sensitivity)')\n",
    "\n",
    "plt.figure(figsize=(6,4))\n",
    "\n",
    "plt.show()"
   ]
  },
  {
   "cell_type": "markdown",
   "id": "c6cc15fc",
   "metadata": {},
   "source": [
    "ROC curve help us to choose a threshold level that balances sensitivity and specificity for a particular context."
   ]
  },
  {
   "cell_type": "code",
   "execution_count": 48,
   "id": "af5a5829",
   "metadata": {},
   "outputs": [
    {
     "data": {
      "image/png": "[encoded data removed]",
      "text/plain": [
       "<Figure size 432x288 with 1 Axes>"
      ]
     },
     "metadata": {
      "needs_background": "light"
     },
     "output_type": "display_data"
    },
    {
     "data": {
      "text/plain": [
       "<Figure size 432x288 with 0 Axes>"
      ]
     },
     "metadata": {},
     "output_type": "display_data"
    }
   ],
   "source": [
    "# plot ROC Curve for the random forest classifier\n",
    "\n",
    "from sklearn.metrics import RocCurveDisplay\n",
    "\n",
    "RocCurveDisplay.from_predictions(y_test, y_pred_3)\n",
    "\n",
    "plt.title('ROC curve for Random forest Classifier for Predicting Fraud')\n",
    "\n",
    "plt.xlabel('False Positive Rate (1 - Specificity)')\n",
    "\n",
    "plt.ylabel('True Positive Rate (Sensitivity)')\n",
    "\n",
    "plt.figure(figsize=(6,4))\n",
    "\n",
    "plt.show()"
   ]
  },
  {
   "cell_type": "code",
   "execution_count": 49,
   "id": "d180f8a0",
   "metadata": {},
   "outputs": [
    {
     "data": {
      "image/png": "[encoded data removed]",
      "text/plain": [
       "<Figure size 432x288 with 1 Axes>"
      ]
     },
     "metadata": {
      "needs_background": "light"
     },
     "output_type": "display_data"
    },
    {
     "data": {
      "text/plain": [
       "<Figure size 432x288 with 0 Axes>"
      ]
     },
     "metadata": {},
     "output_type": "display_data"
    }
   ],
   "source": [
    "# plot ROC Curve for the KNN classifier\n",
    "\n",
    "from sklearn.metrics import RocCurveDisplay\n",
    "\n",
    "RocCurveDisplay.from_predictions(y_test, y_pred_4)\n",
    "\n",
    "plt.title('ROC curve for KNN Classifier for Predicting Fraud')\n",
    "\n",
    "plt.xlabel('False Positive Rate (1 - Specificity)')\n",
    "\n",
    "plt.ylabel('True Positive Rate (Sensitivity)')\n",
    "\n",
    "plt.figure(figsize=(6,4))\n",
    "\n",
    "plt.show()"
   ]
  },
  {
   "cell_type": "code",
   "execution_count": 50,
   "id": "c2d47869",
   "metadata": {},
   "outputs": [
    {
     "data": {
      "image/png": "[encoded data removed]",
      "text/plain": [
       "<Figure size 432x288 with 1 Axes>"
      ]
     },
     "metadata": {
      "needs_background": "light"
     },
     "output_type": "display_data"
    },
    {
     "data": {
      "text/plain": [
       "<Figure size 432x288 with 0 Axes>"
      ]
     },
     "metadata": {},
     "output_type": "display_data"
    }
   ],
   "source": [
    "# plot ROC Curve for the Linear SVM classifier\n",
    "\n",
    "from sklearn.metrics import RocCurveDisplay\n",
    "\n",
    "RocCurveDisplay.from_predictions(y_test, y_pred_5)\n",
    "\n",
    "plt.title('ROC curve for Linear SVM Classifier for Predicting Fraud')\n",
    "\n",
    "plt.xlabel('False Positive Rate (1 - Specificity)')\n",
    "\n",
    "plt.ylabel('True Positive Rate (Sensitivity)')\n",
    "\n",
    "plt.figure(figsize=(6,4))\n",
    "\n",
    "plt.show()"
   ]
  },
  {
   "cell_type": "code",
   "execution_count": 51,
   "id": "63ba8460",
   "metadata": {},
   "outputs": [
    {
     "data": {
      "image/png": "[encoded data removed]",
      "text/plain": [
       "<Figure size 432x288 with 1 Axes>"
      ]
     },
     "metadata": {
      "needs_background": "light"
     },
     "output_type": "display_data"
    },
    {
     "data": {
      "text/plain": [
       "<Figure size 432x288 with 0 Axes>"
      ]
     },
     "metadata": {},
     "output_type": "display_data"
    }
   ],
   "source": [
    "# plot ROC Curve for the gaussian naive bayes classifier\n",
    "\n",
    "from sklearn.metrics import RocCurveDisplay\n",
    "\n",
    "RocCurveDisplay.from_predictions(y_test, y_pred_6)\n",
    "\n",
    "plt.title('ROC curve for Gaussian Naive Bayes Classifier for Predicting Fraud')\n",
    "\n",
    "plt.xlabel('False Positive Rate (1 - Specificity)')\n",
    "\n",
    "plt.ylabel('True Positive Rate (Sensitivity)')\n",
    "\n",
    "plt.figure(figsize=(6,4))\n",
    "\n",
    "plt.show()"
   ]
  },
  {
   "cell_type": "markdown",
   "id": "1b9b51bf",
   "metadata": {},
   "source": [
    "Interpretation :\n",
    "1. ROC AUC is a single number summary of classifier performance. The higher the value, the better the classifier.\n",
    "2. OC AUC of our model approaches towards 1. So, we can conclude that our classifiers does a good job in predicting whether a transcation is genuine or fraudulent."
   ]
  },
  {
   "cell_type": "code",
   "execution_count": null,
   "id": "ac4c4413",
   "metadata": {},
   "outputs": [],
   "source": []
  }
 ],
 "metadata": {
  "kernelspec": {
   "display_name": "Python 3 (ipykernel)",
   "language": "python",
   "name": "python3"
  },
  "language_info": {
   "codemirror_mode": {
    "name": "ipython",
    "version": 3
   },
   "file_extension": ".py",
   "mimetype": "text/x-python",
   "name": "python",
   "nbconvert_exporter": "python",
   "pygments_lexer": "ipython3",
   "version": "3.9.12"
  }
 },
 "nbformat": 4,
 "nbformat_minor": 5
}
